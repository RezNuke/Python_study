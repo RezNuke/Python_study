{
 "cells": [
  {
   "cell_type": "code",
   "execution_count": 42,
   "id": "78bd8317",
   "metadata": {},
   "outputs": [
    {
     "name": "stdout",
     "output_type": "stream",
     "text": [
      "1\n",
      "Спартак;9;Зенит;10\n",
      "['Спартак', '9', 'Зенит', '10']\n",
      "Спартак:1 0 0 1 0\n",
      "Зенит:1 1 0 0 3\n"
     ]
    }
   ],
   "source": [
    "#  Функция принимает строку '[Спартак;9;Зенит;10]' \n",
    "#  и возвращает ключ команды, которая выиграла\n",
    "def match_result(a):\n",
    "    if int(a[1]) > int(a[3]):\n",
    "        return a[0]\n",
    "    elif int(a[1]) < int(a[3]):\n",
    "        return a[2]\n",
    "    else: \n",
    "        return 'Draw' \n",
    "\n",
    "#  Функция изменяет результаты команд\n",
    "def match_point(d, res, lst):\n",
    "    if res == \"Draw\":\n",
    "        d[s[0]][0]  += 1  # Увел. кол-во игр\n",
    "        d[s[2]][0]  += 1  # Увел. кол-во игр\n",
    "        d[s[0]][2]  += 1  # Увел. кол-во ничьих\n",
    "        d[s[2]][2]  += 1  # Увел. кол-во ничьих\n",
    "        d[s[0]][4]  += 1  # Увел. число очков\n",
    "        d[s[2]][4]  += 1  # Увел. число очков\n",
    "    elif res != 'Draw':\n",
    "        for lst_el in lst[::2]:\n",
    "            if lst_el == res:\n",
    "                d[lst_el][0]  += 1  # Увел. кол-во игр\n",
    "                d[lst_el][1]  += 1  # Увел. побед\n",
    "                d[lst_el][4]  += 3  # Увел. число очков    \n",
    "            else:\n",
    "                d[lst_el][0]  += 1  # Увел. кол-во игр\n",
    "                d[lst_el][3]  += 1  # Увел. проигрышей \n",
    "        \n",
    "#  Функция формирует словарь команд\n",
    "def teams(d, lst):\n",
    "    for j in lst[::2]:     \n",
    "        if j not in stat:\n",
    "            d[j] = [0, 0, 0, 0, 0]  # [Matches, win, draw, lose, point]\n",
    "\n",
    "    \n",
    "stat = dict() \n",
    "\n",
    "for i in range(int(input())):\n",
    "    s = input().split(';')\n",
    "    teams(stat, s)\n",
    "    match_point(stat, match_result(s), s)\n",
    "                  \n",
    "for key, value in stat.items():\n",
    "    print(key + ':' + str(value).strip('[]').replace(',',''))    \n",
    "    "
   ]
  }
 ],
 "metadata": {
  "kernelspec": {
   "display_name": "Python 3 (ipykernel)",
   "language": "python",
   "name": "python3"
  },
  "language_info": {
   "codemirror_mode": {
    "name": "ipython",
    "version": 3
   },
   "file_extension": ".py",
   "mimetype": "text/x-python",
   "name": "python",
   "nbconvert_exporter": "python",
   "pygments_lexer": "ipython3",
   "version": "3.9.7"
  }
 },
 "nbformat": 4,
 "nbformat_minor": 5
}
