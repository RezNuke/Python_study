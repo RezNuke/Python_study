{
 "cells": [
  {
   "cell_type": "markdown",
   "id": "62ba0a17",
   "metadata": {},
   "source": [
    "# Операторы, Переменные, Условные конструкции"
   ]
  },
  {
   "cell_type": "markdown",
   "id": "24aaf02e",
   "metadata": {},
   "source": [
    "## Работа с целыми числами"
   ]
  },
  {
   "cell_type": "code",
   "execution_count": 72,
   "id": "0bc6cdf9",
   "metadata": {},
   "outputs": [
    {
     "data": {
      "text/plain": [
       "5"
      ]
     },
     "execution_count": 72,
     "metadata": {},
     "output_type": "execute_result"
    }
   ],
   "source": [
    "3 + 2"
   ]
  },
  {
   "cell_type": "code",
   "execution_count": 73,
   "id": "08151a6d",
   "metadata": {},
   "outputs": [
    {
     "data": {
      "text/plain": [
       "1.0"
      ]
     },
     "execution_count": 73,
     "metadata": {},
     "output_type": "execute_result"
    }
   ],
   "source": [
    "3 / 3"
   ]
  },
  {
   "cell_type": "code",
   "execution_count": 74,
   "id": "29081d66",
   "metadata": {},
   "outputs": [
    {
     "data": {
      "text/plain": [
       "1"
      ]
     },
     "execution_count": 74,
     "metadata": {},
     "output_type": "execute_result"
    }
   ],
   "source": [
    "3 % 2"
   ]
  },
  {
   "cell_type": "code",
   "execution_count": 75,
   "id": "a4be4842",
   "metadata": {},
   "outputs": [
    {
     "data": {
      "text/plain": [
       "2"
      ]
     },
     "execution_count": 75,
     "metadata": {},
     "output_type": "execute_result"
    }
   ],
   "source": [
    "5 // 2"
   ]
  },
  {
   "cell_type": "code",
   "execution_count": 76,
   "id": "2730d033",
   "metadata": {},
   "outputs": [
    {
     "data": {
      "text/plain": [
       "11"
      ]
     },
     "execution_count": 76,
     "metadata": {},
     "output_type": "execute_result"
    }
   ],
   "source": [
    "3 * 2 + 5"
   ]
  },
  {
   "cell_type": "code",
   "execution_count": 77,
   "id": "5eb7ca6d",
   "metadata": {},
   "outputs": [
    {
     "data": {
      "text/plain": [
       "12345554321"
      ]
     },
     "execution_count": 77,
     "metadata": {},
     "output_type": "execute_result"
    }
   ],
   "source": [
    "11111 * 1111111"
   ]
  },
  {
   "cell_type": "code",
   "execution_count": 78,
   "id": "f9654d27",
   "metadata": {},
   "outputs": [
    {
     "data": {
      "text/plain": [
       "7"
      ]
     },
     "execution_count": 78,
     "metadata": {},
     "output_type": "execute_result"
    }
   ],
   "source": [
    "42 // 8 + 42 % 8"
   ]
  },
  {
   "cell_type": "code",
   "execution_count": 79,
   "id": "cf9fe99b",
   "metadata": {},
   "outputs": [
    {
     "data": {
      "text/plain": [
       "-21.0"
      ]
     },
     "execution_count": 79,
     "metadata": {},
     "output_type": "execute_result"
    }
   ],
   "source": [
    "42 / (4 + 2 * (-3))"
   ]
  },
  {
   "cell_type": "code",
   "execution_count": 80,
   "id": "cd556b9e",
   "metadata": {},
   "outputs": [
    {
     "data": {
      "text/plain": [
       "8"
      ]
     },
     "execution_count": 80,
     "metadata": {},
     "output_type": "execute_result"
    }
   ],
   "source": [
    "2 ** 3"
   ]
  },
  {
   "cell_type": "code",
   "execution_count": 81,
   "id": "68ff7c3b",
   "metadata": {},
   "outputs": [
    {
     "data": {
      "text/plain": [
       "18064773765607550801425251468864907833685590016"
      ]
     },
     "execution_count": 81,
     "metadata": {},
     "output_type": "execute_result"
    }
   ],
   "source": [
    "2014 ** 14"
   ]
  },
  {
   "cell_type": "markdown",
   "id": "39f72c7b",
   "metadata": {},
   "source": [
    "## Работа с вещественными числами"
   ]
  },
  {
   "cell_type": "code",
   "execution_count": 82,
   "id": "81e4c53b",
   "metadata": {},
   "outputs": [
    {
     "data": {
      "text/plain": [
       "2.3"
      ]
     },
     "execution_count": 82,
     "metadata": {},
     "output_type": "execute_result"
    }
   ],
   "source": [
    "2.3"
   ]
  },
  {
   "cell_type": "code",
   "execution_count": 83,
   "id": "2c852286",
   "metadata": {},
   "outputs": [
    {
     "data": {
      "text/plain": [
       "1.3"
      ]
     },
     "execution_count": 83,
     "metadata": {},
     "output_type": "execute_result"
    }
   ],
   "source": [
    "0.5 + 0.8"
   ]
  },
  {
   "cell_type": "code",
   "execution_count": 84,
   "id": "5c1964d2",
   "metadata": {},
   "outputs": [
    {
     "data": {
      "text/plain": [
       "1.6666666666666667"
      ]
     },
     "execution_count": 84,
     "metadata": {},
     "output_type": "execute_result"
    }
   ],
   "source": [
    "5 / 3"
   ]
  },
  {
   "cell_type": "code",
   "execution_count": 85,
   "id": "9f3258ea",
   "metadata": {},
   "outputs": [
    {
     "data": {
      "text/plain": [
       "0.8999999999999999"
      ]
     },
     "execution_count": 85,
     "metadata": {},
     "output_type": "execute_result"
    }
   ],
   "source": [
    "0.3 + 0.3 + 0.3"
   ]
  },
  {
   "cell_type": "code",
   "execution_count": 86,
   "id": "db9982c0",
   "metadata": {},
   "outputs": [
    {
     "data": {
      "text/plain": [
       "0.8999999999999999"
      ]
     },
     "execution_count": 86,
     "metadata": {},
     "output_type": "execute_result"
    }
   ],
   "source": [
    "0.3 * 3"
   ]
  },
  {
   "cell_type": "code",
   "execution_count": 87,
   "id": "e79ee0bd",
   "metadata": {},
   "outputs": [
    {
     "data": {
      "text/plain": [
       "32"
      ]
     },
     "execution_count": 87,
     "metadata": {},
     "output_type": "execute_result"
    }
   ],
   "source": [
    "2 ** 5"
   ]
  },
  {
   "cell_type": "code",
   "execution_count": 88,
   "id": "e0c53903",
   "metadata": {},
   "outputs": [
    {
     "data": {
      "text/plain": [
       "1.51657508881031"
      ]
     },
     "execution_count": 88,
     "metadata": {},
     "output_type": "execute_result"
    }
   ],
   "source": [
    "2.3 ** 0.5"
   ]
  },
  {
   "cell_type": "code",
   "execution_count": 89,
   "id": "b2cf7267",
   "metadata": {},
   "outputs": [
    {
     "data": {
      "text/plain": [
       "0.5"
      ]
     },
     "execution_count": 89,
     "metadata": {},
     "output_type": "execute_result"
    }
   ],
   "source": [
    "5E-1"
   ]
  },
  {
   "cell_type": "code",
   "execution_count": 90,
   "id": "e7bc0588",
   "metadata": {},
   "outputs": [
    {
     "data": {
      "text/plain": [
       "1000.0"
      ]
     },
     "execution_count": 90,
     "metadata": {},
     "output_type": "execute_result"
    }
   ],
   "source": [
    "10E+2"
   ]
  },
  {
   "cell_type": "code",
   "execution_count": 91,
   "id": "a23c9249",
   "metadata": {},
   "outputs": [
    {
     "data": {
      "text/plain": [
       "1000.0"
      ]
     },
     "execution_count": 91,
     "metadata": {},
     "output_type": "execute_result"
    }
   ],
   "source": [
    "10E2"
   ]
  },
  {
   "cell_type": "code",
   "execution_count": 92,
   "id": "f61da81d",
   "metadata": {},
   "outputs": [
    {
     "data": {
      "text/plain": [
       "1234.5"
      ]
     },
     "execution_count": 92,
     "metadata": {},
     "output_type": "execute_result"
    }
   ],
   "source": [
    "1.2345E3"
   ]
  },
  {
   "cell_type": "code",
   "execution_count": 93,
   "id": "6a0dc9f6",
   "metadata": {},
   "outputs": [
    {
     "data": {
      "text/plain": [
       "0.0012345"
      ]
     },
     "execution_count": 93,
     "metadata": {},
     "output_type": "execute_result"
    }
   ],
   "source": [
    "1.2345E-3"
   ]
  },
  {
   "cell_type": "code",
   "execution_count": 94,
   "id": "ca6c1183",
   "metadata": {},
   "outputs": [
    {
     "data": {
      "text/plain": [
       "1.806477376560755e+46"
      ]
     },
     "execution_count": 94,
     "metadata": {},
     "output_type": "execute_result"
    }
   ],
   "source": [
    "2014.0 ** 14"
   ]
  },
  {
   "cell_type": "code",
   "execution_count": 95,
   "id": "b9eb02b2",
   "metadata": {},
   "outputs": [
    {
     "data": {
      "text/plain": [
       "2.3333333333333335"
      ]
     },
     "execution_count": 95,
     "metadata": {},
     "output_type": "execute_result"
    }
   ],
   "source": [
    "7 / 3"
   ]
  },
  {
   "cell_type": "code",
   "execution_count": 96,
   "id": "ddcf7a10",
   "metadata": {},
   "outputs": [
    {
     "data": {
      "text/plain": [
       "2"
      ]
     },
     "execution_count": 96,
     "metadata": {},
     "output_type": "execute_result"
    }
   ],
   "source": [
    "7 // 3"
   ]
  },
  {
   "cell_type": "markdown",
   "id": "919b45ef",
   "metadata": {},
   "source": [
    "## Типы данных"
   ]
  },
  {
   "cell_type": "markdown",
   "id": "b2dfcb85",
   "metadata": {},
   "source": [
    "Неизменяемые типы:\n",
    "целые числа - int\n",
    "вещественные цисла = float\n",
    "логические - bool\n",
    "строковые - str"
   ]
  },
  {
   "cell_type": "markdown",
   "id": "3fd48763",
   "metadata": {},
   "source": [
    "### Изменение типа данных"
   ]
  },
  {
   "cell_type": "code",
   "execution_count": 97,
   "id": "0404dc2c",
   "metadata": {},
   "outputs": [
    {
     "data": {
      "text/plain": [
       "2"
      ]
     },
     "execution_count": 97,
     "metadata": {},
     "output_type": "execute_result"
    }
   ],
   "source": [
    "int(2.99)"
   ]
  },
  {
   "cell_type": "code",
   "execution_count": 98,
   "id": "f4026928",
   "metadata": {},
   "outputs": [
    {
     "data": {
      "text/plain": [
       "-1"
      ]
     },
     "execution_count": 98,
     "metadata": {},
     "output_type": "execute_result"
    }
   ],
   "source": [
    "int(-1.6)"
   ]
  },
  {
   "cell_type": "code",
   "execution_count": 99,
   "id": "788b4838",
   "metadata": {},
   "outputs": [
    {
     "data": {
      "text/plain": [
       "89"
      ]
     },
     "execution_count": 99,
     "metadata": {},
     "output_type": "execute_result"
    }
   ],
   "source": [
    "9 ** 19 - int(float(9 ** 19))"
   ]
  },
  {
   "cell_type": "code",
   "execution_count": 100,
   "id": "e13635f8",
   "metadata": {},
   "outputs": [
    {
     "data": {
      "text/plain": [
       "0"
      ]
     },
     "execution_count": 100,
     "metadata": {},
     "output_type": "execute_result"
    }
   ],
   "source": [
    "9 ** 19 - int((9 ** 19))"
   ]
  },
  {
   "cell_type": "markdown",
   "id": "e5fd6307",
   "metadata": {},
   "source": [
    "### Определение типа данных"
   ]
  },
  {
   "cell_type": "code",
   "execution_count": 101,
   "id": "73b626c1",
   "metadata": {},
   "outputs": [
    {
     "data": {
      "text/plain": [
       "float"
      ]
     },
     "execution_count": 101,
     "metadata": {},
     "output_type": "execute_result"
    }
   ],
   "source": [
    "type(7.0)"
   ]
  },
  {
   "cell_type": "code",
   "execution_count": 102,
   "id": "96ffa5d5",
   "metadata": {},
   "outputs": [
    {
     "data": {
      "text/plain": [
       "int"
      ]
     },
     "execution_count": 102,
     "metadata": {},
     "output_type": "execute_result"
    }
   ],
   "source": [
    "type(10)"
   ]
  },
  {
   "cell_type": "code",
   "execution_count": 103,
   "id": "2f577b93",
   "metadata": {},
   "outputs": [
    {
     "data": {
      "text/plain": [
       "int"
      ]
     },
     "execution_count": 103,
     "metadata": {},
     "output_type": "execute_result"
    }
   ],
   "source": [
    "type(1)"
   ]
  },
  {
   "cell_type": "markdown",
   "id": "ff4c8494",
   "metadata": {},
   "source": [
    "## Переменные"
   ]
  },
  {
   "cell_type": "code",
   "execution_count": 104,
   "id": "2f0b5a73",
   "metadata": {
    "scrolled": false
   },
   "outputs": [
    {
     "name": "stdout",
     "output_type": "stream",
     "text": [
      "5\n",
      "--\n",
      "9\n"
     ]
    }
   ],
   "source": [
    "a = 2\n",
    "b = 3\n",
    "print(a + b)\n",
    "print('--')\n",
    "a = 6\n",
    "print(a + b)\n"
   ]
  },
  {
   "cell_type": "code",
   "execution_count": 105,
   "id": "c3b8df0a",
   "metadata": {},
   "outputs": [
    {
     "name": "stdout",
     "output_type": "stream",
     "text": [
      "6\n"
     ]
    }
   ],
   "source": [
    "b = 3\n",
    "b = b + 3\n",
    "print(b)"
   ]
  },
  {
   "cell_type": "code",
   "execution_count": 116,
   "id": "5ee83e5e",
   "metadata": {},
   "outputs": [
    {
     "ename": "SyntaxError",
     "evalue": "invalid syntax (Temp/ipykernel_6180/3528283569.py, line 3)",
     "output_type": "error",
     "traceback": [
      "\u001b[1;36m  File \u001b[1;32m\"C:\\Users\\C523~1\\AppData\\Local\\Temp/ipykernel_6180/3528283569.py\"\u001b[1;36m, line \u001b[1;32m3\u001b[0m\n\u001b[1;33m    print(a+=3)\u001b[0m\n\u001b[1;37m           ^\u001b[0m\n\u001b[1;31mSyntaxError\u001b[0m\u001b[1;31m:\u001b[0m invalid syntax\n"
     ]
    }
   ],
   "source": [
    "a = 2 \n",
    "a += 3\n",
    "print(a)\n",
    "a = 2 \n",
    "a %= 3\n",
    "print(a)\n",
    "a = 2 \n",
    "a *= 3\n",
    "print(a)\n",
    "a = 2 \n",
    "a **= 3\n",
    "print(a)\n"
   ]
  },
  {
   "cell_type": "code",
   "execution_count": 107,
   "id": "446b48b1",
   "metadata": {},
   "outputs": [
    {
     "name": "stdout",
     "output_type": "stream",
     "text": [
      "4 2\n"
     ]
    }
   ],
   "source": [
    "# регистр имеет значение\n",
    "a = 4\n",
    "A = 2\n",
    "print(a, A)"
   ]
  },
  {
   "cell_type": "markdown",
   "id": "ec26a662",
   "metadata": {},
   "source": [
    "### Динамическая типизация"
   ]
  },
  {
   "cell_type": "code",
   "execution_count": 108,
   "id": "fd701a43",
   "metadata": {},
   "outputs": [
    {
     "data": {
      "text/plain": [
       "str"
      ]
     },
     "execution_count": 108,
     "metadata": {},
     "output_type": "execute_result"
    }
   ],
   "source": [
    "a = 2\n",
    "a = 'asc'\n",
    "type(a)"
   ]
  },
  {
   "cell_type": "markdown",
   "id": "fb5c09df",
   "metadata": {},
   "source": [
    "## Ввод данных"
   ]
  },
  {
   "cell_type": "code",
   "execution_count": 112,
   "id": "8ab2decb",
   "metadata": {},
   "outputs": [
    {
     "name": "stdout",
     "output_type": "stream",
     "text": [
      "Введете данные - 1\n"
     ]
    },
    {
     "data": {
      "text/plain": [
       "str"
      ]
     },
     "execution_count": 112,
     "metadata": {},
     "output_type": "execute_result"
    }
   ],
   "source": [
    "c = input('Введете данные - ')\n",
    "type(c)"
   ]
  },
  {
   "cell_type": "code",
   "execution_count": 121,
   "id": "75c099a1",
   "metadata": {},
   "outputs": [
    {
     "name": "stdout",
     "output_type": "stream",
     "text": [
      "Input your name: Kirill\n",
      "Hello, Kirill\n"
     ]
    }
   ],
   "source": [
    "name = input('Input your name: ')\n",
    "print('Hello,', name)"
   ]
  },
  {
   "cell_type": "code",
   "execution_count": 126,
   "id": "d88b52dd",
   "metadata": {},
   "outputs": [
    {
     "name": "stdout",
     "output_type": "stream",
     "text": [
      "Enter number 2\n",
      "4\n",
      "2\n"
     ]
    }
   ],
   "source": [
    "n = int(input('Enter number '))\n",
    "print(n * 2)\n",
    "print(n)"
   ]
  },
  {
   "cell_type": "code",
   "execution_count": 127,
   "id": "f20b8e28",
   "metadata": {},
   "outputs": [
    {
     "name": "stdout",
     "output_type": "stream",
     "text": [
      "Enter first number 23\n",
      "Enter second number 1\n",
      "23\n"
     ]
    }
   ],
   "source": [
    "n = int(input('Enter first number '))\n",
    "m = int(input('Enter second number '))\n",
    "print(n * m)"
   ]
  },
  {
   "cell_type": "code",
   "execution_count": 129,
   "id": "679d25e3",
   "metadata": {},
   "outputs": [
    {
     "name": "stdout",
     "output_type": "stream",
     "text": [
      "7\n",
      "30\n",
      "450\n"
     ]
    }
   ],
   "source": [
    "X = int(input())\n",
    "Y = int(input())\n",
    "print(X * 60 + Y)"
   ]
  },
  {
   "cell_type": "code",
   "execution_count": 131,
   "id": "3a338435",
   "metadata": {},
   "outputs": [
    {
     "name": "stdout",
     "output_type": "stream",
     "text": [
      "512\n",
      "8\n",
      "32\n"
     ]
    }
   ],
   "source": [
    "X = int(input())\n",
    "print(X // 60)\n",
    "print(X % 60)"
   ]
  },
  {
   "cell_type": "code",
   "execution_count": 140,
   "id": "ba80dfb9",
   "metadata": {
    "scrolled": true
   },
   "outputs": [
    {
     "name": "stdout",
     "output_type": "stream",
     "text": [
      "100\n",
      "10\n",
      "12\n",
      "11\n",
      "52\n"
     ]
    }
   ],
   "source": [
    "X = int(input()) # Сон в минутах\n",
    "H = int(input()) # Время, когда ложиться в часах\n",
    "M = int(input()) # Время, когда ложиться в минутах\n",
    "print(H + (X // 60) + ((M + X % 60) // 60)) # Будильник выставлен, часы \n",
    "print((M + X) % 60) # Будильник выставлен, минуты"
   ]
  },
  {
   "cell_type": "markdown",
   "id": "9e98ab4e",
   "metadata": {},
   "source": [
    "## Логические значения"
   ]
  },
  {
   "cell_type": "code",
   "execution_count": 144,
   "id": "940c6b96",
   "metadata": {},
   "outputs": [
    {
     "name": "stdout",
     "output_type": "stream",
     "text": [
      "0\n",
      "True\n",
      "True\n"
     ]
    }
   ],
   "source": [
    "x = 0\n",
    "y = 0\n",
    "print(x or y)\n",
    "print(not x)\n",
    "print(not x or y)"
   ]
  },
  {
   "cell_type": "markdown",
   "id": "bb991393",
   "metadata": {},
   "source": [
    "## Логические операции"
   ]
  },
  {
   "cell_type": "code",
   "execution_count": 148,
   "id": "14f2861c",
   "metadata": {},
   "outputs": [
    {
     "name": "stdout",
     "output_type": "stream",
     "text": [
      "True\n",
      "False\n",
      "True\n",
      "True\n"
     ]
    }
   ],
   "source": [
    "x = 1\n",
    "y = 12\n",
    "print(x < y)\n",
    "x = 1\n",
    "y = 12\n",
    "print(x > y)\n",
    "x = 1\n",
    "y = 1\n",
    "print(x == y)\n",
    "x = 1\n",
    "y = 1\n",
    "print(x >= y)"
   ]
  },
  {
   "cell_type": "code",
   "execution_count": 151,
   "id": "341d7e69",
   "metadata": {},
   "outputs": [
    {
     "name": "stdout",
     "output_type": "stream",
     "text": [
      "-10\n",
      "False\n"
     ]
    }
   ],
   "source": [
    "a = int(input())\n",
    "print(a >= 0)"
   ]
  },
  {
   "cell_type": "code",
   "execution_count": 152,
   "id": "5ec25d48",
   "metadata": {},
   "outputs": [
    {
     "data": {
      "text/plain": [
       "False"
      ]
     },
     "execution_count": 152,
     "metadata": {},
     "output_type": "execute_result"
    }
   ],
   "source": [
    "a = False\n",
    "b = True\n",
    "((a and b) or ((not a) and (not b)))"
   ]
  },
  {
   "cell_type": "code",
   "execution_count": 153,
   "id": "09b494aa",
   "metadata": {},
   "outputs": [
    {
     "data": {
      "text/plain": [
       "True"
      ]
     },
     "execution_count": 153,
     "metadata": {},
     "output_type": "execute_result"
    }
   ],
   "source": [
    "x = 5\n",
    "y = 10\n",
    "y > x * x or y >= 2 * x and x < y"
   ]
  },
  {
   "cell_type": "code",
   "execution_count": 155,
   "id": "b99565b3",
   "metadata": {},
   "outputs": [
    {
     "data": {
      "text/plain": [
       "False"
      ]
     },
     "execution_count": 155,
     "metadata": {},
     "output_type": "execute_result"
    }
   ],
   "source": [
    "a = True\n",
    "b = False\n",
    "a and b or not a and not b"
   ]
  },
  {
   "cell_type": "markdown",
   "id": "d764b995",
   "metadata": {},
   "source": [
    "## Условия if, else, elif. Блоки, отступы"
   ]
  },
  {
   "cell_type": "code",
   "execution_count": 157,
   "id": "75f2b475",
   "metadata": {},
   "outputs": [
    {
     "name": "stdout",
     "output_type": "stream",
     "text": [
      "3\n",
      "Нечетное\n"
     ]
    }
   ],
   "source": [
    "x = int(input())\n",
    "if x % 2 == 0:\n",
    "    print('Четное')\n",
    "else:\n",
    "    print('Нечетное')"
   ]
  },
  {
   "cell_type": "code",
   "execution_count": null,
   "id": "d630a62c",
   "metadata": {},
   "outputs": [],
   "source": [
    "a = int(input(\"Введите первое число: \"))\n",
    "b = int(input(\"Введите второе число: \"))\n",
    "if b != 0:\n",
    "    print(a / b)\n",
    "else:\n",
    "    print(\"Деление на 0 невозможно\")\n",
    "    b = int(input(\"Введите ненулевое значение: \"))\n",
    "    if b == 0:\n",
    "        print(\"Ты издеваешься? \")\n",
    "    else:    \n",
    "        print(a / b)"
   ]
  },
  {
   "cell_type": "code",
   "execution_count": 174,
   "id": "485c7440",
   "metadata": {},
   "outputs": [
    {
     "name": "stdout",
     "output_type": "stream",
     "text": [
      "5\n",
      "5\n",
      "5\n",
      "Это нормально\n"
     ]
    }
   ],
   "source": [
    "A = int(input())\n",
    "B = int(input())\n",
    "H = int(input())\n",
    "if B >= H >= A:\n",
    "    print(\"Это нормально\")\n",
    "else:\n",
    "    if H < A:\n",
    "        print(\"Недосып\")\n",
    "    else:\n",
    "        print(\"Пересып\")"
   ]
  },
  {
   "cell_type": "code",
   "execution_count": 179,
   "id": "a73a0ee9",
   "metadata": {},
   "outputs": [
    {
     "name": "stdout",
     "output_type": "stream",
     "text": [
      "1562\n",
      "Обычный\n"
     ]
    }
   ],
   "source": [
    "n = int(input())\n",
    "if (n % 4 == 0 and n % 100 != 0) or (n % 400 == 0):\n",
    "    print(\"Високосный\")\n",
    "else: \n",
    "    print(\"Обычный\")\n",
    "    "
   ]
  },
  {
   "cell_type": "markdown",
   "id": "f1622b22",
   "metadata": {},
   "source": [
    "## Строки"
   ]
  },
  {
   "cell_type": "code",
   "execution_count": 194,
   "id": "0177b21f",
   "metadata": {},
   "outputs": [
    {
     "name": "stdout",
     "output_type": "stream",
     "text": [
      "'abd'\n",
      "a =\n",
      " 'abd'\n"
     ]
    }
   ],
   "source": [
    "# Комментарий\n",
    "'''Комментарий\n",
    "на 2 строки print(a)'''\n",
    "a = \"'abd'\"\n",
    "print(a)\n",
    "print(\"a =\\n\", a)"
   ]
  },
  {
   "cell_type": "code",
   "execution_count": 196,
   "id": "666573d2",
   "metadata": {},
   "outputs": [
    {
     "name": "stdout",
     "output_type": "stream",
     "text": [
      "False\n",
      "True\n",
      "False\n",
      "False\n"
     ]
    }
   ],
   "source": [
    "print(\"239\" < \"30\" and 239 < 30)\n",
    "print(\"239\" < \"30\" and 239 > 30)\n",
    "print(\"239\" > \"30\" and 239 < 30)\n",
    "print(\"239\" > \"30\" and 239 > 30)"
   ]
  },
  {
   "cell_type": "markdown",
   "id": "4c440c5b",
   "metadata": {},
   "source": [
    "## Работа со строками"
   ]
  },
  {
   "cell_type": "code",
   "execution_count": 200,
   "id": "21c46614",
   "metadata": {},
   "outputs": [
    {
     "name": "stdout",
     "output_type": "stream",
     "text": [
      "string another string\n",
      "stringanother string\n",
      "string\n",
      "another string\n"
     ]
    }
   ],
   "source": [
    "a = 'string'\n",
    "b = 'another string'\n",
    "print(a, b)\n",
    "print(a + b)\n",
    "print(a + '\\n' + b)"
   ]
  },
  {
   "cell_type": "code",
   "execution_count": 202,
   "id": "b43a3854",
   "metadata": {},
   "outputs": [
    {
     "name": "stdout",
     "output_type": "stream",
     "text": [
      "12342\n"
     ]
    }
   ],
   "source": [
    "a = \"123\" + \"42\"\n",
    "print(a)"
   ]
  }
 ],
 "metadata": {
  "kernelspec": {
   "display_name": "Python 3 (ipykernel)",
   "language": "python",
   "name": "python3"
  },
  "language_info": {
   "codemirror_mode": {
    "name": "ipython",
    "version": 3
   },
   "file_extension": ".py",
   "mimetype": "text/x-python",
   "name": "python",
   "nbconvert_exporter": "python",
   "pygments_lexer": "ipython3",
   "version": "3.9.7"
  }
 },
 "nbformat": 4,
 "nbformat_minor": 5
}
