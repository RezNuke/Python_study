{
 "cells": [
  {
   "cell_type": "markdown",
   "id": "29904bd0",
   "metadata": {},
   "source": [
    "# Циклы, строки, списки"
   ]
  },
  {
   "cell_type": "markdown",
   "id": "0e9f1a3c",
   "metadata": {},
   "source": [
    "## Циклы"
   ]
  },
  {
   "cell_type": "markdown",
   "id": "e97eafc4",
   "metadata": {},
   "source": [
    "### While\n"
   ]
  },
  {
   "cell_type": "code",
   "execution_count": 5,
   "id": "8f323e7d",
   "metadata": {},
   "outputs": [
    {
     "name": "stdout",
     "output_type": "stream",
     "text": [
      "5 4 3 2 1 "
     ]
    }
   ],
   "source": [
    "a = 5\n",
    "while (a > 0):\n",
    "    print(a, end = ' ')\n",
    "    a -=1\n",
    "# print(end +  ' - end') - not exist    "
   ]
  },
  {
   "cell_type": "code",
   "execution_count": 8,
   "id": "4dea3143",
   "metadata": {},
   "outputs": [
    {
     "name": "stdout",
     "output_type": "stream",
     "text": [
      "5 7 9 11 13 15 17 19 21 23 25 27 29 31 33 35 37 39 41 43 45 47 49 51 53 55 "
     ]
    }
   ],
   "source": [
    "a = 5\n",
    "while a <= 55:\n",
    "    print(a, end=' ')\n",
    "    a += 2"
   ]
  },
  {
   "cell_type": "code",
   "execution_count": 12,
   "id": "e53e1cb5",
   "metadata": {},
   "outputs": [
    {
     "name": "stdout",
     "output_type": "stream",
     "text": [
      "13\n",
      "9\n"
     ]
    }
   ],
   "source": [
    "i = 0\n",
    "count = 0\n",
    "while i <= 10:\n",
    "    count += 1\n",
    "    i = i + 1\n",
    "    if i > 7:\n",
    "        i = i + 2\n",
    "print(i)\n",
    "print(count)"
   ]
  },
  {
   "cell_type": "code",
   "execution_count": 19,
   "id": "4cbe3bf2",
   "metadata": {},
   "outputs": [
    {
     "name": "stdout",
     "output_type": "stream",
     "text": [
      "10\n",
      "*\n",
      "**\n",
      "***\n",
      "****\n",
      "*****\n",
      "******\n",
      "*******\n",
      "********\n",
      "*********\n",
      "**********\n"
     ]
    }
   ],
   "source": [
    "star = \"*\"\n",
    "n = int(input())\n",
    "i = 1\n",
    "while i <= n:\n",
    "    print(star * i)\n",
    "    i += 1 "
   ]
  },
  {
   "cell_type": "code",
   "execution_count": 26,
   "id": "cf821c64",
   "metadata": {},
   "outputs": [
    {
     "name": "stdout",
     "output_type": "stream",
     "text": [
      "10\n",
      "*\n",
      "**\n",
      "***\n",
      "****\n",
      "*****\n",
      "******\n",
      "*******\n",
      "********\n",
      "*********\n",
      "**********\n"
     ]
    }
   ],
   "source": [
    "star = \"*\"\n",
    "n = int(input())\n",
    "while len(star) <= n:\n",
    "    print(star)\n",
    "    star = star + '*'"
   ]
  },
  {
   "cell_type": "code",
   "execution_count": 28,
   "id": "892ded48",
   "metadata": {},
   "outputs": [
    {
     "name": "stdout",
     "output_type": "stream",
     "text": [
      "*\n",
      "**\n",
      "*\n",
      "*\n",
      "**\n",
      "*\n",
      "***\n",
      "*\n",
      "**\n",
      "***\n",
      "17\n"
     ]
    }
   ],
   "source": [
    "i = 0\n",
    "count = 0\n",
    "while i < 5:\n",
    "    print('*')\n",
    "    count += 1 \n",
    "    if i % 2 == 0:\n",
    "        print('**')\n",
    "        count += 2\n",
    "    if(i > 2):\n",
    "        print('***')\n",
    "        count += 3\n",
    "    i = i + 1 \n",
    "print(count)    "
   ]
  },
  {
   "cell_type": "code",
   "execution_count": 31,
   "id": "1a69ff85",
   "metadata": {},
   "outputs": [
    {
     "name": "stdout",
     "output_type": "stream",
     "text": [
      "4\n",
      "1\n",
      "0\n"
     ]
    }
   ],
   "source": [
    "a = int(input())\n",
    "b = int(input())\n",
    "sum = 0\n",
    "i = a\n",
    "while (i <= b):\n",
    "    sum += i\n",
    "    i += 1\n",
    "print(sum)    "
   ]
  },
  {
   "cell_type": "code",
   "execution_count": 33,
   "id": "a17936fe",
   "metadata": {},
   "outputs": [
    {
     "name": "stdout",
     "output_type": "stream",
     "text": [
      "0\n",
      "0\n"
     ]
    }
   ],
   "source": [
    "sum = 0\n",
    "n = 1\n",
    "while n != 0:\n",
    "    n = int(input())\n",
    "    sum = sum + n\n",
    "print(sum)    "
   ]
  },
  {
   "cell_type": "code",
   "execution_count": 54,
   "id": "74ce8bff",
   "metadata": {},
   "outputs": [
    {
     "name": "stdout",
     "output_type": "stream",
     "text": [
      "5\n",
      "10\n",
      "10\n"
     ]
    }
   ],
   "source": [
    "\n",
    "a = int(input())\n",
    "b = int(input())\n",
    "d = min(a, b)\n",
    "while d % a != 0 or d % b != 0:\n",
    "    d += 1\n",
    "print(d)"
   ]
  },
  {
   "cell_type": "markdown",
   "id": "993136d7",
   "metadata": {},
   "source": [
    "#### Break, continue"
   ]
  },
  {
   "cell_type": "code",
   "execution_count": 60,
   "id": "a5687fc2",
   "metadata": {},
   "outputs": [
    {
     "name": "stdout",
     "output_type": "stream",
     "text": [
      "5 1\n",
      "5\n",
      "1 1 \n",
      "1\n",
      "0 1\n",
      "0 - на выходе\n",
      "1 5\n",
      "5\n",
      "1 0\n",
      "0 - на выходе\n",
      "0 0\n",
      "Цикл завершен\n"
     ]
    }
   ],
   "source": [
    "# Ввод 0, 0 - выход из цикла\n",
    "i = 0\n",
    "while i < 5:\n",
    "    a, b = input().split()\n",
    "    a = int(a)\n",
    "    b = int(b)\n",
    "    if (a == 0) and (b == 0):\n",
    "        print('Цикл завершен')\n",
    "        break  # выход из цикла\n",
    "    if (a == 0) or (b == 0):\n",
    "        print('0 - на выходе')\n",
    "        continue  # выход из цикла\n",
    "        print('Не выведется')\n",
    "    print(a * b)\n",
    "    i += 1"
   ]
  },
  {
   "cell_type": "code",
   "execution_count": 61,
   "id": "208b0cd2",
   "metadata": {},
   "outputs": [
    {
     "name": "stdout",
     "output_type": "stream",
     "text": [
      "i = 7\n",
      "s = 16\n"
     ]
    }
   ],
   "source": [
    "i = 0\n",
    "s = 0\n",
    "while i < 10:\n",
    "    i = i + 1\n",
    "    s = s + i\n",
    "    if s > 15:\n",
    "        break\n",
    "    i = i + 1\n",
    "print('i =', i)\n",
    "print('s =', s)    "
   ]
  },
  {
   "cell_type": "code",
   "execution_count": 62,
   "id": "fa85e6c7",
   "metadata": {},
   "outputs": [
    {
     "name": "stdout",
     "output_type": "stream",
     "text": [
      "i = 10\n",
      "s = 43\n"
     ]
    }
   ],
   "source": [
    "i = 0\n",
    "s = 0\n",
    "while i < 10:\n",
    "    i = i + 1\n",
    "    s = s + i\n",
    "    if s > 15:\n",
    "        continue\n",
    "    i = i + 1\n",
    "print('i =', i)\n",
    "print('s =', s) "
   ]
  },
  {
   "cell_type": "code",
   "execution_count": 64,
   "id": "3e7a01dd",
   "metadata": {},
   "outputs": [
    {
     "name": "stdout",
     "output_type": "stream",
     "text": [
      "1\n",
      "15\n",
      "15\n",
      "99\n",
      "99\n",
      "102\n"
     ]
    }
   ],
   "source": [
    "while 1:\n",
    "    n = int(input())\n",
    "    if n < 10:\n",
    "        continue\n",
    "    elif n > 100:\n",
    "        break\n",
    "    print(n)        "
   ]
  },
  {
   "cell_type": "markdown",
   "id": "62b7f129",
   "metadata": {},
   "source": [
    "### For"
   ]
  },
  {
   "cell_type": "code",
   "execution_count": 65,
   "id": "03f7caae",
   "metadata": {},
   "outputs": [
    {
     "name": "stdout",
     "output_type": "stream",
     "text": [
      "4\n",
      "9\n",
      "25\n"
     ]
    }
   ],
   "source": [
    "for i in 2, 3, 5:\n",
    "    print(i * i)"
   ]
  },
  {
   "cell_type": "code",
   "execution_count": 67,
   "id": "bf41b77b",
   "metadata": {},
   "outputs": [
    {
     "name": "stdout",
     "output_type": "stream",
     "text": [
      "0\n",
      "1\n",
      "4\n",
      "9\n",
      "16\n",
      "25\n",
      "36\n",
      "49\n",
      "64\n",
      "81\n",
      "100\n"
     ]
    }
   ],
   "source": [
    "for i in range(10):\n",
    "    print(i * i)"
   ]
  },
  {
   "cell_type": "code",
   "execution_count": 71,
   "id": "5d7b7893",
   "metadata": {},
   "outputs": [],
   "source": [
    "# range(5) => 0, 1, 2, 3, 4\n",
    "# range(2, 5) => 2, 3, 4\n",
    "# range(2, 15, 4) => 2, 6, 10, 14"
   ]
  },
  {
   "cell_type": "code",
   "execution_count": 73,
   "id": "02b7f415",
   "metadata": {},
   "outputs": [
    {
     "name": "stdout",
     "output_type": "stream",
     "text": [
      "5\n",
      "* * * * * \n",
      "* * * * * \n",
      "* * * * * \n",
      "* * * * * \n",
      "* * * * * \n"
     ]
    }
   ],
   "source": [
    "n = int(input())\n",
    "for i in range(n):\n",
    "    print('* ' * n)\n"
   ]
  },
  {
   "cell_type": "code",
   "execution_count": 75,
   "id": "2c62f411",
   "metadata": {},
   "outputs": [
    {
     "name": "stdout",
     "output_type": "stream",
     "text": [
      "5\n",
      "* * * * * \n",
      "* * * * * \n",
      "* * * * * \n",
      "* * * * * \n",
      "* * * * * \n"
     ]
    }
   ],
   "source": [
    "n = int(input())\n",
    "for i in range(n):\n",
    "    for j in range(n):\n",
    "        print('* ', end = '')\n",
    "    print()"
   ]
  },
  {
   "cell_type": "code",
   "execution_count": 4,
   "id": "e1eda324",
   "metadata": {},
   "outputs": [
    {
     "name": "stdout",
     "output_type": "stream",
     "text": [
      "1\n",
      "3\n",
      "4\n",
      "9\n",
      "________________________________\n",
      "\t4\t5\t6\t7\t8\t9\n",
      "1\t4\t5\t6\t7\t8\t9\t\n",
      "2\t8\t10\t12\t14\t16\t18\t\n",
      "3\t12\t15\t18\t21\t24\t27\t\n"
     ]
    }
   ],
   "source": [
    "a = int(input())\n",
    "b = int(input())\n",
    "c = int(input())\n",
    "d = int(input())\n",
    "\n",
    "print('________________________________')\n",
    "if a < b and c < d:\n",
    "    for k in range(c, d + 1):\n",
    "        print(end = '\\t')\n",
    "        print(k, end = '')\n",
    "    print()    \n",
    "\n",
    "    for i in range(a, b + 1):\n",
    "        print(i, end = '\\t')\n",
    "        for j in range(c, d + 1):\n",
    "            print(i * j, end = '\\t')\n",
    "        print()   \n",
    "else:\n",
    "    print('Неверно задан интервал') "
   ]
  },
  {
   "cell_type": "code",
   "execution_count": 99,
   "id": "74fcd2c8",
   "metadata": {},
   "outputs": [
    {
     "name": "stdout",
     "output_type": "stream",
     "text": [
      "1 100\n",
      "2500\n"
     ]
    }
   ],
   "source": [
    "a, b = input().split()\n",
    "a = int(a)\n",
    "b = int(b)\n",
    "sum = 0\n",
    "for i in range(a, b + 1):\n",
    "    if i % 2 == 1:\n",
    "        sum = sum + i\n",
    "print(sum)        "
   ]
  },
  {
   "cell_type": "code",
   "execution_count": 102,
   "id": "7f4d922f",
   "metadata": {},
   "outputs": [
    {
     "name": "stdout",
     "output_type": "stream",
     "text": [
      "2 5\n",
      "8\n"
     ]
    }
   ],
   "source": [
    "a, b = input().split()\n",
    "a = int(a)\n",
    "b = int(b)\n",
    "sum = 0\n",
    "if a % 2 == 1:\n",
    "    for i in range(a, b + 1, 2):\n",
    "        sum = sum + i\n",
    "else:\n",
    "    for i in range(a + 1, b + 1, 2):\n",
    "        sum = sum + i\n",
    "print(sum)          "
   ]
  },
  {
   "cell_type": "code",
   "execution_count": 105,
   "id": "117fd4d2",
   "metadata": {},
   "outputs": [
    {
     "name": "stdout",
     "output_type": "stream",
     "text": [
      "1 5\n",
      "9\n"
     ]
    }
   ],
   "source": [
    "a, b = (int(i) for i in input().split()) # Новый ввод данных\n",
    "sum = 0\n",
    "if a % 2 == 1:\n",
    "    for i in range(a, b + 1, 2):\n",
    "        sum = sum + i\n",
    "else:\n",
    "    for i in range(a + 1, b + 1, 2):\n",
    "        sum = sum + i\n",
    "print(sum) "
   ]
  },
  {
   "cell_type": "code",
   "execution_count": 110,
   "id": "eebfb830",
   "metadata": {},
   "outputs": [
    {
     "name": "stdout",
     "output_type": "stream",
     "text": [
      "5\n",
      "10\n",
      "7.5\n"
     ]
    }
   ],
   "source": [
    "a = int(input())\n",
    "b = int(input())\n",
    "sum = 0\n",
    "av = 0\n",
    "k = 0\n",
    "\n",
    "if a % 3 == 0:\n",
    "    for j in range(a, b + 1, 3):\n",
    "        sum += j\n",
    "        k += 1\n",
    "elif a % 3 == 1:  \n",
    "    for j in range(a + 2, b + 1, 3):\n",
    "        sum += j\n",
    "        k += 1\n",
    "elif a % 3 == 2:  \n",
    "    for j in range(a + 1, b + 1, 3):   \n",
    "        sum += j\n",
    "        k += 1\n",
    "av = sum / k \n",
    "print(av)"
   ]
  },
  {
   "cell_type": "markdown",
   "id": "0fd67671",
   "metadata": {},
   "source": [
    "## Строки"
   ]
  },
  {
   "cell_type": "code",
   "execution_count": 137,
   "id": "bc3c647d",
   "metadata": {},
   "outputs": [
    {
     "name": "stdout",
     "output_type": "stream",
     "text": [
      "4\n",
      "ABCD\n",
      "ABCD\n",
      "DCBA\n"
     ]
    }
   ],
   "source": [
    "my_string = 'ABCD'\n",
    "print(len(my_string))\n",
    "\n",
    "for i in range(len(my_string)):\n",
    "    print(my_string[i], end = \"\")\n",
    "print()   \n",
    "\n",
    "for i in my_string:\n",
    "    print(i, end = \"\")  \n",
    "print()\n",
    "\n",
    "'''\n",
    "for i in range(-len(my_string), 0):\n",
    "    print(my_string[i], end = \"\")    \n",
    "print() '''   \n",
    "\n",
    "for i in range(-1, -len(my_string) - 1, -1):\n",
    "    print(my_string[i], end = \"\")    \n",
    "print()"
   ]
  },
  {
   "cell_type": "code",
   "execution_count": null,
   "id": "524dea7d",
   "metadata": {},
   "outputs": [],
   "source": [
    "my_string = 'ABCD'\n",
    "#ошибка my_string[0] = 'c' НЕЛЬЗЯ МЕНЯТЬ СИМВОЛ ОТДЕЛЬНО"
   ]
  },
  {
   "cell_type": "code",
   "execution_count": 140,
   "id": "9ff6bd1f",
   "metadata": {},
   "outputs": [
    {
     "name": "stdout",
     "output_type": "stream",
     "text": [
      "qwerfC\n",
      "C\n",
      "1\n"
     ]
    }
   ],
   "source": [
    "genome = input()\n",
    "count = 0\n",
    "for N in genome:\n",
    "    if N == 'C':\n",
    "        count += 1\n",
    "print(N) # ??? глобальная переменная ???        \n",
    "print(count)    "
   ]
  },
  {
   "cell_type": "code",
   "execution_count": 141,
   "id": "0d96abc6",
   "metadata": {},
   "outputs": [
    {
     "name": "stdout",
     "output_type": "stream",
     "text": [
      "CCCCCCCCCSCSCSCSAAAAA\n",
      "12\n"
     ]
    }
   ],
   "source": [
    "genome = input()\n",
    "print(genome.count('C'))"
   ]
  },
  {
   "cell_type": "markdown",
   "id": "0be33da2",
   "metadata": {},
   "source": [
    "### Методы строк"
   ]
  },
  {
   "cell_type": "code",
   "execution_count": 153,
   "id": "a181453b",
   "metadata": {},
   "outputs": [
    {
     "name": "stdout",
     "output_type": "stream",
     "text": [
      "wАСw\n"
     ]
    }
   ],
   "source": [
    "my_str = 'wАСw'\n",
    "my_str.upper()  # Заменяет все символы на заглавные, при этом строка сама не меняется\n",
    "my_str.lower()  # Заменяет все символы на строчные, при этом строка сама не меняется\n",
    "p = 'w'\n",
    "my_str.count(p)  # Выдает кол-во вхождений 'p' в 'my_str'\n",
    "my_str.find(p)  # Выдает индекс первого вхождения 'p' в 'my_str'\n",
    "my_str.find(' ')  # При отсутствии выдает -1\n",
    "W = 'W'\n",
    "my_str.replace(p, W)  # Заменяет все вхождения 'p' на 'W'. Строка не меняется!!!\n",
    "print(my_str)"
   ]
  },
  {
   "cell_type": "code",
   "execution_count": 161,
   "id": "7f5bceed",
   "metadata": {},
   "outputs": [
    {
     "name": "stdout",
     "output_type": "stream",
     "text": [
      "acggtgttat\n",
      "40.0\n"
     ]
    }
   ],
   "source": [
    "genome = input()\n",
    "# Все методы выполняются последовательно слева направо\n",
    "GC_composition = (genome.upper().count('G') + genome.upper().count('C')) / (len(genome)) * 100\n",
    "print(GC_composition)"
   ]
  },
  {
   "cell_type": "markdown",
   "id": "2b431de9",
   "metadata": {},
   "source": [
    "### Слайсинг"
   ]
  },
  {
   "cell_type": "code",
   "execution_count": 174,
   "id": "462b50ad",
   "metadata": {},
   "outputs": [
    {
     "name": "stdout",
     "output_type": "stream",
     "text": [
      "b\n",
      "bcd\n",
      "abcd\n",
      "efghijkl\n",
      "bcdefghijk\n",
      "bdfhj\n",
      "lkjihgfedcba\n"
     ]
    }
   ],
   "source": [
    "dna = 'abcdefghijkl'\n",
    "print(dna[1])\n",
    "print(dna[1:4])\n",
    "print(dna[:4])\n",
    "print(dna[4:])\n",
    "print(dna[1:-1])\n",
    "print(dna[1:-1:2])\n",
    "print(dna[::-1])\n"
   ]
  },
  {
   "cell_type": "code",
   "execution_count": 176,
   "id": "d0675f55",
   "metadata": {},
   "outputs": [
    {
     "name": "stdout",
     "output_type": "stream",
     "text": [
      "12352\n",
      "Обычная\n"
     ]
    }
   ],
   "source": [
    "my_str = input()\n",
    "if my_str == my_str[::-1]:\n",
    "    print(\"Палиндром\")\n",
    "else:\n",
    "    print(\"Обычная\")"
   ]
  },
  {
   "cell_type": "code",
   "execution_count": 179,
   "id": "5c6b3b68",
   "metadata": {},
   "outputs": [
    {
     "name": "stdout",
     "output_type": "stream",
     "text": [
      "1231\n",
      "Обычная\n"
     ]
    }
   ],
   "source": [
    "my_str = input()\n",
    "i = 0\n",
    "j = len(my_str) - 1\n",
    "status = True\n",
    "while i < j:\n",
    "    if my_str[i] != my_str[j]:\n",
    "        status = False\n",
    "        break\n",
    "    i += 1\n",
    "    j -= 1\n",
    "if status: \n",
    "    print(\"Палиндром\")\n",
    "else:\n",
    "    print(\"Обычная\")"
   ]
  },
  {
   "cell_type": "code",
   "execution_count": 189,
   "id": "62b1fc92",
   "metadata": {},
   "outputs": [
    {
     "data": {
      "text/plain": [
       "'kigec'"
      ]
     },
     "execution_count": 189,
     "metadata": {},
     "output_type": "execute_result"
    }
   ],
   "source": [
    "s = 'abcdefghijk'\n",
    "s[3:6]\n",
    "s[:6]\n",
    "s[3:]\n",
    "s[::-1]\n",
    "s[-3:]\n",
    "s[:-6]\n",
    "s[-1:-10:-2]"
   ]
  },
  {
   "cell_type": "code",
   "execution_count": 233,
   "id": "4ad704bf",
   "metadata": {},
   "outputs": [
    {
     "name": "stdout",
     "output_type": "stream",
     "text": [
      "qwr\n",
      "q1w1r1\n"
     ]
    }
   ],
   "source": [
    "genome = input()\n",
    "code = ''\n",
    "code_num = 1\n",
    "\n",
    "for i in range(len(genome)):\n",
    "    if i == len(genome) - 1:\n",
    "        code = code + genome[i] + str(code_num)\n",
    "        break\n",
    "    elif genome[i] == genome[i + 1]:\n",
    "        code_num += 1\n",
    "    else:\n",
    "        code = code + genome[i] + str(code_num)\n",
    "        code_num = 1\n",
    "print(code)"
   ]
  },
  {
   "cell_type": "markdown",
   "id": "16f9d383",
   "metadata": {},
   "source": [
    "## Списки"
   ]
  },
  {
   "cell_type": "code",
   "execution_count": 1,
   "id": "2c90faef",
   "metadata": {},
   "outputs": [
    {
     "name": "stdout",
     "output_type": "stream",
     "text": [
      "Kirill\n",
      "Note\n",
      "Nick\n"
     ]
    }
   ],
   "source": [
    "list_student = ['Kirill', 'Note', 'Nick']\n",
    "for student in list_student:\n",
    "    print(student)"
   ]
  },
  {
   "cell_type": "code",
   "execution_count": 4,
   "id": "5fc0c52e",
   "metadata": {},
   "outputs": [
    {
     "name": "stdout",
     "output_type": "stream",
     "text": [
      "Nick\n",
      "Nick\n",
      "['Nick', 'Note', 'Kirill']\n"
     ]
    }
   ],
   "source": [
    "list_student = ['Kirill', 'Note', 'Nick']\n",
    "print(list_student[2]) \n",
    "print(list_student[-1]) \n",
    "print(list_student[::-1]) "
   ]
  },
  {
   "cell_type": "code",
   "execution_count": 12,
   "id": "76a0cb12",
   "metadata": {},
   "outputs": [
    {
     "name": "stdout",
     "output_type": "stream",
     "text": [
      "['Kirill', 'Note', 'Nick', 'Mike']\n"
     ]
    }
   ],
   "source": [
    "list_student_1 = ['Kirill', 'Note', 'Nick']\n",
    "list_student_2 = ['Mike']\n",
    "list_student = list_student_1 + list_student_2\n",
    "print(list_student[:])"
   ]
  },
  {
   "cell_type": "code",
   "execution_count": 14,
   "id": "d2dbd222",
   "metadata": {},
   "outputs": [
    {
     "name": "stdout",
     "output_type": "stream",
     "text": [
      "Kirill\n"
     ]
    }
   ],
   "source": [
    "# Списки можно изменять по-элементно\n",
    "list_student_1 = ['Kirill', 'Note', 'Nick']\n",
    "list_student_1[2] = 'Kirill'\n",
    "print(list_student_1[2])"
   ]
  },
  {
   "cell_type": "markdown",
   "id": "3cb3e4ed",
   "metadata": {},
   "source": [
    "### Методы списков"
   ]
  },
  {
   "cell_type": "code",
   "execution_count": 16,
   "id": "ed94eeca",
   "metadata": {},
   "outputs": [
    {
     "name": "stdout",
     "output_type": "stream",
     "text": [
      "['Kirill', 'Note', 'Nick', 'Mike', 'Man', 'Woman']\n"
     ]
    }
   ],
   "source": [
    "list_student = ['Kirill', 'Note']\n",
    "list_student.append('Nick')  # Добавление в конец списка\n",
    "list_student += ['Mike']  # Добавление в конец списка\n",
    "list_student += ['Man', 'Woman']  # Добавление в конец списка\n",
    "print(list_student[:])"
   ]
  },
  {
   "cell_type": "code",
   "execution_count": 17,
   "id": "2332f6ac",
   "metadata": {},
   "outputs": [
    {
     "name": "stdout",
     "output_type": "stream",
     "text": [
      "['Kirill', 'Note', 'Nick', 'ME', 'Mike', 'Man', 'Woman']\n"
     ]
    }
   ],
   "source": [
    "list_student.insert(3, 'ME')  # Добавление в список по индексу\n",
    "print(list_student[:])"
   ]
  },
  {
   "cell_type": "code",
   "execution_count": 18,
   "id": "69347995",
   "metadata": {},
   "outputs": [
    {
     "name": "stdout",
     "output_type": "stream",
     "text": [
      "['Ivan', 'Masha', 'Sasha', 'Olga', 'O', 'l', 'g', 'a']\n"
     ]
    }
   ],
   "source": [
    "list_students = ['Ivan', 'Masha', 'Sasha']\n",
    "list_students += ['Olga']\n",
    "list_students += 'Olga'\n",
    "print(list_students[:])"
   ]
  },
  {
   "cell_type": "code",
   "execution_count": 24,
   "id": "506495b3",
   "metadata": {},
   "outputs": [
    {
     "name": "stdout",
     "output_type": "stream",
     "text": [
      "['Kirill', 'Note']\n",
      "['Note']\n"
     ]
    }
   ],
   "source": [
    "list_student = ['Kirill', 'Note', 'Note']\n",
    "list_student.remove('Note')  # Удаление из списка (только 1-е вхождение)\n",
    "print(list_student[:])\n",
    "del list_student[0]  # Удаление из списка по индексу\n",
    "print(list_student[:])"
   ]
  },
  {
   "cell_type": "code",
   "execution_count": 32,
   "id": "ebb72e27",
   "metadata": {},
   "outputs": [
    {
     "name": "stdout",
     "output_type": "stream",
     "text": [
      "Kirill is here\n",
      "Ann isn't here\n"
     ]
    }
   ],
   "source": [
    "list_student = ['Kirill', 'Note', 'Note']\n",
    "if \"Kirill\" in list_student:  # Проверка наличия элемента в списке\n",
    "    print('Kirill is here')\n",
    "if \"Ann\" not in list_student:  # Проверка наличия элемента в списке\n",
    "    print(\"Ann isn't here\")    "
   ]
  },
  {
   "cell_type": "code",
   "execution_count": 37,
   "id": "0959d273",
   "metadata": {},
   "outputs": [
    {
     "name": "stdout",
     "output_type": "stream",
     "text": [
      "0\n"
     ]
    }
   ],
   "source": [
    "list_student = ['Kirill', 'Note', 'Note']\n",
    "ind = list_student.index('Kirill')  \n",
    "print(ind)\n",
    "#  ind = list_student.index('Ann')  - Выдает ошибку\n",
    "#  print(ind)"
   ]
  },
  {
   "cell_type": "code",
   "execution_count": 42,
   "id": "164a530d",
   "metadata": {},
   "outputs": [
    {
     "name": "stdout",
     "output_type": "stream",
     "text": [
      "['Anny', 'Kirill', 'Zet']\n"
     ]
    }
   ],
   "source": [
    "# Сортировка с изменением списка\n",
    "list_student = ['Kirill', 'Zet', 'Anny']\n",
    "list_student.sort()  #Метод сортирует список по возрастанию\n",
    "print(list_student[:])"
   ]
  },
  {
   "cell_type": "code",
   "execution_count": 43,
   "id": "5671a3fa",
   "metadata": {},
   "outputs": [
    {
     "name": "stdout",
     "output_type": "stream",
     "text": [
      "['Kirill', 'Zet', 'Anny']\n",
      "['Anny', 'Kirill', 'Zet']\n"
     ]
    }
   ],
   "source": [
    "# Сортировка без изменения списка\n",
    "list_student = ['Kirill', 'Zet', 'Anny']\n",
    "list_ordered_student = sorted(list_student)  # Функция сортирует список по возрастанию\n",
    "print(list_student[:])\n",
    "print(list_ordered_student[:])"
   ]
  },
  {
   "cell_type": "code",
   "execution_count": 47,
   "id": "78cb4f0d",
   "metadata": {},
   "outputs": [
    {
     "name": "stdout",
     "output_type": "stream",
     "text": [
      "['Kirill', 'Zet', 'Anny']\n",
      "['Kirill', 'Zet', 'Anny']\n",
      "['Anny', 'Zet', 'Kirill']\n"
     ]
    }
   ],
   "source": [
    "# Список в обратном порядке\n",
    "list_student = ['Kirill', 'Zet', 'Anny']\n",
    "reversed(list_student)  # Не изменяет изначальный список\n",
    "print(list_student[:])\n",
    "list_student[::-1]  # Не изменяет изначальный список\n",
    "print(list_student[:])\n",
    "list_student.reverse()  # Изменяет изначальный список\n",
    "print(list_student[:])"
   ]
  },
  {
   "cell_type": "code",
   "execution_count": 52,
   "id": "ba72064c",
   "metadata": {},
   "outputs": [
    {
     "name": "stdout",
     "output_type": "stream",
     "text": [
      "[1, 'AX', 23]\n",
      "[1, 'AX', 23]\n",
      "['Hello', 'AX', 23]\n",
      "['Hello', 'AX', 23]\n",
      "['Hello', 'AX', 'By']\n",
      "['Hello', 'AX', 'By']\n"
     ]
    }
   ],
   "source": [
    "# Присвоение списков через оператор '=' происходит по ссылке!!!\n",
    "a = [1, 'AX', 23]\n",
    "b = a\n",
    "print(a[:])\n",
    "print(b[:])\n",
    "a[0] = 'Hello'\n",
    "print(a[:])\n",
    "print(b[:])\n",
    "b[2] = 'By'\n",
    "print(a[:])\n",
    "print(b[:])"
   ]
  },
  {
   "cell_type": "code",
   "execution_count": 53,
   "id": "f8961cae",
   "metadata": {},
   "outputs": [
    {
     "name": "stdout",
     "output_type": "stream",
     "text": [
      "[1, 2, 3]\n",
      "[1, 10, 3]\n",
      "[20, 10, 3]\n",
      "[20, 10, 3]\n"
     ]
    }
   ],
   "source": [
    "a = [1, 2, 3]\n",
    "b = a\n",
    "# значения списка b?\n",
    "print(b[:])\n",
    "a[1] = 10\n",
    "# значения списка b?\n",
    "print(b[:])\n",
    "b[0] = 20\n",
    "# значения списка a?\n",
    "print(a[:])\n",
    "a = [5, 6]  # Создается новый объект 'a' в памяти с новой ссылкой, при этом \n",
    "            # объект 'b' ссылается по старой ссылке\n",
    "# значения списка b?\n",
    "print(b[:])"
   ]
  },
  {
   "cell_type": "markdown",
   "id": "d5d6e074",
   "metadata": {},
   "source": [
    "### Генерация списков"
   ]
  },
  {
   "cell_type": "code",
   "execution_count": 55,
   "id": "47734d1d",
   "metadata": {},
   "outputs": [
    {
     "name": "stdout",
     "output_type": "stream",
     "text": [
      "[0, 0, 0, 0, 0]\n",
      "[0, 1, 2, 3, 4]\n",
      "0 0 0 0 \n",
      "[0, 0, 0, 0]\n"
     ]
    }
   ],
   "source": [
    "a = [0] * 5\n",
    "print(a[:])\n",
    "a = [i for i in range(5)]  # list comprehension\n",
    "print(a[:])\n",
    "a = [int(i) for i in input().split()]  # list comprehension\n",
    "print(a[:])"
   ]
  },
  {
   "cell_type": "code",
   "execution_count": 79,
   "id": "a9dbc070",
   "metadata": {},
   "outputs": [
    {
     "name": "stdout",
     "output_type": "stream",
     "text": [
      "1 2 3\n",
      "6\n"
     ]
    }
   ],
   "source": [
    "a = [int(i) for i in input().split()]\n",
    "sum = 0\n",
    "for i in a:\n",
    "    sum += i\n",
    "print(sum)    "
   ]
  },
  {
   "cell_type": "code",
   "execution_count": 80,
   "id": "b5a999c4",
   "metadata": {},
   "outputs": [
    {
     "name": "stdout",
     "output_type": "stream",
     "text": [
      "1 2 3\n",
      "6\n"
     ]
    }
   ],
   "source": [
    "del sum\n",
    "a = [int(i)for i in input().split()]\n",
    "print (sum(a))"
   ]
  },
  {
   "cell_type": "code",
   "execution_count": 101,
   "id": "50d5deb7",
   "metadata": {},
   "outputs": [
    {
     "name": "stdout",
     "output_type": "stream",
     "text": [
      "1 2 3\n",
      "5 4 3 "
     ]
    }
   ],
   "source": [
    "a = [int(i)for i in input().split()]\n",
    "c = []\n",
    "\n",
    "if len(a) == 1: \n",
    "    c.append(a[0])   \n",
    "else:    \n",
    "    for index in range(len(a)):\n",
    "        if index != (len(a) - 1):\n",
    "            c.append(a[index - 1] + a[index + 1])\n",
    "            #  print(c[index], end = ' ')\n",
    "        else:\n",
    "            c.append(a[index - 1] + a[0])\n",
    "            #  print(c[index], end = ' ')\n",
    "            \n",
    "for i in c:\n",
    "    print(i, end = ' ')"
   ]
  },
  {
   "cell_type": "code",
   "execution_count": 6,
   "id": "4e948241",
   "metadata": {},
   "outputs": [
    {
     "name": "stdout",
     "output_type": "stream",
     "text": [
      "1 2 5\n",
      "7 6 3 "
     ]
    }
   ],
   "source": [
    "# Аналог верхней задачи\n",
    "a = [int(i)for i in input().split()]\n",
    "c = []\n",
    "\n",
    "if len(a) == 1: \n",
    "    c.append(a[0])   \n",
    "else:    \n",
    "    for index in range(len(a)):\n",
    "        c.append(a[index - 1] + a[index + 1 - len(a)])\n",
    "        #  print(c[index], end = ' ')\n",
    "\n",
    "for i in c:\n",
    "    print(i, end = ' ')"
   ]
  },
  {
   "cell_type": "code",
   "execution_count": 140,
   "id": "ff84f61a",
   "metadata": {},
   "outputs": [
    {
     "name": "stdout",
     "output_type": "stream",
     "text": [
      "0 0 1 2 5 4 4 4 7 5 8 10\n",
      "[0, 1, 2, 4, 5, 7, 8, 10]\n"
     ]
    }
   ],
   "source": [
    "# Поиск уникальных значений\n",
    "c = []\n",
    "a = [int(i) for i in input().split()]\n",
    "\n",
    "a.sort()\n",
    "for i in range(len(a)):\n",
    "    if i == len(a) - 1 :\n",
    "        c.append(a[i])\n",
    "    for j in range((i + 1),(len(a))):\n",
    "        if a[i] == a[j]:\n",
    "            break\n",
    "        else:\n",
    "            c.append(a[i])\n",
    "            break\n",
    "    \n",
    "for i in c:\n",
    "    print(i, end = ' ')"
   ]
  },
  {
   "cell_type": "code",
   "execution_count": null,
   "id": "ab9901f7",
   "metadata": {},
   "outputs": [],
   "source": [
    "# Поиск уникальных значений, кол-во которых больше K\n",
    "# Код оленя!!!\n",
    "c = []\n",
    "a = [int(i) for i in input().split()]\n",
    "K = 1\n",
    "count = 1\n",
    "\n",
    "a.sort()\n",
    "for i in range(len(a)):\n",
    "     if i == len(a) - 1 and count > K:\n",
    "        c.append(a[i])\n",
    "    for j in range((i + 1),(len(a))):\n",
    "        if a[i] == a[j]:\n",
    "            count += 1\n",
    "            break\n",
    "        elif a[i] != a[j] and count > K:\n",
    "            c.append(a[i])\n",
    "            count = 1\n",
    "            break\n",
    "    \n",
    "for i in c:\n",
    "    print(i, end = ' ')\n",
    "    \n"
   ]
  },
  {
   "cell_type": "code",
   "execution_count": 5,
   "id": "905b3474",
   "metadata": {},
   "outputs": [
    {
     "name": "stdout",
     "output_type": "stream",
     "text": [
      "0 1 1 1 10 0 \n",
      "0 1 10\n"
     ]
    }
   ],
   "source": [
    "# Код программиста\n",
    "K = 0\n",
    "st = [int(i) for i in input().split()]\n",
    "ans = []\n",
    "[ans.append(x) for x in st if x not in ans and st.count(x) > K]  ## СЛОЖНО!!!\n",
    "print(*ans)"
   ]
  }
 ],
 "metadata": {
  "kernelspec": {
   "display_name": "Python 3 (ipykernel)",
   "language": "python",
   "name": "python3"
  },
  "language_info": {
   "codemirror_mode": {
    "name": "ipython",
    "version": 3
   },
   "file_extension": ".py",
   "mimetype": "text/x-python",
   "name": "python",
   "nbconvert_exporter": "python",
   "pygments_lexer": "ipython3",
   "version": "3.9.7"
  }
 },
 "nbformat": 4,
 "nbformat_minor": 5
}
