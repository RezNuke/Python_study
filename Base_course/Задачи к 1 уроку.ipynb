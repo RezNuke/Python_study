{
 "cells": [
  {
   "cell_type": "code",
   "execution_count": 5,
   "id": "23a525fe",
   "metadata": {},
   "outputs": [
    {
     "name": "stdout",
     "output_type": "stream",
     "text": [
      "3\n",
      "4\n",
      "5\n",
      "6.0\n"
     ]
    }
   ],
   "source": [
    "# Вводится 3 стороны треугольника\n",
    "a = int(input())\n",
    "b = int(input())\n",
    "c = int(input())\n",
    "\n",
    "p = (a + b + c) / 2 # Полупериметр\n",
    "# Рассчитывается площадь треугольника\n",
    "S = (p * (p - a) * (p - b) * (p - c)) ** 0.5 \n",
    "print(S)"
   ]
  },
  {
   "cell_type": "code",
   "execution_count": 11,
   "id": "16b7bd6e",
   "metadata": {},
   "outputs": [
    {
     "name": "stdout",
     "output_type": "stream",
     "text": [
      "500\n",
      "True\n"
     ]
    }
   ],
   "source": [
    "n = int(input())\n",
    "if -15 < n <= 12 or 14 < n < 17 or 19 <= n:\n",
    "    print(True)\n",
    "else:\n",
    "    print(False)\n"
   ]
  },
  {
   "cell_type": "code",
   "execution_count": 25,
   "id": "390d5ed4",
   "metadata": {},
   "outputs": [
    {
     "name": "stdout",
     "output_type": "stream",
     "text": [
      "4\n",
      "0\n",
      "div\n",
      "Деление на 0!\n"
     ]
    }
   ],
   "source": [
    "a = float(input())\n",
    "b = float(input())\n",
    "operate = input()\n",
    "if operate == 'mod':\n",
    "    if b != 0:\n",
    "        print(a % b)\n",
    "    else:\n",
    "        print(\"Деление на 0!\")\n",
    "elif operate == '*':\n",
    "    print(a * b)\n",
    "elif operate == '+':\n",
    "    print(a + b)\n",
    "elif operate == '-':\n",
    "    print(a - b)\n",
    "elif operate == '/':\n",
    "    if b != 0:\n",
    "        print(a / b)    \n",
    "    else:\n",
    "        print(\"Деление на 0!\")\n",
    "elif operate == 'div':\n",
    "    if b != 0:\n",
    "        print(a // b)  \n",
    "    else:\n",
    "        print(\"Деление на 0!\")\n",
    "elif operate == 'pow':\n",
    "    print(a ** b)\n",
    "else:\n",
    "    print(\"Операция не опознана\")\n",
    "\n",
    "\n",
    "    \n",
    "    "
   ]
  },
  {
   "cell_type": "code",
   "execution_count": 27,
   "id": "62124df2",
   "metadata": {},
   "outputs": [
    {
     "name": "stdout",
     "output_type": "stream",
     "text": [
      "круг\n",
      "10\n",
      "314.0\n"
     ]
    }
   ],
   "source": [
    "# Введите тип фигуры\n",
    "figure = input()\n",
    "if figure == 'треугольник':\n",
    "    # Вводится 3 стороны треугольника\n",
    "    a = int(input())\n",
    "    b = int(input())\n",
    "    c = int(input())\n",
    "    p = (a + b + c) / 2  # Полупериметр\n",
    "    # Рассчитывается площадь треугольника\n",
    "    S = (p * (p - a) * (p - b) * (p - c)) ** 0.5 \n",
    "    print(S)\n",
    "elif figure == 'прямоугольник':\n",
    "    # Вводится 2 стороны прямоугольника\n",
    "    a = int(input())\n",
    "    b = int(input())\n",
    "    S = a * b\n",
    "    print(S)\n",
    "elif figure == 'круг':\n",
    "    # Вводится радиус круга\n",
    "    r = int(input())\n",
    "    S = 3.14 * (r ** 2)\n",
    "    print(S)\n",
    "else:\n",
    "    print(\"фигура не опознана\")"
   ]
  },
  {
   "cell_type": "code",
   "execution_count": 49,
   "id": "ee61f7c7",
   "metadata": {
    "scrolled": true
   },
   "outputs": [
    {
     "name": "stdout",
     "output_type": "stream",
     "text": [
      "23\n",
      "23\n",
      "23\n",
      "23\n",
      "23\n",
      "23\n"
     ]
    }
   ],
   "source": [
    "# Быдлокод!!!\n",
    "a = int(input())\n",
    "b = int(input())\n",
    "c = int(input())\n",
    "\n",
    "if (a >= b) and (a >= c):\n",
    "    max_num = a\n",
    "    print(max_num)\n",
    "    if b <= c:\n",
    "        min_num = b\n",
    "        print(min_num)\n",
    "        print(c)\n",
    "    else:\n",
    "        min_num = c\n",
    "        print(min_num)\n",
    "        print(b)\n",
    "elif (b >= a) and (b >= c):\n",
    "    max_num = b\n",
    "    print(max_num)\n",
    "    if a <= c:\n",
    "        min_num = a\n",
    "        print(min_num)\n",
    "        print(c)\n",
    "    else:\n",
    "        min_num = c\n",
    "        print(min_num)\n",
    "        print(a)\n",
    "\n",
    "elif (c >= a) and (c >= b):\n",
    "    max_num = c\n",
    "    print(max_num)\n",
    "    if a <= b:\n",
    "        min_num = a\n",
    "        print(min_num)\n",
    "        print(b)\n",
    "    else:\n",
    "        min_num = b\n",
    "        print(min_num)\n",
    "        print(a)\n",
    "\n",
    "    "
   ]
  },
  {
   "cell_type": "code",
   "execution_count": 72,
   "id": "c5dd93f5",
   "metadata": {},
   "outputs": [
    {
     "name": "stdout",
     "output_type": "stream",
     "text": [
      "116\n",
      "116 программистов\n"
     ]
    }
   ],
   "source": [
    "n = int(input())\n",
    "prog_str = 'программист'\n",
    "if n < 0:\n",
    "    print('число не может быть отрицательным')\n",
    "else:\n",
    "    unit = n % 10\n",
    "    tens = n % 100 // 10 \n",
    "    if unit == 1 and tens != 1:\n",
    "        print(n, prog_str)\n",
    "    elif tens != 1 and 2 <= unit <= 4:\n",
    "        print(n, prog_str + 'а')\n",
    "    else:\n",
    "        print(n, prog_str + 'ов')"
   ]
  },
  {
   "cell_type": "code",
   "execution_count": 78,
   "id": "91a5fba9",
   "metadata": {},
   "outputs": [
    {
     "name": "stdout",
     "output_type": "stream",
     "text": [
      "15620\n",
      "0\n",
      "1\n",
      "5\n",
      "6\n",
      "2\n",
      "0\n"
     ]
    }
   ],
   "source": [
    "n = int(input())\n",
    "print(n % 1000000 // 100000)  # Разряд д. тысяч\n",
    "print(n % 100000 // 10000)  # Разряд тысяч\n",
    "print(n % 10000 // 1000)  # Разряд сотен\n",
    "print(n % 1000 // 100)  # Разряд десятков\n",
    "print(n % 100 // 10)  # Разряд десятков\n",
    "print(n % 10)  # Разряд единиц"
   ]
  },
  {
   "cell_type": "code",
   "execution_count": null,
   "id": "5fb32ddc",
   "metadata": {},
   "outputs": [],
   "source": [
    "ticket = int(input())\n",
    "\n",
    "sum_1 = ticket % 100 // 10 + ticket % 10 + ticket % 1000 // 100\n",
    "print(sum_1)\n",
    "sum_2 = ticket % 1000000 // 100000 + ticket % 100000 // 10000 + ticket % 10000 // 1000\n",
    "print(sum_2)\n",
    "\n",
    "if sum_1 == sum_2:\n",
    "    print(\"Счастливый\")\n",
    "else:\n",
    "    print(\"Обычный\")\n"
   ]
  }
 ],
 "metadata": {
  "kernelspec": {
   "display_name": "Python 3 (ipykernel)",
   "language": "python",
   "name": "python3"
  },
  "language_info": {
   "codemirror_mode": {
    "name": "ipython",
    "version": 3
   },
   "file_extension": ".py",
   "mimetype": "text/x-python",
   "name": "python",
   "nbconvert_exporter": "python",
   "pygments_lexer": "ipython3",
   "version": "3.9.7"
  }
 },
 "nbformat": 4,
 "nbformat_minor": 5
}
