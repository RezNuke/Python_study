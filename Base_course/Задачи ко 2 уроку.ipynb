{
 "cells": [
  {
   "cell_type": "code",
   "execution_count": 3,
   "id": "3e0cb860",
   "metadata": {},
   "outputs": [
    {
     "name": "stdout",
     "output_type": "stream",
     "text": [
      "1\n",
      "1\n",
      "-2\n",
      "Ввод закончен\n",
      "6\n"
     ]
    }
   ],
   "source": [
    "s = 0\n",
    "sum_sq = 0\n",
    "\n",
    "\n",
    "while 1:\n",
    "    a = int(input())\n",
    "    s += a\n",
    "    if s != 0:\n",
    "        sum_sq += a ** 2\n",
    "    else:\n",
    "        sum_sq += a ** 2\n",
    "        break\n",
    "#  print('Ввод закончен')\n",
    "print(sum_sq)"
   ]
  },
  {
   "cell_type": "code",
   "execution_count": 30,
   "id": "345a8ea6",
   "metadata": {},
   "outputs": [
    {
     "name": "stdout",
     "output_type": "stream",
     "text": [
      "5\n",
      "['1', '22', '333', '4444', '55555']\n"
     ]
    }
   ],
   "source": [
    "s = [str(i + 1) * int(i + 1) for i in range(int(input()))]\n",
    "print(s)"
   ]
  },
  {
   "cell_type": "code",
   "execution_count": 29,
   "id": "08bdb886",
   "metadata": {},
   "outputs": [
    {
     "name": "stdout",
     "output_type": "stream",
     "text": [
      "5\n",
      "122333444455555\n",
      "[1, 2, 2, 3, 3, 3, 4, 4, 4, 4, 5, 5, 5, 5, 5]\n"
     ]
    }
   ],
   "source": [
    "str_s = ''\n",
    "list_s = []\n",
    "n = int(input())\n",
    "for i in range(1,n + 1):\n",
    "    str_s = str_s + str(i) * i\n",
    "    for j in range(i):\n",
    "        list_s.append(i)\n",
    "print(str_s)    \n",
    "print(list_s)"
   ]
  },
  {
   "cell_type": "code",
   "execution_count": 32,
   "id": "5f2b1559",
   "metadata": {},
   "outputs": [
    {
     "name": "stdout",
     "output_type": "stream",
     "text": [
      "10\n",
      "1 2 2 3 3 3 4 4 4 4 "
     ]
    }
   ],
   "source": [
    "k = 100\n",
    "list_s = []\n",
    "n = int(input())\n",
    "for i in range(1,k + 1):\n",
    "    for j in range(i):\n",
    "        list_s.append(i)\n",
    "for j in range(n):\n",
    "    print(list_s[j], end = \" \")"
   ]
  },
  {
   "cell_type": "code",
   "execution_count": 37,
   "id": "0f684766",
   "metadata": {},
   "outputs": [
    {
     "name": "stdout",
     "output_type": "stream",
     "text": [
      "5\n",
      "[1, 2, 2, 3, 3]\n"
     ]
    }
   ],
   "source": [
    "# Модернизация того, что выше, с учетом генерирования \n",
    "# списка через list_1 + list_2, list_2 = [i] * k = [i, i, i... k - раз]\n",
    "k = 100\n",
    "list_s = []\n",
    "n = int(input())\n",
    "for i in range(1,k + 1):\n",
    "    list_s += [i] * i\n",
    "print(list_s[:n])"
   ]
  },
  {
   "cell_type": "code",
   "execution_count": 1,
   "id": "1badd9d0",
   "metadata": {},
   "outputs": [
    {
     "name": "stdout",
     "output_type": "stream",
     "text": [
      " 1 1 1 1 1  1\n",
      "1\n",
      "0 1 2 3 4 5 "
     ]
    }
   ],
   "source": [
    "# Вывод индекстов всех элементов 'x' в списке 'lst' с записью в 'x_index_in_lst'\n",
    "lst = [int(i) for i in input().split()]\n",
    "x = int(input())\n",
    "index = -1\n",
    "x_index_in_lst = []\n",
    "\n",
    "for ch in lst:\n",
    "    index += +1\n",
    "    if ch == x:\n",
    "        x_index_in_lst += [index]\n",
    "if len(x_index_in_lst) != 0:\n",
    "    for i in x_index_in_lst:\n",
    "        print(i, end = \" \")\n",
    "else:\n",
    "    print(\"Отсутствует\")"
   ]
  },
  {
   "cell_type": "code",
   "execution_count": 22,
   "id": "079b66fa",
   "metadata": {},
   "outputs": [
    {
     "name": "stdout",
     "output_type": "stream",
     "text": [
      "1 2 1 \n",
      "0\n",
      "['Отсутствует']\n"
     ]
    }
   ],
   "source": [
    "# Решение через list comprehension\n",
    "lst = [int(i) for i in input().split()]\n",
    "x = int(input())\n",
    "\n",
    "x_index_of_lst = ([y for y in range(len(lst)) if lst[y] == x] if x in lst else [\"Отсутствует\"]) \n",
    "\n",
    "print(x_index_of_lst[:])"
   ]
  },
  {
   "cell_type": "code",
   "execution_count": 89,
   "id": "5b23410a",
   "metadata": {},
   "outputs": [
    {
     "name": "stdout",
     "output_type": "stream",
     "text": [
      "9 5 3\n",
      "0 7 -1\n",
      "-5 2 9\n",
      "end\n",
      "3 21 22 \n",
      "10 6 19 \n",
      "20 16 -1 \n"
     ]
    }
   ],
   "source": [
    "#  Работа с матрицами\n",
    "\n",
    "str = []\n",
    "lst = []\n",
    "lst_goal = []\n",
    "\n",
    "#  Генерация списка\n",
    "while str != ['end']:\n",
    "    str = [int(i) if i != 'end' else i for i in input().split()]\n",
    "    if str != ['end']:\n",
    "        lst = lst + [str]\n",
    "    \n",
    "#  Генерация нового целевого списка    \n",
    "#  Выражение стоит вынести в отдельную функцию?!\n",
    "lst_goal = [[lst[i][j-1] + lst[i][j+1-len(lst[i])] + lst[i-1][j] + lst[i+1-len(lst)][j] for j in range(len(lst[i]))] for i in range(len(lst))]\n",
    "                \n",
    "for i in range(len(lst_goal)):\n",
    "    for j in range(len(lst_goal[0])):\n",
    "        print(lst_goal[i][j], end = \" \")\n",
    "    print()       \n",
    "    \n",
    "# print(lst_goal)    "
   ]
  },
  {
   "cell_type": "code",
   "execution_count": 119,
   "id": "c46cf96a",
   "metadata": {},
   "outputs": [
    {
     "name": "stdout",
     "output_type": "stream",
     "text": [
      "3\n",
      "1 2 0 \n",
      "0 0 0 \n",
      "0 0 0 \n"
     ]
    }
   ],
   "source": [
    "x = 0\n",
    "y = 0\n",
    "counter = 0\n",
    "direction = 'right'\n",
    "\n",
    "n = int(input())\n",
    "lst_goal = [[0 for i in range(n)] for j in range(n) ]\n",
    "\n",
    "while counter < n ** 2:  # Mayne n ** 2 + 1 or <=\n",
    "    counter += 1\n",
    "    if lst_goal[x][y + 1 - n] == 0 and 0 <= y < n and direction == 'right': \n",
    "        lst_goal[x][y] = counter\n",
    "        if y < n - 1:\n",
    "            y += 1 \n",
    "        else:\n",
    "            direction = 'bot'\n",
    "    elif lst_goal[x + 1 - n][y] == 0 and (0 <= x < n) and direction == 'bot': \n",
    "        lst_goal[x][y] = counter\n",
    "        if x < n - 1:\n",
    "            x += 1 \n",
    "\n",
    "        \n",
    "        \n",
    "for i in range(n):\n",
    "    for j in range(n):\n",
    "        print(lst_goal[i][j], end = \" \")\n",
    "    print()  \n"
   ]
  },
  {
   "cell_type": "code",
   "execution_count": 1,
   "id": "87c57f8f",
   "metadata": {},
   "outputs": [
    {
     "name": "stdout",
     "output_type": "stream",
     "text": [
      "5\n",
      "1 2 3 4 5 \n",
      "16 17 18 19 6 \n",
      "15 24 25 20 7 \n",
      "14 23 22 21 8 \n",
      "13 12 11 10 9 \n"
     ]
    }
   ],
   "source": [
    "x = 0\n",
    "y = 0\n",
    "counter = 0\n",
    "direction = 'right'\n",
    "\n",
    "n = int(input())\n",
    "lst_goal = [[0 for i in range(n)] for j in range(n) ]\n",
    "\n",
    "while counter < n ** 2: \n",
    "    counter += 1\n",
    "    if y < n and direction == 'right': \n",
    "        lst_goal[x][y] = counter\n",
    "        if lst_goal[x][y + 1 -n] == 0:\n",
    "            y += 1\n",
    "        else:\n",
    "            direction = 'bot'\n",
    "            x += 1\n",
    "    elif x < n and direction == 'bot': \n",
    "        lst_goal[x][y] = counter\n",
    "        if lst_goal[x + 1 -n][y] == 0:\n",
    "            x += 1\n",
    "        else:\n",
    "            direction = 'left'\n",
    "            y -= 1\n",
    "\n",
    "    elif x < n and direction == 'left': \n",
    "        lst_goal[x][y] = counter\n",
    "        if lst_goal[x][y - 1] == 0:\n",
    "            y -= 1\n",
    "        else:\n",
    "            direction = 'top' \n",
    "            x -= 1\n",
    "            \n",
    "    elif x < n and direction == 'top': \n",
    "        lst_goal[x][y] = counter\n",
    "        if lst_goal[x - 1][y] == 0:\n",
    "            x -= 1\n",
    "        else:\n",
    "            direction = 'right' \n",
    "            y += 1\n",
    "            \n",
    "for i in range(n):\n",
    "    for j in range(n):\n",
    "        print(lst_goal[i][j], end = \" \")\n",
    "    print()              "
   ]
  }
 ],
 "metadata": {
  "kernelspec": {
   "display_name": "Python 3 (ipykernel)",
   "language": "python",
   "name": "python3"
  },
  "language_info": {
   "codemirror_mode": {
    "name": "ipython",
    "version": 3
   },
   "file_extension": ".py",
   "mimetype": "text/x-python",
   "name": "python",
   "nbconvert_exporter": "python",
   "pygments_lexer": "ipython3",
   "version": "3.9.7"
  }
 },
 "nbformat": 4,
 "nbformat_minor": 5
}
