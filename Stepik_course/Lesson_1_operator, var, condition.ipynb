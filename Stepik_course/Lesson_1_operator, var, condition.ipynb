{
 "cells": [
  {
   "cell_type": "markdown",
   "id": "48ff3aaa",
   "metadata": {},
   "source": [
    "# Операторы, Переменные, Условные конструкции"
   ]
  },
  {
   "cell_type": "markdown",
   "id": "d816a81a",
   "metadata": {},
   "source": [
    "## Работа с целыми числами"
   ]
  },
  {
   "cell_type": "code",
   "execution_count": 72,
   "id": "624de4dc",
   "metadata": {},
   "outputs": [
    {
     "data": {
      "text/plain": [
       "5"
      ]
     },
     "execution_count": 72,
     "metadata": {},
     "output_type": "execute_result"
    }
   ],
   "source": [
    "3 + 2"
   ]
  },
  {
   "cell_type": "code",
   "execution_count": 73,
   "id": "6edc913d",
   "metadata": {},
   "outputs": [
    {
     "data": {
      "text/plain": [
       "1.0"
      ]
     },
     "execution_count": 73,
     "metadata": {},
     "output_type": "execute_result"
    }
   ],
   "source": [
    "3 / 3"
   ]
  },
  {
   "cell_type": "code",
   "execution_count": 74,
   "id": "61ab1517",
   "metadata": {},
   "outputs": [
    {
     "data": {
      "text/plain": [
       "1"
      ]
     },
     "execution_count": 74,
     "metadata": {},
     "output_type": "execute_result"
    }
   ],
   "source": [
    "3 % 2"
   ]
  },
  {
   "cell_type": "code",
   "execution_count": 75,
   "id": "458039b8",
   "metadata": {},
   "outputs": [
    {
     "data": {
      "text/plain": [
       "2"
      ]
     },
     "execution_count": 75,
     "metadata": {},
     "output_type": "execute_result"
    }
   ],
   "source": [
    "5 // 2"
   ]
  },
  {
   "cell_type": "code",
   "execution_count": 76,
   "id": "1fef877e",
   "metadata": {},
   "outputs": [
    {
     "data": {
      "text/plain": [
       "11"
      ]
     },
     "execution_count": 76,
     "metadata": {},
     "output_type": "execute_result"
    }
   ],
   "source": [
    "3 * 2 + 5"
   ]
  },
  {
   "cell_type": "code",
   "execution_count": 77,
   "id": "b20bb8f1",
   "metadata": {},
   "outputs": [
    {
     "data": {
      "text/plain": [
       "12345554321"
      ]
     },
     "execution_count": 77,
     "metadata": {},
     "output_type": "execute_result"
    }
   ],
   "source": [
    "11111 * 1111111"
   ]
  },
  {
   "cell_type": "code",
   "execution_count": 78,
   "id": "d3f3ab67",
   "metadata": {},
   "outputs": [
    {
     "data": {
      "text/plain": [
       "7"
      ]
     },
     "execution_count": 78,
     "metadata": {},
     "output_type": "execute_result"
    }
   ],
   "source": [
    "42 // 8 + 42 % 8"
   ]
  },
  {
   "cell_type": "code",
   "execution_count": 79,
   "id": "b822c4f3",
   "metadata": {},
   "outputs": [
    {
     "data": {
      "text/plain": [
       "-21.0"
      ]
     },
     "execution_count": 79,
     "metadata": {},
     "output_type": "execute_result"
    }
   ],
   "source": [
    "42 / (4 + 2 * (-3))"
   ]
  },
  {
   "cell_type": "code",
   "execution_count": 80,
   "id": "39750840",
   "metadata": {},
   "outputs": [
    {
     "data": {
      "text/plain": [
       "8"
      ]
     },
     "execution_count": 80,
     "metadata": {},
     "output_type": "execute_result"
    }
   ],
   "source": [
    "2 ** 3"
   ]
  },
  {
   "cell_type": "code",
   "execution_count": 81,
   "id": "f776a016",
   "metadata": {},
   "outputs": [
    {
     "data": {
      "text/plain": [
       "18064773765607550801425251468864907833685590016"
      ]
     },
     "execution_count": 81,
     "metadata": {},
     "output_type": "execute_result"
    }
   ],
   "source": [
    "2014 ** 14"
   ]
  },
  {
   "cell_type": "markdown",
   "id": "6a50ae57",
   "metadata": {},
   "source": [
    "## Работа с вещественными числами"
   ]
  },
  {
   "cell_type": "code",
   "execution_count": 82,
   "id": "303c3a66",
   "metadata": {},
   "outputs": [
    {
     "data": {
      "text/plain": [
       "2.3"
      ]
     },
     "execution_count": 82,
     "metadata": {},
     "output_type": "execute_result"
    }
   ],
   "source": [
    "2.3"
   ]
  },
  {
   "cell_type": "code",
   "execution_count": 83,
   "id": "8431d86f",
   "metadata": {},
   "outputs": [
    {
     "data": {
      "text/plain": [
       "1.3"
      ]
     },
     "execution_count": 83,
     "metadata": {},
     "output_type": "execute_result"
    }
   ],
   "source": [
    "0.5 + 0.8"
   ]
  },
  {
   "cell_type": "code",
   "execution_count": 84,
   "id": "cc523c93",
   "metadata": {},
   "outputs": [
    {
     "data": {
      "text/plain": [
       "1.6666666666666667"
      ]
     },
     "execution_count": 84,
     "metadata": {},
     "output_type": "execute_result"
    }
   ],
   "source": [
    "5 / 3"
   ]
  },
  {
   "cell_type": "code",
   "execution_count": 85,
   "id": "0fa8b80b",
   "metadata": {},
   "outputs": [
    {
     "data": {
      "text/plain": [
       "0.8999999999999999"
      ]
     },
     "execution_count": 85,
     "metadata": {},
     "output_type": "execute_result"
    }
   ],
   "source": [
    "0.3 + 0.3 + 0.3"
   ]
  },
  {
   "cell_type": "code",
   "execution_count": 86,
   "id": "6894dc11",
   "metadata": {},
   "outputs": [
    {
     "data": {
      "text/plain": [
       "0.8999999999999999"
      ]
     },
     "execution_count": 86,
     "metadata": {},
     "output_type": "execute_result"
    }
   ],
   "source": [
    "0.3 * 3"
   ]
  },
  {
   "cell_type": "code",
   "execution_count": 87,
   "id": "d373aa5d",
   "metadata": {},
   "outputs": [
    {
     "data": {
      "text/plain": [
       "32"
      ]
     },
     "execution_count": 87,
     "metadata": {},
     "output_type": "execute_result"
    }
   ],
   "source": [
    "2 ** 5"
   ]
  },
  {
   "cell_type": "code",
   "execution_count": 88,
   "id": "740d04d2",
   "metadata": {},
   "outputs": [
    {
     "data": {
      "text/plain": [
       "1.51657508881031"
      ]
     },
     "execution_count": 88,
     "metadata": {},
     "output_type": "execute_result"
    }
   ],
   "source": [
    "2.3 ** 0.5"
   ]
  },
  {
   "cell_type": "code",
   "execution_count": 89,
   "id": "6cd1a66f",
   "metadata": {},
   "outputs": [
    {
     "data": {
      "text/plain": [
       "0.5"
      ]
     },
     "execution_count": 89,
     "metadata": {},
     "output_type": "execute_result"
    }
   ],
   "source": [
    "5E-1"
   ]
  },
  {
   "cell_type": "code",
   "execution_count": 90,
   "id": "c64e17cf",
   "metadata": {},
   "outputs": [
    {
     "data": {
      "text/plain": [
       "1000.0"
      ]
     },
     "execution_count": 90,
     "metadata": {},
     "output_type": "execute_result"
    }
   ],
   "source": [
    "10E+2"
   ]
  },
  {
   "cell_type": "code",
   "execution_count": 91,
   "id": "c2b76261",
   "metadata": {},
   "outputs": [
    {
     "data": {
      "text/plain": [
       "1000.0"
      ]
     },
     "execution_count": 91,
     "metadata": {},
     "output_type": "execute_result"
    }
   ],
   "source": [
    "10E2"
   ]
  },
  {
   "cell_type": "code",
   "execution_count": 92,
   "id": "7012729a",
   "metadata": {},
   "outputs": [
    {
     "data": {
      "text/plain": [
       "1234.5"
      ]
     },
     "execution_count": 92,
     "metadata": {},
     "output_type": "execute_result"
    }
   ],
   "source": [
    "1.2345E3"
   ]
  },
  {
   "cell_type": "code",
   "execution_count": 93,
   "id": "e12bdf70",
   "metadata": {},
   "outputs": [
    {
     "data": {
      "text/plain": [
       "0.0012345"
      ]
     },
     "execution_count": 93,
     "metadata": {},
     "output_type": "execute_result"
    }
   ],
   "source": [
    "1.2345E-3"
   ]
  },
  {
   "cell_type": "code",
   "execution_count": 94,
   "id": "fba6b29b",
   "metadata": {},
   "outputs": [
    {
     "data": {
      "text/plain": [
       "1.806477376560755e+46"
      ]
     },
     "execution_count": 94,
     "metadata": {},
     "output_type": "execute_result"
    }
   ],
   "source": [
    "2014.0 ** 14"
   ]
  },
  {
   "cell_type": "code",
   "execution_count": 95,
   "id": "6f392fa8",
   "metadata": {},
   "outputs": [
    {
     "data": {
      "text/plain": [
       "2.3333333333333335"
      ]
     },
     "execution_count": 95,
     "metadata": {},
     "output_type": "execute_result"
    }
   ],
   "source": [
    "7 / 3"
   ]
  },
  {
   "cell_type": "code",
   "execution_count": 96,
   "id": "2fb31f73",
   "metadata": {},
   "outputs": [
    {
     "data": {
      "text/plain": [
       "2"
      ]
     },
     "execution_count": 96,
     "metadata": {},
     "output_type": "execute_result"
    }
   ],
   "source": [
    "7 // 3"
   ]
  },
  {
   "cell_type": "markdown",
   "id": "2bfd9e47",
   "metadata": {},
   "source": [
    "## Типы данных"
   ]
  },
  {
   "cell_type": "markdown",
   "id": "96da62f3",
   "metadata": {},
   "source": [
    "Неизменяемые типы:\n",
    "целые числа - int\n",
    "вещественные цисла = float\n",
    "логические - bool\n",
    "строковые - str"
   ]
  },
  {
   "cell_type": "markdown",
   "id": "102510a2",
   "metadata": {},
   "source": [
    "### Изменение типа данных"
   ]
  },
  {
   "cell_type": "code",
   "execution_count": 97,
   "id": "adc7f3d3",
   "metadata": {},
   "outputs": [
    {
     "data": {
      "text/plain": [
       "2"
      ]
     },
     "execution_count": 97,
     "metadata": {},
     "output_type": "execute_result"
    }
   ],
   "source": [
    "int(2.99)"
   ]
  },
  {
   "cell_type": "code",
   "execution_count": 98,
   "id": "2449121a",
   "metadata": {},
   "outputs": [
    {
     "data": {
      "text/plain": [
       "-1"
      ]
     },
     "execution_count": 98,
     "metadata": {},
     "output_type": "execute_result"
    }
   ],
   "source": [
    "int(-1.6)"
   ]
  },
  {
   "cell_type": "code",
   "execution_count": 99,
   "id": "40ba27c1",
   "metadata": {},
   "outputs": [
    {
     "data": {
      "text/plain": [
       "89"
      ]
     },
     "execution_count": 99,
     "metadata": {},
     "output_type": "execute_result"
    }
   ],
   "source": [
    "9 ** 19 - int(float(9 ** 19))"
   ]
  },
  {
   "cell_type": "code",
   "execution_count": 100,
   "id": "52c18389",
   "metadata": {},
   "outputs": [
    {
     "data": {
      "text/plain": [
       "0"
      ]
     },
     "execution_count": 100,
     "metadata": {},
     "output_type": "execute_result"
    }
   ],
   "source": [
    "9 ** 19 - int((9 ** 19))"
   ]
  },
  {
   "cell_type": "markdown",
   "id": "fa12f558",
   "metadata": {},
   "source": [
    "### Определение типа данных"
   ]
  },
  {
   "cell_type": "code",
   "execution_count": 101,
   "id": "67609a62",
   "metadata": {},
   "outputs": [
    {
     "data": {
      "text/plain": [
       "float"
      ]
     },
     "execution_count": 101,
     "metadata": {},
     "output_type": "execute_result"
    }
   ],
   "source": [
    "type(7.0)"
   ]
  },
  {
   "cell_type": "code",
   "execution_count": 102,
   "id": "a260ccf5",
   "metadata": {},
   "outputs": [
    {
     "data": {
      "text/plain": [
       "int"
      ]
     },
     "execution_count": 102,
     "metadata": {},
     "output_type": "execute_result"
    }
   ],
   "source": [
    "type(10)"
   ]
  },
  {
   "cell_type": "code",
   "execution_count": 103,
   "id": "24910085",
   "metadata": {},
   "outputs": [
    {
     "data": {
      "text/plain": [
       "int"
      ]
     },
     "execution_count": 103,
     "metadata": {},
     "output_type": "execute_result"
    }
   ],
   "source": [
    "type(1)"
   ]
  },
  {
   "cell_type": "markdown",
   "id": "ce69ec4c",
   "metadata": {},
   "source": [
    "## Переменные"
   ]
  },
  {
   "cell_type": "code",
   "execution_count": 104,
   "id": "baa903f7",
   "metadata": {
    "scrolled": false
   },
   "outputs": [
    {
     "name": "stdout",
     "output_type": "stream",
     "text": [
      "5\n",
      "--\n",
      "9\n"
     ]
    }
   ],
   "source": [
    "a = 2\n",
    "b = 3\n",
    "print(a + b)\n",
    "print('--')\n",
    "a = 6\n",
    "print(a + b)\n"
   ]
  },
  {
   "cell_type": "code",
   "execution_count": 105,
   "id": "4adc7b71",
   "metadata": {},
   "outputs": [
    {
     "name": "stdout",
     "output_type": "stream",
     "text": [
      "6\n"
     ]
    }
   ],
   "source": [
    "b = 3\n",
    "b = b + 3\n",
    "print(b)"
   ]
  },
  {
   "cell_type": "code",
   "execution_count": 116,
   "id": "3fb4de52",
   "metadata": {},
   "outputs": [
    {
     "ename": "SyntaxError",
     "evalue": "invalid syntax (Temp/ipykernel_6180/3528283569.py, line 3)",
     "output_type": "error",
     "traceback": [
      "\u001b[1;36m  File \u001b[1;32m\"C:\\Users\\C523~1\\AppData\\Local\\Temp/ipykernel_6180/3528283569.py\"\u001b[1;36m, line \u001b[1;32m3\u001b[0m\n\u001b[1;33m    print(a+=3)\u001b[0m\n\u001b[1;37m           ^\u001b[0m\n\u001b[1;31mSyntaxError\u001b[0m\u001b[1;31m:\u001b[0m invalid syntax\n"
     ]
    }
   ],
   "source": [
    "a = 2 \n",
    "a += 3\n",
    "print(a)\n",
    "a = 2 \n",
    "a %= 3\n",
    "print(a)\n",
    "a = 2 \n",
    "a *= 3\n",
    "print(a)\n",
    "a = 2 \n",
    "a **= 3\n",
    "print(a)\n"
   ]
  },
  {
   "cell_type": "code",
   "execution_count": 107,
   "id": "19b0c85b",
   "metadata": {},
   "outputs": [
    {
     "name": "stdout",
     "output_type": "stream",
     "text": [
      "4 2\n"
     ]
    }
   ],
   "source": [
    "# регистр имеет значение\n",
    "a = 4\n",
    "A = 2\n",
    "print(a, A)"
   ]
  },
  {
   "cell_type": "markdown",
   "id": "349cc84b",
   "metadata": {},
   "source": [
    "### Динамическая типизация"
   ]
  },
  {
   "cell_type": "code",
   "execution_count": 108,
   "id": "6e3b1646",
   "metadata": {},
   "outputs": [
    {
     "data": {
      "text/plain": [
       "str"
      ]
     },
     "execution_count": 108,
     "metadata": {},
     "output_type": "execute_result"
    }
   ],
   "source": [
    "a = 2\n",
    "a = 'asc'\n",
    "type(a)"
   ]
  },
  {
   "cell_type": "markdown",
   "id": "d497dca1",
   "metadata": {},
   "source": [
    "## Ввод данных"
   ]
  },
  {
   "cell_type": "code",
   "execution_count": 112,
   "id": "ea6d4402",
   "metadata": {},
   "outputs": [
    {
     "name": "stdout",
     "output_type": "stream",
     "text": [
      "Введете данные - 1\n"
     ]
    },
    {
     "data": {
      "text/plain": [
       "str"
      ]
     },
     "execution_count": 112,
     "metadata": {},
     "output_type": "execute_result"
    }
   ],
   "source": [
    "c = input('Введете данные - ')\n",
    "type(c)"
   ]
  },
  {
   "cell_type": "code",
   "execution_count": 121,
   "id": "b2b6ae12",
   "metadata": {},
   "outputs": [
    {
     "name": "stdout",
     "output_type": "stream",
     "text": [
      "Input your name: Kirill\n",
      "Hello, Kirill\n"
     ]
    }
   ],
   "source": [
    "name = input('Input your name: ')\n",
    "print('Hello,', name)"
   ]
  },
  {
   "cell_type": "code",
   "execution_count": 126,
   "id": "dc3df8d2",
   "metadata": {},
   "outputs": [
    {
     "name": "stdout",
     "output_type": "stream",
     "text": [
      "Enter number 2\n",
      "4\n",
      "2\n"
     ]
    }
   ],
   "source": [
    "n = int(input('Enter number '))\n",
    "print(n * 2)\n",
    "print(n)"
   ]
  },
  {
   "cell_type": "code",
   "execution_count": 127,
   "id": "3a740dc5",
   "metadata": {},
   "outputs": [
    {
     "name": "stdout",
     "output_type": "stream",
     "text": [
      "Enter first number 23\n",
      "Enter second number 1\n",
      "23\n"
     ]
    }
   ],
   "source": [
    "n = int(input('Enter first number '))\n",
    "m = int(input('Enter second number '))\n",
    "print(n * m)"
   ]
  },
  {
   "cell_type": "code",
   "execution_count": 129,
   "id": "b28b26fa",
   "metadata": {},
   "outputs": [
    {
     "name": "stdout",
     "output_type": "stream",
     "text": [
      "7\n",
      "30\n",
      "450\n"
     ]
    }
   ],
   "source": [
    "X = int(input())\n",
    "Y = int(input())\n",
    "print(X * 60 + Y)"
   ]
  },
  {
   "cell_type": "code",
   "execution_count": 131,
   "id": "7352e9c5",
   "metadata": {},
   "outputs": [
    {
     "name": "stdout",
     "output_type": "stream",
     "text": [
      "512\n",
      "8\n",
      "32\n"
     ]
    }
   ],
   "source": [
    "X = int(input())\n",
    "print(X // 60)\n",
    "print(X % 60)"
   ]
  },
  {
   "cell_type": "code",
   "execution_count": 140,
   "id": "3198455e",
   "metadata": {
    "scrolled": true
   },
   "outputs": [
    {
     "name": "stdout",
     "output_type": "stream",
     "text": [
      "100\n",
      "10\n",
      "12\n",
      "11\n",
      "52\n"
     ]
    }
   ],
   "source": [
    "X = int(input()) # Сон в минутах\n",
    "H = int(input()) # Время, когда ложиться в часах\n",
    "M = int(input()) # Время, когда ложиться в минутах\n",
    "print(H + (X // 60) + ((M + X % 60) // 60)) # Будильник выставлен, часы \n",
    "print((M + X) % 60) # Будильник выставлен, минуты"
   ]
  },
  {
   "cell_type": "markdown",
   "id": "5b54e854",
   "metadata": {},
   "source": [
    "## Логические значения"
   ]
  },
  {
   "cell_type": "code",
   "execution_count": 144,
   "id": "cc80bf9b",
   "metadata": {},
   "outputs": [
    {
     "name": "stdout",
     "output_type": "stream",
     "text": [
      "0\n",
      "True\n",
      "True\n"
     ]
    }
   ],
   "source": [
    "x = 0\n",
    "y = 0\n",
    "print(x or y)\n",
    "print(not x)\n",
    "print(not x or y)"
   ]
  },
  {
   "cell_type": "markdown",
   "id": "8f86c084",
   "metadata": {},
   "source": [
    "## Логические операции"
   ]
  },
  {
   "cell_type": "code",
   "execution_count": 148,
   "id": "76e96e3c",
   "metadata": {},
   "outputs": [
    {
     "name": "stdout",
     "output_type": "stream",
     "text": [
      "True\n",
      "False\n",
      "True\n",
      "True\n"
     ]
    }
   ],
   "source": [
    "x = 1\n",
    "y = 12\n",
    "print(x < y)\n",
    "x = 1\n",
    "y = 12\n",
    "print(x > y)\n",
    "x = 1\n",
    "y = 1\n",
    "print(x == y)\n",
    "x = 1\n",
    "y = 1\n",
    "print(x >= y)"
   ]
  },
  {
   "cell_type": "code",
   "execution_count": 151,
   "id": "e7ab01b9",
   "metadata": {},
   "outputs": [
    {
     "name": "stdout",
     "output_type": "stream",
     "text": [
      "-10\n",
      "False\n"
     ]
    }
   ],
   "source": [
    "a = int(input())\n",
    "print(a >= 0)"
   ]
  },
  {
   "cell_type": "code",
   "execution_count": 152,
   "id": "c64e27dd",
   "metadata": {},
   "outputs": [
    {
     "data": {
      "text/plain": [
       "False"
      ]
     },
     "execution_count": 152,
     "metadata": {},
     "output_type": "execute_result"
    }
   ],
   "source": [
    "a = False\n",
    "b = True\n",
    "((a and b) or ((not a) and (not b)))"
   ]
  },
  {
   "cell_type": "code",
   "execution_count": 153,
   "id": "7d62f496",
   "metadata": {},
   "outputs": [
    {
     "data": {
      "text/plain": [
       "True"
      ]
     },
     "execution_count": 153,
     "metadata": {},
     "output_type": "execute_result"
    }
   ],
   "source": [
    "x = 5\n",
    "y = 10\n",
    "y > x * x or y >= 2 * x and x < y"
   ]
  },
  {
   "cell_type": "code",
   "execution_count": 155,
   "id": "1a567145",
   "metadata": {},
   "outputs": [
    {
     "data": {
      "text/plain": [
       "False"
      ]
     },
     "execution_count": 155,
     "metadata": {},
     "output_type": "execute_result"
    }
   ],
   "source": [
    "a = True\n",
    "b = False\n",
    "a and b or not a and not b"
   ]
  },
  {
   "cell_type": "markdown",
   "id": "9f40cf7c",
   "metadata": {},
   "source": [
    "## Условия if, else, elif. Блоки, отступы"
   ]
  },
  {
   "cell_type": "code",
   "execution_count": 157,
   "id": "6e23c09e",
   "metadata": {},
   "outputs": [
    {
     "name": "stdout",
     "output_type": "stream",
     "text": [
      "3\n",
      "Нечетное\n"
     ]
    }
   ],
   "source": [
    "x = int(input())\n",
    "if x % 2 == 0:\n",
    "    print('Четное')\n",
    "else:\n",
    "    print('Нечетное')"
   ]
  },
  {
   "cell_type": "code",
   "execution_count": null,
   "id": "55ab0846",
   "metadata": {},
   "outputs": [],
   "source": [
    "a = int(input(\"Введите первое число: \"))\n",
    "b = int(input(\"Введите второе число: \"))\n",
    "if b != 0:\n",
    "    print(a / b)\n",
    "else:\n",
    "    print(\"Деление на 0 невозможно\")\n",
    "    b = int(input(\"Введите ненулевое значение: \"))\n",
    "    if b == 0:\n",
    "        print(\"Ты издеваешься? \")\n",
    "    else:    \n",
    "        print(a / b)"
   ]
  },
  {
   "cell_type": "code",
   "execution_count": 174,
   "id": "44487a77",
   "metadata": {},
   "outputs": [
    {
     "name": "stdout",
     "output_type": "stream",
     "text": [
      "5\n",
      "5\n",
      "5\n",
      "Это нормально\n"
     ]
    }
   ],
   "source": [
    "A = int(input())\n",
    "B = int(input())\n",
    "H = int(input())\n",
    "if B >= H >= A:\n",
    "    print(\"Это нормально\")\n",
    "else:\n",
    "    if H < A:\n",
    "        print(\"Недосып\")\n",
    "    else:\n",
    "        print(\"Пересып\")"
   ]
  },
  {
   "cell_type": "code",
   "execution_count": 179,
   "id": "1c641c24",
   "metadata": {},
   "outputs": [
    {
     "name": "stdout",
     "output_type": "stream",
     "text": [
      "1562\n",
      "Обычный\n"
     ]
    }
   ],
   "source": [
    "n = int(input())\n",
    "if (n % 4 == 0 and n % 100 != 0) or (n % 400 == 0):\n",
    "    print(\"Високосный\")\n",
    "else: \n",
    "    print(\"Обычный\")\n",
    "    "
   ]
  },
  {
   "cell_type": "markdown",
   "id": "1851a97c",
   "metadata": {},
   "source": [
    "## Строки"
   ]
  },
  {
   "cell_type": "code",
   "execution_count": 194,
   "id": "f1d759f9",
   "metadata": {},
   "outputs": [
    {
     "name": "stdout",
     "output_type": "stream",
     "text": [
      "'abd'\n",
      "a =\n",
      " 'abd'\n"
     ]
    }
   ],
   "source": [
    "# Комментарий\n",
    "'''Комментарий\n",
    "на 2 строки print(a)'''\n",
    "a = \"'abd'\"\n",
    "print(a)\n",
    "print(\"a =\\n\", a)"
   ]
  },
  {
   "cell_type": "code",
   "execution_count": 196,
   "id": "ae438cd1",
   "metadata": {},
   "outputs": [
    {
     "name": "stdout",
     "output_type": "stream",
     "text": [
      "False\n",
      "True\n",
      "False\n",
      "False\n"
     ]
    }
   ],
   "source": [
    "print(\"239\" < \"30\" and 239 < 30)\n",
    "print(\"239\" < \"30\" and 239 > 30)\n",
    "print(\"239\" > \"30\" and 239 < 30)\n",
    "print(\"239\" > \"30\" and 239 > 30)"
   ]
  },
  {
   "cell_type": "markdown",
   "id": "be73d459",
   "metadata": {},
   "source": [
    "## Работа со строками"
   ]
  },
  {
   "cell_type": "code",
   "execution_count": 200,
   "id": "78d3145c",
   "metadata": {},
   "outputs": [
    {
     "name": "stdout",
     "output_type": "stream",
     "text": [
      "string another string\n",
      "stringanother string\n",
      "string\n",
      "another string\n"
     ]
    }
   ],
   "source": [
    "a = 'string'\n",
    "b = 'another string'\n",
    "print(a, b)\n",
    "print(a + b)\n",
    "print(a + '\\n' + b)"
   ]
  },
  {
   "cell_type": "code",
   "execution_count": 202,
   "id": "c692280b",
   "metadata": {},
   "outputs": [
    {
     "name": "stdout",
     "output_type": "stream",
     "text": [
      "12342\n"
     ]
    }
   ],
   "source": [
    "a = \"123\" + \"42\"\n",
    "print(a)"
   ]
  }
 ],
 "metadata": {
  "kernelspec": {
   "display_name": "Python 3 (ipykernel)",
   "language": "python",
   "name": "python3"
  },
  "language_info": {
   "codemirror_mode": {
    "name": "ipython",
    "version": 3
   },
   "file_extension": ".py",
   "mimetype": "text/x-python",
   "name": "python",
   "nbconvert_exporter": "python",
   "pygments_lexer": "ipython3",
   "version": "3.9.7"
  }
 },
 "nbformat": 4,
 "nbformat_minor": 5
}
