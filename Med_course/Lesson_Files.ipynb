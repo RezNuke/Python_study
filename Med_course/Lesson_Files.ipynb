{
 "cells": [
  {
   "cell_type": "markdown",
   "id": "28d4d3d6",
   "metadata": {},
   "source": [
    "# Работа с файлами"
   ]
  },
  {
   "cell_type": "code",
   "execution_count": null,
   "id": "13c307af",
   "metadata": {},
   "outputs": [],
   "source": [
    "path = 'D:\\Programming\\Stepik_course\\Readable files\\dataset_24465_4.txt'\n",
    "\n",
    "lst = []\n",
    "\n",
    "with open(path, 'r') as f:\n",
    "    for line in f:\n",
    "        string = line.strip('\\n')\n",
    "        lst.append(string)\n",
    "        \n",
    "# print(lst[:])  \n",
    "lst_res = lst[::-1]\n",
    "print(lst_res[:])\n",
    "        \n",
    "with open('D:\\Programming\\Stepik_course\\Readable files\\Rev.txt', 'w')  as goal_file:\n",
    "        cont = \"\\n\".join(lst_res)\n",
    "        goal_file.write(cont)"
   ]
  },
  {
   "cell_type": "code",
   "execution_count": 28,
   "id": "15128308",
   "metadata": {},
   "outputs": [],
   "source": [
    "path = 'D:\\Programming\\Stepik_course\\Readable files\\dataset_24465_4.txt'\n",
    "\n",
    "lst = []\n",
    "\n",
    "with open(path, 'r') as f:\n",
    "    for line in f:\n",
    "        string = line.strip('\\n')\n",
    "        lst.append(string)\n",
    "        \n",
    "lst.reverse()\n",
    "\n",
    "with open('D:\\Programming\\Stepik_course\\Readable files\\Rev.txt', 'w')  as goal_file:\n",
    "    for i in lst:\n",
    "        goal_file.writelines(i)"
   ]
  },
  {
   "cell_type": "code",
   "execution_count": 29,
   "id": "e7540870",
   "metadata": {},
   "outputs": [
    {
     "name": "stdout",
     "output_type": "stream",
     "text": [
      "C:\\Users\\Кирилл\\PYTHON\\Обучение питону\\Med_course\n"
     ]
    }
   ],
   "source": [
    "import os\n",
    "import os.path\n",
    "\n",
    "print(os.getcwd())"
   ]
  }
 ],
 "metadata": {
  "kernelspec": {
   "display_name": "Python 3 (ipykernel)",
   "language": "python",
   "name": "python3"
  },
  "language_info": {
   "codemirror_mode": {
    "name": "ipython",
    "version": 3
   },
   "file_extension": ".py",
   "mimetype": "text/x-python",
   "name": "python",
   "nbconvert_exporter": "python",
   "pygments_lexer": "ipython3",
   "version": "3.9.7"
  }
 },
 "nbformat": 4,
 "nbformat_minor": 5
}
