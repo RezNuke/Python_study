{
 "cells": [
  {
   "cell_type": "code",
   "execution_count": 5,
   "id": "2f9946c6",
   "metadata": {},
   "outputs": [
    {
     "name": "stdout",
     "output_type": "stream",
     "text": [
      "9XB8nsIqRfYeswC\n",
      "4sEhUGLEZti9BiN\n",
      "bDjmT0NcIW8nzhb\n",
      "ZN6QQoMOO1ZQLUY\n",
      "RVrF2qdMpoq6Lib\n",
      "tnnX7HH3vJ9Hiji\n",
      "C24TJYYkqekv40l\n",
      "B2ropluPaMAitzE\n",
      "DRezNUVnr2zC0CP\n",
      "XCNmpTvvZb1n3mX\n"
     ]
    }
   ],
   "source": [
    "#import simplecrypt\n",
    "file_info_path = 'D:\\Programming\\Stepik_course\\Readable files\\encrypted.bin'\n",
    "file_password_path = 'D:\\Programming\\Stepik_course\\Readable files\\passwords.txt'\n",
    "\n",
    "with open(file_info_path, \"rb\") as inf:\n",
    "    encrypted = inf.read()\n",
    "\n",
    "\n",
    "\n",
    "\n",
    "with open(file_password_path, \"r\") as psw:\n",
    "    for line in psw:\n",
    "        password = line.strip('\\n')\n",
    "        print(password)\n",
    "\n",
    "    \n",
    "#     try: \n",
    "#         inf = simplecrypt.decrypt(password, encrypted)\n",
    "\n",
    "\n",
    "\n",
    "\n",
    "\n",
    "# inf = simplecrypt.decrypt(data = encrypted, password = 'RVrF2qdMpoq6Lib')\n",
    "# print(inf)\n"
   ]
  },
  {
   "cell_type": "code",
   "execution_count": null,
   "id": "d1827f75",
   "metadata": {},
   "outputs": [],
   "source": []
  }
 ],
 "metadata": {
  "kernelspec": {
   "display_name": "Python 3 (ipykernel)",
   "language": "python",
   "name": "python3"
  },
  "language_info": {
   "codemirror_mode": {
    "name": "ipython",
    "version": 3
   },
   "file_extension": ".py",
   "mimetype": "text/x-python",
   "name": "python",
   "nbconvert_exporter": "python",
   "pygments_lexer": "ipython3",
   "version": "3.9.7"
  }
 },
 "nbformat": 4,
 "nbformat_minor": 5
}
