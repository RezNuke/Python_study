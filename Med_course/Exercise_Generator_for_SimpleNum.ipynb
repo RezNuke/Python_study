{
 "cells": [
  {
   "cell_type": "code",
   "execution_count": null,
   "id": "a08af486",
   "metadata": {},
   "outputs": [],
   "source": [
    "# Рабочая версия\n",
    "\n",
    "def primes(Num):\n",
    "    status = False\n",
    "    for i in range(2,Num):\n",
    "        for j in range(2,i + 1):\n",
    "            if i % j == 0 and i != j:\n",
    "                status = False\n",
    "                break\n",
    "            else:\n",
    "                status = True                \n",
    "        if status:\n",
    "            yield i\n",
    "                \n",
    "                \n",
    "x = int(input())\n",
    "SimpleNum = []\n",
    "gen = primes(x)\n",
    "\n",
    "while True:\n",
    "    try:\n",
    "        SimpleNum.append((next(gen)))\n",
    "    except StopIteration:\n",
    "        break\n",
    "print(SimpleNum[:])        "
   ]
  },
  {
   "cell_type": "code",
   "execution_count": null,
   "id": "7acca2b2",
   "metadata": {},
   "outputs": [],
   "source": [
    "from math import factorial\n",
    "\n",
    "def primes():\n",
    "    i = 2\n",
    "    while True:\n",
    "        if (factorial(i-1) + 1) % i == 0:\n",
    "            yield i\n",
    "        i += 1    \n",
    "\n",
    "Simple = primes()        \n",
    "for z in range(int(input())):\n",
    "    print(next(Simple))"
   ]
  },
  {
   "cell_type": "code",
   "execution_count": null,
   "id": "ccb2231c",
   "metadata": {},
   "outputs": [],
   "source": [
    "def fact(x):\n",
    "    return x * fact(x - 1) if x > 2 else 2\n",
    "\n",
    "print(datetime.datetime.now())\n",
    "print(fact(20))\n",
    "print(datetime.datetime.now())"
   ]
  },
  {
   "cell_type": "code",
   "execution_count": null,
   "id": "5f153be9",
   "metadata": {},
   "outputs": [],
   "source": [
    "import datetime\n",
    "\n",
    "def fact_2(x):\n",
    "    res = 1\n",
    "    for i in range(2,x + 1):\n",
    "        res *= i\n",
    "    return res\n",
    "\n",
    "print(datetime.datetime.now())\n",
    "print(fact_2(20))\n",
    "print(datetime.datetime.now())\n",
    "\n",
    "\n"
   ]
  }
 ],
 "metadata": {
  "kernelspec": {
   "display_name": "Python 3 (ipykernel)",
   "language": "python",
   "name": "python3"
  },
  "language_info": {
   "codemirror_mode": {
    "name": "ipython",
    "version": 3
   },
   "file_extension": ".py",
   "mimetype": "text/x-python",
   "name": "python",
   "nbconvert_exporter": "python",
   "pygments_lexer": "ipython3",
   "version": "3.9.7"
  }
 },
 "nbformat": 4,
 "nbformat_minor": 5
}
