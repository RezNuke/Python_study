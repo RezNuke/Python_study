{
 "cells": [
  {
   "cell_type": "code",
   "execution_count": 12,
   "id": "83c06d05",
   "metadata": {},
   "outputs": [
    {
     "name": "stdout",
     "output_type": "stream",
     "text": [
      "q\n",
      "q\n",
      "q\n",
      "Impossible\n"
     ]
    }
   ],
   "source": [
    "s = input()\n",
    "a = input()\n",
    "b = input()\n",
    "counter = 0\n",
    "\n",
    "while counter <= 1000:\n",
    "    if a in s:\n",
    "        s = s.replace(a, b)\n",
    "#         print(s)\n",
    "        counter += 1\n",
    "    else: \n",
    "        break\n",
    "else: \n",
    "    counter = 'Impossible'\n",
    "    \n",
    "print(counter)    "
   ]
  },
  {
   "cell_type": "code",
   "execution_count": null,
   "id": "e9b4045d",
   "metadata": {},
   "outputs": [],
   "source": [
    "print(str.replace.__doc__)"
   ]
  },
  {
   "cell_type": "code",
   "execution_count": 16,
   "id": "d0c60d0f",
   "metadata": {},
   "outputs": [
    {
     "name": "stdout",
     "output_type": "stream",
     "text": [
      "ababa\n",
      "a\n",
      "b\n",
      "1\n"
     ]
    }
   ],
   "source": [
    "s = input()\n",
    "a = input()\n",
    "b = input()\n",
    "counter = 0\n",
    "\n",
    "while a in s:\n",
    "    s = s.replace(a, b)\n",
    "    counter += 1\n",
    "    if counter > 1000: \n",
    "        counter = 'Impossible'\n",
    "        break\n",
    "    \n",
    "print(counter)    "
   ]
  },
  {
   "cell_type": "code",
   "execution_count": null,
   "id": "f8d2cdd5",
   "metadata": {},
   "outputs": [],
   "source": [
    "s = input()\n",
    "t = input()\n",
    "counter = 0\n",
    "\n",
    "while t in s:\n",
    "    if (s.find(t)) != -1:\n",
    "        counter += 1\n",
    "        s = s[s.index(t) + 1 : ]\n",
    "\n",
    "print(counter)        \n",
    "            "
   ]
  },
  {
   "cell_type": "code",
   "execution_count": null,
   "id": "571ce6ca",
   "metadata": {},
   "outputs": [],
   "source": []
  }
 ],
 "metadata": {
  "kernelspec": {
   "display_name": "Python 3 (ipykernel)",
   "language": "python",
   "name": "python3"
  },
  "language_info": {
   "codemirror_mode": {
    "name": "ipython",
    "version": 3
   },
   "file_extension": ".py",
   "mimetype": "text/x-python",
   "name": "python",
   "nbconvert_exporter": "python",
   "pygments_lexer": "ipython3",
   "version": "3.9.7"
  }
 },
 "nbformat": 4,
 "nbformat_minor": 5
}
