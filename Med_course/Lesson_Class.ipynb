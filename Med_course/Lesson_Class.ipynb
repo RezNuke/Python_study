{
 "cells": [
  {
   "cell_type": "markdown",
   "id": "225fe6fa",
   "metadata": {},
   "source": [
    "# Классы"
   ]
  },
  {
   "cell_type": "code",
   "execution_count": null,
   "id": "c4c80f87",
   "metadata": {},
   "outputs": [],
   "source": [
    "# Тело класса исполняется в момент определения класса\n",
    "class MyClass:\n",
    "    a = 10\n",
    "    def func():\n",
    "        print('Hello')\n",
    "        \n",
    "print(MyClass.a)\n",
    "print(MyClass.func)\n"
   ]
  },
  {
   "cell_type": "code",
   "execution_count": null,
   "id": "58ab239e",
   "metadata": {},
   "outputs": [],
   "source": [
    "# Создание переменной \n",
    "x = MyClass()  # Конструктор - единственный способ создания нового объекта\n",
    "print(type(x))\n",
    "print(type(MyClass))"
   ]
  },
  {
   "cell_type": "code",
   "execution_count": 7,
   "id": "c7b6e179",
   "metadata": {},
   "outputs": [
    {
     "name": "stdout",
     "output_type": "stream",
     "text": [
      "<__main__.Counter object at 0x0000019ACFC41D30>\n"
     ]
    }
   ],
   "source": [
    "class Counter:\n",
    "    pass\n",
    "# Counter  # Объект в оперативной памяти\n",
    "# print(Counter)\n",
    "# print(type(Counter))\n",
    "x = Counter()  # Экземпляр класса\n",
    "print(x)\n",
    "x.count = 0  # Атрибуты оюбъекта x \n",
    "x.count += 1"
   ]
  },
  {
   "cell_type": "code",
   "execution_count": 37,
   "id": "62638994",
   "metadata": {},
   "outputs": [
    {
     "name": "stdout",
     "output_type": "stream",
     "text": [
      "20\n",
      "0\n"
     ]
    }
   ],
   "source": [
    "del Counter\n",
    "class Counter:\n",
    "    def __init__(self, start = 0):  # Фиксированная конструкция __init__(self)\n",
    "        self.count = start          # self - передача экземпляра. Не является  \n",
    "                                    # позиционным аргументом\n",
    "x = Counter(20)                     \n",
    "x1 = Counter()                       \n",
    "print(x.count)\n",
    "print(x1.count)"
   ]
  },
  {
   "cell_type": "code",
   "execution_count": 41,
   "id": "5025a3b3",
   "metadata": {},
   "outputs": [
    {
     "name": "stdout",
     "output_type": "stream",
     "text": [
      "1\n",
      "2\n",
      "0\n"
     ]
    }
   ],
   "source": [
    "del Counter\n",
    "class Counter:\n",
    "    def __init__(self, count = 0):\n",
    "        self.count = count\n",
    "    def inc(self):\n",
    "        self.count += 1 \n",
    "    def reset(self):\n",
    "        self.count = 0      \n",
    "            \n",
    "x = Counter()\n",
    "x.inc()  # Вызываем метод, где на вход передаем себя (x)\n",
    "print(x.count)\n",
    "Counter.inc(x)  # Эквивалент x.inc()\n",
    "print(x.count)\n",
    "x.reset()\n",
    "print(x.count)"
   ]
  },
  {
   "cell_type": "code",
   "execution_count": 67,
   "id": "e683fc8f",
   "metadata": {},
   "outputs": [
    {
     "name": "stdout",
     "output_type": "stream",
     "text": [
      "10\n",
      "0\n"
     ]
    }
   ],
   "source": [
    "class MoneyBox:\n",
    "    \n",
    "    def __init__(self, capacity):\n",
    "        self.capacity = capacity\n",
    "        self.money = 0\n",
    "        \n",
    "    def can_add(self, v):\n",
    "        return (self.money + v) <= self.capacity\n",
    "     \n",
    "        \n",
    "    def add(self, v):\n",
    "        if self.can_add(v):\n",
    "            self.money += v\n",
    "\n",
    "MoneyBox            \n",
    "a = MoneyBox(10)\n",
    "print(a.capacity)\n",
    "print(a.money)\n",
    "a.can_add(10)\n",
    "MoneyBox.add(a, 10)"
   ]
  },
  {
   "cell_type": "code",
   "execution_count": 102,
   "id": "8e642268",
   "metadata": {},
   "outputs": [
    {
     "name": "stdout",
     "output_type": "stream",
     "text": [
      "15\n",
      "35\n"
     ]
    },
    {
     "data": {
      "text/plain": [
       "[]"
      ]
     },
     "execution_count": 102,
     "metadata": {},
     "output_type": "execute_result"
    }
   ],
   "source": [
    "class Buffer():\n",
    "    \n",
    "    def __init__(self):\n",
    "        self.range = list()\n",
    "    \n",
    "    def add(self, *a):\n",
    "        for i in a:\n",
    "            self.range.append(i)\n",
    "            if len(self.range) == 5:\n",
    "                print(sum(self.range[:5]))\n",
    "                self.range.clear()\n",
    "        \n",
    "    def get_current_part(self):\n",
    "        return self.range\n",
    "\n",
    "buf = Buffer()\n",
    "buf.add(1, 2, 3)\n",
    "buf.get_current_part() # вернуть [1, 2, 3]\n",
    "buf.add(4, 5, 6) # print(15) – вывод суммы первой пятерки элементов\n",
    "buf.get_current_part() # вернуть [6]\n",
    "buf.add(7, 8, 9, 10) # print(40) – вывод суммы второй пятерки элементов\n",
    "buf.get_current_part() # вернуть []\n",
    "buf.add(1, 1, 1, 1, 1, 1, 1, 1, 1, 1, 1) # print(5), print(5) – вывод сумм третьей и четвертой пятерки\n",
    "buf.get_current_part() # вернуть [1]"
   ]
  },
  {
   "cell_type": "code",
   "execution_count": null,
   "id": "3f8b53b2",
   "metadata": {},
   "outputs": [],
   "source": [
    "class Buffer:\n",
    "    def __init__(self):\n",
    "        self.lst = []\n",
    "\n",
    "    def add(self, *a):\n",
    "        self.lst.extend(a)\n",
    "        while len(self.lst) >= 5:\n",
    "            print(sum(self.lst[:5]))\n",
    "            self.lst = self.lst[5:]\n",
    "\n",
    "    def get_current_part(self):\n",
    "        return self.lst\n",
    "    \n",
    "buf = Buffer()\n",
    "buf.add(1, 2, 3)\n",
    "buf.get_current_part() # вернуть [1, 2, 3]\n",
    "buf.add(4, 5, 6) # print(15) – вывод суммы первой пятерки элементов\n",
    "buf.get_current_part() # вернуть [6]\n",
    "buf.add(7, 8, 9, 10) # print(40) – вывод суммы второй пятерки элементов\n",
    "buf.get_current_part() # вернуть []\n",
    "buf.add(1, 1, 1, 1, 1, 1, 1, 1, 1, 1, 1) # print(5), print(5) – вывод сумм третьей и четвертой пятерки\n",
    "buf.get_current_part() # вернуть [1]    "
   ]
  },
  {
   "cell_type": "code",
   "execution_count": 3,
   "id": "21436181",
   "metadata": {},
   "outputs": [
    {
     "name": "stdout",
     "output_type": "stream",
     "text": [
      "['Americana', 'Country', 'Russia', 'R&B']\n",
      "['Americana', 'Country', 'Russia', 'R&B']\n"
     ]
    }
   ],
   "source": [
    "# Некорректное определение класса. Если в экземпляре нету\n",
    "# аргумента, то поиск идет внутри класса\n",
    "class song:\n",
    "    tags = []\n",
    "    \n",
    "    def __init__(self, artist, song):\n",
    "        self.artist = artist\n",
    "        self.song = song\n",
    "        \n",
    "    def add_tags(self, *args):\n",
    "        self.tags.extend(args)\n",
    "        \n",
    "song1 = song('Artist_1', \"Song_1\")\n",
    "song1.add_tags('Americana', \"Country\")\n",
    "\n",
    "song2 = song('Artist_2', \"Song_2\")\n",
    "song2.add_tags('Russia', \"R&B\")\n",
    "\n",
    "print(song1.tags)  #Ожидается, что в списке 'Americana', 'Country'\n",
    "print(song2.tags)  #Ожидается, что в списке 'Russia', 'R&B' "
   ]
  },
  {
   "cell_type": "code",
   "execution_count": 5,
   "id": "b80ae4fc",
   "metadata": {},
   "outputs": [
    {
     "name": "stdout",
     "output_type": "stream",
     "text": [
      "['Americana', 'Country']\n",
      "['Russia', 'R&B']\n"
     ]
    }
   ],
   "source": [
    "# Корректное определение класса.\n",
    "class song:\n",
    "    \n",
    "    def __init__(self, artist, song):\n",
    "        self.artist = artist\n",
    "        self.song = song\n",
    "        self.tags = []\n",
    "        \n",
    "    def add_tags(self, *args):\n",
    "        self.tags.extend(args)\n",
    "        \n",
    "song1 = song('Artist_1', \"Song_1\")\n",
    "song1.add_tags('Americana', \"Country\")\n",
    "\n",
    "song2 = song('Artist_2', \"Song_2\")\n",
    "song2.add_tags('Russia', \"R&B\")\n",
    "\n",
    "print(song1.tags)  #Ожидается, что в списке 'Americana', 'Country'\n",
    "print(song2.tags)  #Ожидается, что в списке 'Russia', 'R&B'"
   ]
  },
  {
   "cell_type": "markdown",
   "id": "ed829632",
   "metadata": {},
   "source": [
    "## Наследование классов"
   ]
  },
  {
   "cell_type": "code",
   "execution_count": 7,
   "id": "75915ea5",
   "metadata": {},
   "outputs": [
    {
     "name": "stdout",
     "output_type": "stream",
     "text": [
      "[]\n",
      "[1, 2, 3, 4, 5]\n",
      "False\n",
      "True\n"
     ]
    }
   ],
   "source": [
    "class MyList(list):\n",
    "    def even_length(self):\n",
    "        return len(self) % 2 == 0\n",
    "    \n",
    "x = MyList()\n",
    "print(x)\n",
    "x.extend([1, 2, 3, 4, 5])\n",
    "print(x)\n",
    "print(x.even_length())\n",
    "x.append(6)\n",
    "print(x.even_length())"
   ]
  },
  {
   "cell_type": "code",
   "execution_count": 14,
   "id": "8dddca1b",
   "metadata": {},
   "outputs": [
    {
     "name": "stdout",
     "output_type": "stream",
     "text": [
      "True\n",
      "True\n",
      "False\n",
      "False\n",
      "True\n",
      "[<class '__main__.A'>, <class '__main__.B'>, <class '__main__.D'>, <class '__main__.E'>, <class '__main__.C'>, <class 'object'>]\n"
     ]
    }
   ],
   "source": [
    "# Множественное наследование\n",
    "class D: pass\n",
    "class E: pass\n",
    "class B(D, E): pass\n",
    "class C: pass\n",
    "class A(B, C): pass\n",
    "\n",
    "#    -> C\n",
    "# A        \n",
    "#    -> B  -> D \n",
    "#          -> E\n",
    "\n",
    "# issubclass(A, B) - функция проверяет наследование классов\n",
    "print(issubclass(A, A))\n",
    "print(issubclass(A, D))\n",
    "print(issubclass(C, D))\n",
    "print(issubclass(object, C))\n",
    "print(issubclass(C, object))\n",
    "\n",
    "x = A()\n",
    "# isinstance(x, A) -> проверяет, может ли объект x в качестве объекта типа А \n",
    "isinstance(x, A)\n",
    "isinstance(x, D)\n",
    "\n",
    "# Перебор классов для поиска метода\n",
    "print(A.mro())"
   ]
  },
  {
   "cell_type": "code",
   "execution_count": 18,
   "id": "22c93a37",
   "metadata": {},
   "outputs": [
    {
     "name": "stdout",
     "output_type": "stream",
     "text": [
      "[<class '__main__.E'>, <class '__main__.B'>, <class '__main__.A'>, <class '__main__.C'>, <class '__main__.D'>, <class 'object'>]\n"
     ]
    }
   ],
   "source": [
    "class A:\n",
    "    pass\n",
    "\n",
    "class B(A):\n",
    "    pass\n",
    "\n",
    "class C:\n",
    "    pass\n",
    "\n",
    "class D:\n",
    "    pass\n",
    "\n",
    "class E(B, C, D):\n",
    "    pass\n",
    "\n",
    "M = E()\n",
    "print(E.mro())"
   ]
  },
  {
   "cell_type": "code",
   "execution_count": 24,
   "id": "a22aa297",
   "metadata": {},
   "outputs": [
    {
     "name": "stdout",
     "output_type": "stream",
     "text": [
      "[<class '__main__.E'>, <class '__main__.B'>, <class '__main__.C'>, <class '__main__.D'>, <class '__main__.A'>, <class 'object'>]\n"
     ]
    }
   ],
   "source": [
    "class A:\n",
    "    def foo(self):\n",
    "      print(\"A\")\n",
    "\n",
    "class B(A):\n",
    "    pass\n",
    "\n",
    "class C:\n",
    "    def foo(self):\n",
    "      print(\"C\")\n",
    "\n",
    "class D(A):\n",
    "    def foo(self):\n",
    "      print(\"D\")\n",
    "\n",
    "class E(B, C, D):\n",
    "    pass\n",
    "\n",
    "print(E.mro())"
   ]
  },
  {
   "cell_type": "markdown",
   "id": "ae450bcd",
   "metadata": {},
   "source": [
    "## Задачи"
   ]
  },
  {
   "cell_type": "code",
   "execution_count": 88,
   "id": "dae11512",
   "metadata": {},
   "outputs": [
    {
     "name": "stdout",
     "output_type": "stream",
     "text": [
      "a: \n",
      "{'a': []}\n",
      "b: a\n",
      "{'a': [], 'b': ['a']}\n",
      "c: a\n",
      "{'a': [], 'b': ['a'], 'c': ['a']}\n",
      "d:  b c\n",
      "{'a': [], 'b': ['a'], 'c': ['a'], 'd': ['b', 'c']}\n",
      "end\n"
     ]
    }
   ],
   "source": [
    "legacy = dict()\n",
    "s = ''\n",
    "\n",
    "def legacy_class(leg): \n",
    "    status = False\n",
    "    for key in legacy.keys():   \n",
    "        if leg == key:\n",
    "            status = True\n",
    "            break\n",
    "        else:\n",
    "            status = False\n",
    "    return status\n",
    "\n",
    "def legacy_create(leg):\n",
    "    if not legacy_class(leg[0]) and leg[0] != [] :\n",
    "        legacy[leg[0]] = list()\n",
    "        for i in leg[1].split():\n",
    "            if i not in legacy:\n",
    "                legacy[i] = []\n",
    "            if i != ' ':   \n",
    "                legacy[leg[0]].append(i)\n",
    "\n",
    "while s != 'end':  \n",
    "    s = input().split(':')  \n",
    "    if s[0] == 'end':\n",
    "        break\n",
    "    legacy_create(s)\n",
    "    print(legacy)"
   ]
  },
  {
   "cell_type": "code",
   "execution_count": 89,
   "id": "a021293b",
   "metadata": {},
   "outputs": [
    {
     "ename": "SyntaxError",
     "evalue": "invalid syntax (Temp/ipykernel_17584/1028866906.py, line 25)",
     "output_type": "error",
     "traceback": [
      "\u001b[1;36m  File \u001b[1;32m\"C:\\Users\\C523~1\\AppData\\Local\\Temp/ipykernel_17584/1028866906.py\"\u001b[1;36m, line \u001b[1;32m25\u001b[0m\n\u001b[1;33m    if\u001b[0m\n\u001b[1;37m       ^\u001b[0m\n\u001b[1;31mSyntaxError\u001b[0m\u001b[1;31m:\u001b[0m invalid syntax\n"
     ]
    }
   ],
   "source": [
    "legacy = dict()\n",
    "s = ''\n",
    "\n",
    "def legacy_class(leg): \n",
    "    status = False\n",
    "    for key in legacy.keys():   \n",
    "        if leg == key:\n",
    "            status = True\n",
    "            break\n",
    "        else:\n",
    "            status = False\n",
    "    return status\n",
    "\n",
    "def legacy_create(leg):\n",
    "    if not legacy_class(leg[0]) or leg[0] != []:\n",
    "        legacy[leg[0]] = list()\n",
    "        for i in leg[1].split():\n",
    "            if i not in legacy:\n",
    "                legacy[i] = []\n",
    "            if i != ' ':   \n",
    "                legacy[leg[0]].append(i)               \n",
    "                \n",
    "def legacy_parent(parent, child):\n",
    "    for key, value in legacy.items():\n",
    "        if key != child:\n",
    "            continue\n",
    "        else:\n",
    "            for el in value:\n",
    "                if el == parent:\n",
    "                    return 'Yes'\n",
    "    return 'No'            \n",
    "                       \n",
    "while s != 'end':  \n",
    "    s = input().split(':')  \n",
    "    if s[0] == 'end':\n",
    "        break\n",
    "    legacy_create(s)\n",
    "    print(legacy)"
   ]
  }
 ],
 "metadata": {
  "kernelspec": {
   "display_name": "Python 3 (ipykernel)",
   "language": "python",
   "name": "python3"
  },
  "language_info": {
   "codemirror_mode": {
    "name": "ipython",
    "version": 3
   },
   "file_extension": ".py",
   "mimetype": "text/x-python",
   "name": "python",
   "nbconvert_exporter": "python",
   "pygments_lexer": "ipython3",
   "version": "3.9.7"
  }
 },
 "nbformat": 4,
 "nbformat_minor": 5
}
