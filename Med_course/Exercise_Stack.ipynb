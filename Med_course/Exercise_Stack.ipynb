{
 "cells": [
  {
   "cell_type": "code",
   "execution_count": 8,
   "id": "0fbbc30a",
   "metadata": {},
   "outputs": [
    {
     "name": "stdout",
     "output_type": "stream",
     "text": [
      "None\n"
     ]
    }
   ],
   "source": [
    "class ExtendedStack(list):\n",
    "    def sum(self):\n",
    "        # операция сложения\n",
    "        self.append(self.pop() + self.pop())\n",
    "\n",
    "    def sub(self):\n",
    "        # операция вычитания\n",
    "        self.append(self.pop() - self.pop())\n",
    "    \n",
    "    def mul(self):\n",
    "        # операция умножения\n",
    "        self.append(self.pop() * self.pop())\n",
    "        \n",
    "    def div(self):\n",
    "        # операция целочисленного деления\n",
    "        self.append(self.pop() // self.pop())\n",
    "    \n",
    "\n"
   ]
  }
 ],
 "metadata": {
  "kernelspec": {
   "display_name": "Python 3 (ipykernel)",
   "language": "python",
   "name": "python3"
  },
  "language_info": {
   "codemirror_mode": {
    "name": "ipython",
    "version": 3
   },
   "file_extension": ".py",
   "mimetype": "text/x-python",
   "name": "python",
   "nbconvert_exporter": "python",
   "pygments_lexer": "ipython3",
   "version": "3.9.7"
  }
 },
 "nbformat": 4,
 "nbformat_minor": 5
}
