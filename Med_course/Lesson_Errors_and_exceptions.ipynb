{
 "cells": [
  {
   "cell_type": "markdown",
   "id": "69a497de",
   "metadata": {},
   "source": [
    "# Ошибки и исключения"
   ]
  },
  {
   "cell_type": "code",
   "execution_count": 24,
   "id": "47010105",
   "metadata": {},
   "outputs": [
    {
     "name": "stdout",
     "output_type": "stream",
     "text": [
      "ZeroDivisionError\n"
     ]
    }
   ],
   "source": [
    "def foo(x, y):\n",
    "    return x / y\n",
    "\n",
    "try:\n",
    "    foo(2, 0)\n",
    "except ZeroDivisionError:\n",
    "    print('ZeroDivisionError')\n",
    "except AssertionError:\n",
    "    print('AssertionError')\n",
    "except ArithmeticError:\n",
    "    print('ArithmeticError')"
   ]
  },
  {
   "cell_type": "code",
   "execution_count": 32,
   "id": "c4d0a37d",
   "metadata": {},
   "outputs": [
    {
     "name": "stdout",
     "output_type": "stream",
     "text": [
      "ZeroDivisionError\n"
     ]
    }
   ],
   "source": [
    "def foo(x, y):\n",
    "    return x / y\n",
    "\n",
    "try:\n",
    "    foo(2, 0)\n",
    "except (ZeroDivisionError, AssertionError) as e:\n",
    "    print(e.__class__.__name__)\n",
    "except ArithmeticError as e:\n",
    "    print(e.__name__)"
   ]
  },
  {
   "cell_type": "code",
   "execution_count": null,
   "id": "f68a07f1",
   "metadata": {},
   "outputs": [],
   "source": []
  }
 ],
 "metadata": {
  "kernelspec": {
   "display_name": "Python 3 (ipykernel)",
   "language": "python",
   "name": "python3"
  },
  "language_info": {
   "codemirror_mode": {
    "name": "ipython",
    "version": 3
   },
   "file_extension": ".py",
   "mimetype": "text/x-python",
   "name": "python",
   "nbconvert_exporter": "python",
   "pygments_lexer": "ipython3",
   "version": "3.9.7"
  }
 },
 "nbformat": 4,
 "nbformat_minor": 5
}
