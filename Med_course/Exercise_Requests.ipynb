{
 "cells": [
  {
   "cell_type": "code",
   "execution_count": 51,
   "id": "68f393e1",
   "metadata": {},
   "outputs": [
    {
     "data": {
      "text/plain": [
       "['https://stepic.org/media/attachments/lesson/24472/sample1.html']"
      ]
     },
     "execution_count": 51,
     "metadata": {},
     "output_type": "execute_result"
    }
   ],
   "source": [
    "import requests\n",
    "import re\n",
    "A = 'https://stepic.org/media/attachments/lesson/24472/sample0.html'\n",
    "pattern = r'(https?://[\\S]+.html)'\n",
    "\n",
    "html_a = requests.get(A)\n",
    "re.findall(pattern, html_a.text)"
   ]
  },
  {
   "cell_type": "code",
   "execution_count": null,
   "id": "d0f687a2",
   "metadata": {},
   "outputs": [],
   "source": [
    "import requests\n",
    "import re\n",
    "\n",
    "A = 'https://stepic.org/media/attachments/lesson/24472/sample0.html'\n",
    "B = 'https://stepic.org/media/attachments/lesson/24472/sample1.html'\n",
    "\n",
    "url = A\n",
    "counter = 0\n",
    "status_B = False\n",
    "\n",
    "pattern_link_1 = r'(https?://[\\S]+.html)'\n",
    "\n",
    "html_a = requests.get(url)\n",
    "urls = re.findall(pattern_link_1, html_a.text)\n",
    "for url in urls:\n",
    "    html_a = requests.get(url)\n",
    "    urls = re.findall(pattern_link_1, html_a.text)\n",
    "    if B in urls:\n",
    "        print('Yes')\n",
    "    else:\n",
    "        print('No')"
   ]
  },
  {
   "cell_type": "markdown",
   "id": "7bdb91a6",
   "metadata": {},
   "source": [
    "## Ex_2"
   ]
  },
  {
   "cell_type": "code",
   "execution_count": 23,
   "id": "f112ab8e",
   "metadata": {},
   "outputs": [
    {
     "name": "stdout",
     "output_type": "stream",
     "text": [
      "['http://stepic.org/courses', 'https://stepic.org', 'http://neerc.ifmo.ru:1345', 'ftp://mail.ru/distib', 'ya.ru', 'www.ya.ru', '../skip_relative_links']\n",
      "{'ya.ru', 'neerc.ifmo.ru:1345', '../skip_relative_links', 'stepic.org', 'mail.ru', 'www.ya.ru'}\n"
     ]
    }
   ],
   "source": [
    "import requests\n",
    "import re\n",
    "import urllib\n",
    "\n",
    "Test = 'https://raw.githubusercontent.com/cr00z/cr00z/main/temp/test_stepik.txt'\n",
    "site_set = set()\n",
    "\n",
    "\n",
    "pattern_url = r'a[\\s]*href=[\\'|\\\"]([\\S]*)[\\'|\\\"]'\n",
    "pattern_site = r'http://(.+?)(/.*)*$'\n",
    "\n",
    "html_a = requests.get(Test)\n",
    "if html_a.status_code == 200:\n",
    "    url = re.findall(pattern_url, html_a.text)\n",
    "    print(url)\n",
    "    for i in url:\n",
    "        if urllib.parse.urlparse(i).netloc != '':\n",
    "            site_set.add(urllib.parse.urlparse(i).netloc)  \n",
    "        elif urllib.parse.urlparse(i).path != '':\n",
    "            site_set.add(urllib.parse.urlparse(i).path)\n",
    "print(site_set)"
   ]
  },
  {
   "cell_type": "code",
   "execution_count": 73,
   "id": "98ba0493",
   "metadata": {},
   "outputs": [
    {
     "name": "stdout",
     "output_type": "stream",
     "text": [
      "mail.ru/distib\n",
      "neerc.ifmo.ru:1345\n",
      "stepic.org\n",
      "stepic.org/courses\n",
      "www.ya.ru\n"
     ]
    }
   ],
   "source": [
    "import requests\n",
    "import re\n",
    "\n",
    "\n",
    "Test = 'https://raw.githubusercontent.com/cr00z/cr00z/main/temp/test_stepik.txt'\n",
    "site_set = set()\n",
    "\n",
    "pattern_url = r'a[\\s]*href=[\\'|\\\"]([\\S]*)[\\'|\\\"]'\n",
    "pattern_site = r'(\\w\\w+\\.\\w+\\.?\\w+.?\\w+)'\n",
    "\n",
    "html_a = requests.get(Test)\n",
    "if html_a.status_code == 200:\n",
    "    url = re.findall(pattern_url, html_a.text)\n",
    "    for i in url:\n",
    "        site = re.search(pattern_site, i)\n",
    "        try:\n",
    "            if site.group(1) is not None:\n",
    "                site_set.add(site.group(1))\n",
    "        except:\n",
    "            pass\n",
    "site_list = list(site_set)   \n",
    "site_list.sort()\n",
    "for i in site_list:\n",
    "    print(i)"
   ]
  },
  {
   "cell_type": "code",
   "execution_count": null,
   "id": "0388632c",
   "metadata": {},
   "outputs": [],
   "source": []
  }
 ],
 "metadata": {
  "kernelspec": {
   "display_name": "Python 3 (ipykernel)",
   "language": "python",
   "name": "python3"
  },
  "language_info": {
   "codemirror_mode": {
    "name": "ipython",
    "version": 3
   },
   "file_extension": ".py",
   "mimetype": "text/x-python",
   "name": "python",
   "nbconvert_exporter": "python",
   "pygments_lexer": "ipython3",
   "version": "3.9.7"
  }
 },
 "nbformat": 4,
 "nbformat_minor": 5
}
