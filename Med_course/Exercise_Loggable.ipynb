{
 "cells": [
  {
   "cell_type": "code",
   "execution_count": 24,
   "id": "b31087ab",
   "metadata": {},
   "outputs": [
    {
     "name": "stdout",
     "output_type": "stream",
     "text": [
      "Thu Mar 24 21:44:15 2022: msg\n"
     ]
    }
   ],
   "source": [
    "import time\n",
    "\n",
    "class Loggable:\n",
    "    def log(self, msg):\n",
    "        print(str(time.ctime()) + \": \" + str(msg))\n",
    "\n",
    "class LoggableList(list, Loggable):\n",
    "    def append(self, msg):\n",
    "        super(LoggableList, self).append(msg)\n",
    "        self.log(msg)\n",
    "    \n",
    "        \n",
    "        \n",
    "x = LoggableList('qwe')        \n",
    "x.append('msg')\n",
    "             "
   ]
  },
  {
   "cell_type": "code",
   "execution_count": 27,
   "id": "5d8bf754",
   "metadata": {},
   "outputs": [
    {
     "name": "stdout",
     "output_type": "stream",
     "text": [
      "Thu Mar 24 21:48:38 2022: msg\n"
     ]
    }
   ],
   "source": [
    "import time\n",
    "\n",
    "class Loggable:\n",
    "    def log(self, msg):\n",
    "        print(str(time.ctime()) + \": \" + str(msg))\n",
    "\n",
    "class LoggableList(list, Loggable):\n",
    "    def append(self, msg):\n",
    "        super(LoggableList, self).append(msg)\n",
    "        self.log(msg)\n",
    "    \n",
    "        \n",
    "# z = list('qwe')\n",
    "# print(z)\n",
    "x = LoggableList()  # __init__ из  класса list  \n",
    "x.append('msg')"
   ]
  }
 ],
 "metadata": {
  "kernelspec": {
   "display_name": "Python 3 (ipykernel)",
   "language": "python",
   "name": "python3"
  },
  "language_info": {
   "codemirror_mode": {
    "name": "ipython",
    "version": 3
   },
   "file_extension": ".py",
   "mimetype": "text/x-python",
   "name": "python",
   "nbconvert_exporter": "python",
   "pygments_lexer": "ipython3",
   "version": "3.9.7"
  }
 },
 "nbformat": 4,
 "nbformat_minor": 5
}
