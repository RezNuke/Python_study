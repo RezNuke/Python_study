{
 "cells": [
  {
   "cell_type": "code",
   "execution_count": null,
   "id": "7dee3f38",
   "metadata": {},
   "outputs": [],
   "source": [
    "fib = lambda x : 1 if x <= 2 else fib(x - 1) + fib(x - 2)\n",
    "fib(31)"
   ]
  },
  {
   "cell_type": "code",
   "execution_count": null,
   "id": "783da33c",
   "metadata": {},
   "outputs": [],
   "source": [
    "n = int(input())\n",
    "s = 0\n",
    "for i in range(n):\n",
    "    s += int(input())\n",
    "print(s)    "
   ]
  },
  {
   "cell_type": "code",
   "execution_count": null,
   "id": "2c1a4f7d",
   "metadata": {},
   "outputs": [],
   "source": [
    "print(sum([int(input()) for _ in range(int(input()))]))\n"
   ]
  },
  {
   "cell_type": "markdown",
   "id": "a7f353f2",
   "metadata": {},
   "source": [
    "# Присвоение объектов и их связь"
   ]
  },
  {
   "cell_type": "code",
   "execution_count": null,
   "id": "5ec471e4",
   "metadata": {},
   "outputs": [],
   "source": [
    "x = 4\n",
    "y = x\n",
    "print(x, y)\n",
    "print(id(x),id(y))\n",
    "x += 1\n",
    "print(x, y)\n",
    "print(id(x),id(y))"
   ]
  },
  {
   "cell_type": "code",
   "execution_count": null,
   "id": "d7e561ce",
   "metadata": {},
   "outputs": [],
   "source": [
    "x = [1, 2, 3]\n",
    "print(id(x))\n",
    "print(id([1, 2, 3]))"
   ]
  },
  {
   "cell_type": "code",
   "execution_count": null,
   "id": "c7e7bdc6",
   "metadata": {},
   "outputs": [],
   "source": [
    "x = [1, 2, 3]\n",
    "y = x\n",
    "print(y is x) # True, если совпадают id\n",
    "print(y is [[1, 2, 3]])"
   ]
  },
  {
   "cell_type": "code",
   "execution_count": null,
   "id": "6abe8ff4",
   "metadata": {},
   "outputs": [],
   "source": [
    "x = [1, 2, 3]\n",
    "y = x\n",
    "print(y is x)\n",
    "x.append(4)\n",
    "print(x)\n",
    "print(y)"
   ]
  },
  {
   "cell_type": "code",
   "execution_count": null,
   "id": "00debd77",
   "metadata": {},
   "outputs": [],
   "source": [
    "x = [1, 2, 3]\n",
    "y = x\n",
    "y.append(4)\n",
    "\n",
    "s = \"123\"\n",
    "print(id(s))\n",
    "t = s\n",
    "print(id(t))\n",
    "t = t + \"4\"\n",
    "print(id(t))\n",
    "\n",
    "print(str(x) + \" \" + s)"
   ]
  },
  {
   "cell_type": "code",
   "execution_count": null,
   "id": "7493cad8",
   "metadata": {},
   "outputs": [],
   "source": [
    "t = complex(12, 2)\n",
    "t"
   ]
  },
  {
   "cell_type": "code",
   "execution_count": null,
   "id": "8a65722b",
   "metadata": {},
   "outputs": [],
   "source": [
    "# Поиск уникальных значений - запомни алгоритм!!!\n",
    "# Сравниваем элемент со всеми элементами до исходного!!!\n",
    "\n",
    "objects = [1, 2, 2, 1, True]\n",
    "goal = list()\n",
    "i = 0\n",
    "Uniq = True\n",
    "\n",
    "while i < len(objects):\n",
    "    j = i\n",
    "    Uniq = True\n",
    "    while j > 0:\n",
    "        if objects[i] is objects[j - 1]:\n",
    "            Uniq = False\n",
    "            break\n",
    "        j -= 1    \n",
    "    if Uniq:\n",
    "        goal.append(objects[i])\n",
    "            \n",
    "    i += 1        \n",
    "    \n",
    "\n",
    "print(len(goal))"
   ]
  },
  {
   "cell_type": "code",
   "execution_count": null,
   "id": "f66259ca",
   "metadata": {},
   "outputs": [],
   "source": [
    "objects = [1, 2, 2, 1, True]\n",
    "ans = []\n",
    "for obj in objects:\n",
    "    if obj not in ans: ans.append(obj)\n",
    "print(len(ans))"
   ]
  },
  {
   "cell_type": "markdown",
   "id": "30c9f8c8",
   "metadata": {},
   "source": [
    "## Функции и стек вызовов"
   ]
  },
  {
   "cell_type": "code",
   "execution_count": null,
   "id": "37aa916f",
   "metadata": {},
   "outputs": [],
   "source": [
    "def function_name(arg1, arg2):\n",
    "    return(arg1 + arg2)\n",
    "x = function_name(2, 4)\n",
    "y = function_name(x, 20)\n",
    "print(function_name)\n",
    "id(function_name)"
   ]
  },
  {
   "cell_type": "code",
   "execution_count": null,
   "id": "3f82eec0",
   "metadata": {},
   "outputs": [],
   "source": [
    "def list_sum(lst):\n",
    "    result = 0\n",
    "    for el in lst:\n",
    "        result += el\n",
    "    return result    \n",
    "\n",
    "def Summ(a, b):\n",
    "    return a + b\n",
    "    \n",
    "y = Summ(13, 82)\n",
    "z = list_sum([1, 2, 3])\n",
    "\n",
    "print(y)\n",
    "print(z)"
   ]
  },
  {
   "cell_type": "markdown",
   "id": "1d5382a5",
   "metadata": {},
   "source": [
    "### Стек"
   ]
  },
  {
   "cell_type": "code",
   "execution_count": null,
   "id": "da87370d",
   "metadata": {},
   "outputs": [],
   "source": [
    "def g():\n",
    "    print('I am in g - func')\n",
    "def f():\n",
    "    print('I am in f - func')\n",
    "    g()\n",
    "    print('I am in f - func')\n",
    "    \n",
    "print('I am outside of any func')\n",
    "f()\n",
    "print('I am outside of any func')"
   ]
  },
  {
   "cell_type": "code",
   "execution_count": null,
   "id": "99c1b5f5",
   "metadata": {},
   "outputs": [],
   "source": [
    "def closest_mod_5(x):\n",
    "    y = x\n",
    "    while y % 5 != 0: \n",
    "        y += 5 - (y % 5)\n",
    "        return y\n",
    "    else:\n",
    "        return y\n",
    "    \n",
    "print(closest_mod_5(6))    "
   ]
  },
  {
   "cell_type": "code",
   "execution_count": null,
   "id": "85591199",
   "metadata": {},
   "outputs": [],
   "source": [
    "def printab(a, b):\n",
    "    print(a)\n",
    "    print(b)\n",
    "    \n",
    "# Возможные виды передачи аргументов \n",
    "printab(10, 20)\n",
    "printab(a = 10, b = 20)\n",
    "printab(b = 20, a = 10)\n",
    "printab(10, b = 20)\n",
    "\n",
    "lst = [10, 20]\n",
    "printab(*lst)\n",
    "\n",
    "args = {'a': 10, 'b': 20}\n",
    "printab(**args)"
   ]
  },
  {
   "cell_type": "code",
   "execution_count": null,
   "id": "ae3ac2a2",
   "metadata": {},
   "outputs": [],
   "source": [
    "# Значения по умолчанию\n",
    "def printab(a, b):\n",
    "    print(a)\n",
    "    print(b)\n",
    "\n",
    "def printab(a, b = 20):\n",
    "    print(a)\n",
    "    print(b)    \n",
    "    \n",
    "def printab(a = 10, b = 10):\n",
    "    print(a)\n",
    "    print(b)    \n",
    "    \n",
    "# Некорректое\n",
    "# def printab(a = 10, b):\n",
    "#     print(a)\n",
    "#     print(b) \n"
   ]
  },
  {
   "cell_type": "code",
   "execution_count": null,
   "id": "3d1d9244",
   "metadata": {},
   "outputs": [],
   "source": [
    "# Сочетанием из n элементов по k называется\n",
    "# подмножество этих n элементов размера k.\n",
    "# Два сочетания называются различными,\n",
    "# если одно из сочетаний содержит элемент, который не содержит другое.\n",
    "# Числом сочетаний из n по k называется количество\n",
    "# различных сочетаний из n по k. Обозначим это число за C(n, k).\n",
    "\n",
    "def C(n, k):\n",
    "    if k == 0:\n",
    "        return 1\n",
    "    elif k > n:\n",
    "        return 0\n",
    "    else:\n",
    "        return C(n - 1, k) + C(n - 1, k - 1)\n",
    "    \n",
    "N, K = map(int, input().split())\n",
    "print(C(N,K))"
   ]
  },
  {
   "cell_type": "markdown",
   "id": "e69db42d",
   "metadata": {},
   "source": [
    "## Пространство имен и области видимости"
   ]
  },
  {
   "cell_type": "markdown",
   "id": "95084391",
   "metadata": {},
   "source": [
    "### Пространство имен"
   ]
  },
  {
   "cell_type": "code",
   "execution_count": null,
   "id": "898c3ce1",
   "metadata": {},
   "outputs": [],
   "source": [
    "# NameSpace - множество всех ссылок от имен до объектов \n",
    "a = [1, 2, 3]\n",
    "b = 14\n",
    "d = sorted(a)  # Интерпретатор находит в пространстве имен функцию 'sorted', \n",
    "               # далее интерпретатор находит переменную 'a' "
   ]
  },
  {
   "cell_type": "code",
   "execution_count": null,
   "id": "d7ec6126",
   "metadata": {},
   "outputs": [],
   "source": [
    "# Существует 3 пространства имен\n",
    "# Каждый вызов функции сопровождается созданием нового пространства имен\n",
    "# 1. builtins - пространство имен создается, когда запускается интерпретатор.\n",
    "#               Содержит все стандартные типы данных, а также стандартные функции\n",
    "# 2. nain - пространство является глобальным и содержит все имена, которые объявлены \n",
    "#           в начале кода. \n",
    "# 3. local - локальное постранство имен, которое создается при вызове функции,\n",
    "#            и разрушается при ее выполнении\n"
   ]
  },
  {
   "cell_type": "code",
   "execution_count": null,
   "id": "b867bd7b",
   "metadata": {},
   "outputs": [],
   "source": [
    "a = 1  # глобальный уровень\n",
    "def fun():  # глобальный уровень\n",
    "    x = 1  # Переменная еще не принадлежит ни одному пространству имен.\n",
    "           # т.к. тело функции не исполняется при определении\n",
    "    print(x)"
   ]
  },
  {
   "cell_type": "code",
   "execution_count": null,
   "id": "1eb94711",
   "metadata": {},
   "outputs": [],
   "source": [
    "t_c = 18  # глобальный уровень\n",
    "tmp = 'ok'  # глобальный уровень\n",
    "\n",
    "def fahrenheit(t_c):  # глобальный уровень\n",
    "    tmp = t_c * 9 / 5  # ** \n",
    "    return tmp + 32\n",
    "\n",
    "print(fahrenheit(t_c))  # ** при вызове функциисоздается локальный NameSpace\n",
    "                        # при завершении выполнения функции, локальный NameSpace\n",
    "                        # функции уничтожается\n",
    "                        # t_c - локальный NameSpace, которому передают значение \n",
    "                        # глобальной переменной t_c\n",
    "                        # tmp - локальная переменная, т.к. присутствует \n",
    "                        # оператор присваивания =\n",
    "print(tmp)"
   ]
  },
  {
   "cell_type": "markdown",
   "id": "e1c3f2f0",
   "metadata": {},
   "source": [
    "### Область видимости"
   ]
  },
  {
   "cell_type": "code",
   "execution_count": null,
   "id": "aca55977",
   "metadata": {},
   "outputs": [],
   "source": [
    "# 1. local scope\n",
    "# 2. enclosing scope\n",
    "# 3. global scope\n",
    "# 4. builtins"
   ]
  },
  {
   "cell_type": "code",
   "execution_count": null,
   "id": "9162975f",
   "metadata": {},
   "outputs": [],
   "source": [
    "# builtins scope -> global scope -> b scope -> a scope\n",
    "# Поиск имени происходит в NameSpace, которое соответсутвует данному scope\n",
    "# Если имени в нем нету, то поиск происходит в вышестоящем scope\n",
    "\n",
    "def b():               # ----------------------------------\n",
    "    x = 31             # -------------------              \\\n",
    "                       #                   \\              \\ \n",
    "    def a():           #                   \\ b - scope    \\ global scope   \n",
    "        print(x)       # ----  a - scope   \\              \\   \n",
    "    a()                # -------------------              \\\n",
    "b()                    # ----------------------------------"
   ]
  },
  {
   "cell_type": "code",
   "execution_count": null,
   "id": "19ae5a81",
   "metadata": {},
   "outputs": [],
   "source": [
    "#                                -> b scope \n",
    "# builtins scope -> global scope \n",
    "#                                -> a scope\n",
    "def a():\n",
    "    print(x)\n",
    "\n",
    "def b():\n",
    "    x = 31\n",
    "    a()\n",
    "    \n",
    "b()    "
   ]
  },
  {
   "cell_type": "code",
   "execution_count": null,
   "id": "a7174335",
   "metadata": {},
   "outputs": [],
   "source": [
    "#                                -> b scope \n",
    "# builtins scope -> global scope \n",
    "#                                -> a scope\n",
    "\n",
    "x = 11\n",
    "\n",
    "def a():\n",
    "    print(x)\n",
    "\n",
    "def b():\n",
    "    x = 31\n",
    "    a()\n",
    "    \n",
    "b()    "
   ]
  },
  {
   "cell_type": "code",
   "execution_count": null,
   "id": "f8e64ff2",
   "metadata": {},
   "outputs": [],
   "source": [
    "#                                -> b scope \n",
    "# builtins scope -> global scope \n",
    "#                                -> a scope\n",
    "\n",
    "x = 11\n",
    "\n",
    "def a(x):\n",
    "    print(x)\n",
    "\n",
    "def b():\n",
    "    x = 31\n",
    "    a(x)\n",
    "    \n",
    "b()    "
   ]
  },
  {
   "cell_type": "markdown",
   "id": "33b25433",
   "metadata": {},
   "source": [
    "### Условные операторы и циклы"
   ]
  },
  {
   "cell_type": "code",
   "execution_count": null,
   "id": "ab874c42",
   "metadata": {},
   "outputs": [],
   "source": [
    "# Локальные пространства имен не создаются, \n",
    "# когда мы используем условные операторы или циклы"
   ]
  },
  {
   "cell_type": "code",
   "execution_count": null,
   "id": "2520c91c",
   "metadata": {},
   "outputs": [],
   "source": [
    "x = 13\n",
    "if x % 2 == 1:\n",
    "    x += 1  # global NameSpace\n",
    "    \n",
    "print(x)    "
   ]
  },
  {
   "cell_type": "code",
   "execution_count": null,
   "id": "c2bb77b1",
   "metadata": {},
   "outputs": [],
   "source": [
    "for i in range(5):\n",
    "    x = i * i  # global NameSpace\n",
    "    \n",
    "print(x)    "
   ]
  },
  {
   "cell_type": "code",
   "execution_count": null,
   "id": "b1a2c0e4",
   "metadata": {},
   "outputs": [],
   "source": [
    "del z\n",
    "for i in []:\n",
    "    z = i * i  # global NameSpace\n",
    "    \n",
    "print(z)    "
   ]
  },
  {
   "cell_type": "markdown",
   "id": "e6442eba",
   "metadata": {},
   "source": [
    "### Изменение глобальных переменных внутри функции"
   ]
  },
  {
   "cell_type": "code",
   "execution_count": null,
   "id": "15ce247f",
   "metadata": {},
   "outputs": [],
   "source": [
    "ok_status = True\n",
    "vowels = ['a', 'u', 'i', 'e', 'o']\n",
    "\n",
    "def check(word):\n",
    "    global ok_status  #  применяется глобальная переменная ok_status\n",
    "    for vowel in vowels:\n",
    "        if vowel in word:\n",
    "            ok_status = True\n",
    "            return True\n",
    "    ok_status = False\n",
    "    return False\n",
    "\n",
    "\n",
    "print(check('www'))\n",
    "print(ok_status)\n",
    "print(check('abacao'))\n",
    "print(ok_status)"
   ]
  },
  {
   "cell_type": "code",
   "execution_count": null,
   "id": "c00a00e4",
   "metadata": {},
   "outputs": [],
   "source": [
    "def f():\n",
    "    ok_status = True  # Локальный NameSpace\n",
    "    vowels = ['a', 'u', 'i', 'e', 'o']\n",
    "\n",
    "    def check(word):\n",
    "        global ok_status  #  применяется глобальная переменная ok_status\n",
    "        for vowel in vowels:\n",
    "            if vowel in word:\n",
    "                ok_status = True  # аргумент из global NameSpace\n",
    "                return True\n",
    "        ok_status = False  # аргумент из global NameSpace\n",
    "        return False\n",
    "\n",
    "    print(check('abacao'))\n",
    "    print(ok_status)  # аргумент из local NameSpace\n",
    "    print(check('www'))\n",
    "    print(ok_status)  # аргумент из local NameSpace\n",
    "\n",
    "f()\n",
    "print(ok_status)"
   ]
  },
  {
   "cell_type": "code",
   "execution_count": null,
   "id": "7082e0ed",
   "metadata": {},
   "outputs": [],
   "source": [
    "del ok_status\n",
    "def f():\n",
    "    ok_status = True  # Локальный NameSpace\n",
    "    vowels = ['a', 'u', 'i', 'e', 'o']\n",
    "\n",
    "    def check(word):\n",
    "        nonlocal ok_status  # Поиск пространства имен, которое содержит ok_status\n",
    "                            # самый ближайший по вызову в стеке\n",
    "        for vowel in vowels:\n",
    "            if vowel in word:\n",
    "                ok_status = True  # аргумент из global NameSpace\n",
    "                return True\n",
    "        ok_status = False  # аргумент из global NameSpace\n",
    "        return False\n",
    "\n",
    "    print(check('abacao'))\n",
    "    print(ok_status)  # аргумент из local NameSpace\n",
    "    print(check('www'))\n",
    "    print(ok_status)  # аргумент из local NameSpace\n",
    "\n",
    "f()\n",
    "# print(ok_status)  # в глобальном NameSpace не существует"
   ]
  },
  {
   "cell_type": "code",
   "execution_count": null,
   "id": "63cddc87",
   "metadata": {},
   "outputs": [],
   "source": [
    "# Функция возвращает True, если namespace существует внутри родителя par (Словарь parent)\n",
    "# возвращает False, если namespace не существует внутри родителя par (Словарь parent)\n",
    "# Вход - пространство имен и его родитель\n",
    "# Выход - существует или нет\n",
    "def check_NS(namespace): \n",
    "    status = False\n",
    "    for key in parent.keys():   \n",
    "        if namespace == key:\n",
    "            status = True\n",
    "            break\n",
    "        else:\n",
    "            status = False\n",
    "    return status\n",
    "\n",
    "# Функция возвращает True, если arg существует внутри родителя namespace (Словарь var)\n",
    "# возвращает False, если arg не существует внутри родителя namespace (Словарь var)\n",
    "# Вход - пространство имен и переменная\n",
    "# Выход - существует или нет\n",
    "def check_var(namespace, arg): \n",
    "    status = False\n",
    "    for key, value in var.items():\n",
    "        if key != namespace:\n",
    "            continue\n",
    "        for el in value:\n",
    "            if arg == el:\n",
    "                status = True\n",
    "                break\n",
    "            else:\n",
    "                status = False\n",
    "    return status\n",
    "    \n",
    "# Функция возвращает родителя \n",
    "def find_parent(namespace):\n",
    "    for key, value in parent.items():   \n",
    "        if namespace == key:\n",
    "            return value\n",
    "    return 'None'    \n",
    "    \n",
    "# Функция создает пространство имен NameSpace внутри пространства par (Словарь parent)\n",
    "def create(namespace, par):\n",
    "    if not check_NS(namespace):\n",
    "        parent[namespace] = par\n",
    "        var[namespace] = list()\n",
    "    else:\n",
    "        print('Пространство уже сущестует')\n",
    "\n",
    "# Функция создает внутри пространства имен namespace (Словарь var) переменную var\n",
    "def add(namespace, arg):\n",
    "    if not check_var(namespace, arg) and check_NS(namespace):\n",
    "        var[namespace].append(arg)\n",
    "    else:\n",
    "        if not check_NS(namespace): \n",
    "            print('Пространство не существует')\n",
    "        else:\n",
    "            print('Переменная уже существует')\n",
    "\n",
    "# Функция возвращает пространство имен, в котором находится переменная arg\n",
    "def get(namespace, arg):\n",
    "    if check_var(namespace, arg):\n",
    "        return print(namespace)\n",
    "    elif namespace == \"None\":\n",
    "        print('None')\n",
    "        return \n",
    "    else:\n",
    "        return get(find_parent(namespace), arg)\n",
    "            \n",
    "#_______________________________\n",
    "#\n",
    "#       ОСНОВНАЯ ПРОГРАММА\n",
    "#_______________________________\n",
    "n = int(input())\n",
    "del parent\n",
    "parent = {'global': 'None'}  # Ключ - NameSpace, значение - Родитель\n",
    "var = {'global': []}  # Ключ - NameSpace, значение - [переменные]\n",
    "\n",
    "for i in range(n):\n",
    "    com, NS, v = input().split()\n",
    "    if com == 'create':\n",
    "        create(NS, v)\n",
    "    elif com == 'add':\n",
    "        add(NS, v)\n",
    "    elif com == 'get':\n",
    "        get(NS, v)\n",
    "    else:\n",
    "        print(\"Command is not correct\")"
   ]
  }
 ],
 "metadata": {
  "kernelspec": {
   "display_name": "Python 3 (ipykernel)",
   "language": "python",
   "name": "python3"
  },
  "language_info": {
   "codemirror_mode": {
    "name": "ipython",
    "version": 3
   },
   "file_extension": ".py",
   "mimetype": "text/x-python",
   "name": "python",
   "nbconvert_exporter": "python",
   "pygments_lexer": "ipython3",
   "version": "3.9.7"
  }
 },
 "nbformat": 4,
 "nbformat_minor": 5
}
