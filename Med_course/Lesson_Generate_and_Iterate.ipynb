{
 "cells": [
  {
   "cell_type": "markdown",
   "id": "c79a537b",
   "metadata": {},
   "source": [
    "# Итераторы и Генераотры"
   ]
  },
  {
   "cell_type": "markdown",
   "id": "def00417",
   "metadata": {},
   "source": [
    "## Итераторы"
   ]
  },
  {
   "cell_type": "code",
   "execution_count": null,
   "id": "4deb1c30",
   "metadata": {},
   "outputs": [],
   "source": [
    "# Итератор - класс, который перебирает ЭЛЕМЕНТЫ из множества (Объекта).\n",
    "# Когда все элементы были пройдены, то выпадает ошибка StopIteration"
   ]
  },
  {
   "cell_type": "code",
   "execution_count": 12,
   "id": "1574331b",
   "metadata": {},
   "outputs": [
    {
     "name": "stdout",
     "output_type": "stream",
     "text": [
      "<class 'str_iterator'>\n",
      "<class 'list_iterator'>\n",
      "a\n",
      "b\n",
      "c\n",
      "d\n",
      "f\n",
      "StopIteration\n"
     ]
    }
   ],
   "source": [
    "lst = ['a', 'b', 'c', 'd', 'f']\n",
    "string = 'asds'\n",
    "\n",
    "iteration = iter(string)\n",
    "print(type(iteration))\n",
    "iteration = iter(lst)\n",
    "print(type(iteration))\n",
    "\n",
    "print(next(iteration))\n",
    "print(next(iteration))\n",
    "print(next(iteration))\n",
    "print(next(iteration))\n",
    "print(next(iteration))\n",
    "\n",
    "try:\n",
    "    print(next(iteration)) # StopIteration\n",
    "except StopIteration:\n",
    "    print('StopIteration')"
   ]
  },
  {
   "cell_type": "code",
   "execution_count": 14,
   "id": "d639318e",
   "metadata": {},
   "outputs": [
    {
     "name": "stdout",
     "output_type": "stream",
     "text": [
      "Cycle for is\n",
      "a\n",
      "b\n",
      "c\n",
      "d\n",
      "f\n",
      "Cycle while is\n",
      "a\n",
      "b\n",
      "c\n",
      "d\n",
      "f\n"
     ]
    }
   ],
   "source": [
    "# Устройство цикла For\n",
    "\n",
    "lst = ['a', 'b', 'c', 'd', 'f']\n",
    "\n",
    "print('Cycle for is')\n",
    "for i in lst:\n",
    "    print(i)\n",
    "\n",
    "print('Cycle while is')    \n",
    "Iterator = iter(lst)    \n",
    "while True:\n",
    "    try:\n",
    "        i = next(Iterator)\n",
    "        print(i)\n",
    "    except StopIteration:\n",
    "        break"
   ]
  },
  {
   "cell_type": "code",
   "execution_count": 26,
   "id": "4bb4e94e",
   "metadata": {},
   "outputs": [
    {
     "name": "stdout",
     "output_type": "stream",
     "text": [
      "0.3558261577919304\n",
      "---------------\n",
      "0.70659476185199\n",
      "0.5412748196429541\n",
      "0.32285295417479987\n",
      "0.12136589405145126\n"
     ]
    }
   ],
   "source": [
    "# Свой итератор\n",
    "\n",
    "from random import random\n",
    "\n",
    "class RandomIterator:\n",
    "    def __init__(self, k):\n",
    "        self.k = k\n",
    "        self.i = 0\n",
    "        \n",
    "    def __iter__(self):\n",
    "        return self\n",
    "    \n",
    "    def __next__(self):\n",
    "        if self.i < self.k:\n",
    "            self.i += 1\n",
    "            return random()\n",
    "        else:\n",
    "            raise StopIteration\n",
    "    \n",
    "x = RandomIterator(3)\n",
    "print(next(x))  # next(x) --> x.__next__() Считает x - итератором\n",
    "\n",
    "print('---------------')\n",
    "\n",
    "for i in RandomIterator(4):\n",
    "    print(i)\n"
   ]
  },
  {
   "cell_type": "markdown",
   "id": "0188c063",
   "metadata": {},
   "source": [
    "## Генераторы"
   ]
  },
  {
   "cell_type": "code",
   "execution_count": null,
   "id": "3c8992ce",
   "metadata": {},
   "outputs": [],
   "source": [
    "# Описание генератора - функция!!!\n",
    "# С возвращаемым значением yield\n",
    "\n",
    "# Когда мы вызываем функцию с yield, нам возвращается генератор. \n",
    "# Объект примечателен тем, что знает целиком все тело нашей функции.\n",
    "# Исполнение происходит тогда, когда мы просим у генератора следующий элемент.\n",
    "# Генератор начинает исполнять нашу функцию до первого слова yield. После он\n",
    "# вернет значение наружу, запомнив состояние нашей функции, чтобы при\n",
    "# повторном запуске продолжить тело функции с места, где мы остановились.\n",
    "# Если мы не найдем место где остановились, то произойдет ошибка StopIteration\n",
    "# Исполнение тела функции происходит лишь тогда, когда вызываем next()"
   ]
  },
  {
   "cell_type": "code",
   "execution_count": 29,
   "id": "af4e586c",
   "metadata": {},
   "outputs": [
    {
     "name": "stdout",
     "output_type": "stream",
     "text": [
      "<class 'generator'>\n",
      "0.2616285781824643\n",
      "0.029637605405571033\n",
      "0.9649286073294688\n"
     ]
    }
   ],
   "source": [
    "from random import random\n",
    "\n",
    "# class RandomIterator:\n",
    "#     def __init__(self, k):\n",
    "#         self.k = k\n",
    "#         self.i = 0\n",
    "        \n",
    "#     def __iter__(self):\n",
    "#         return self\n",
    "    \n",
    "#     def __next__(self):\n",
    "#         if self.i < self.k:\n",
    "#             self.i += 1\n",
    "#             return random()\n",
    "#         else:\n",
    "#             raise StopIteration\n",
    "\n",
    "def RandomGenerator(k):\n",
    "    for i in range(k):\n",
    "        yield random()\n",
    "    \n",
    "gen = RandomGenerator(3)\n",
    "print(type(gen))\n",
    "\n",
    "for i in gen:  # Генератор - удобный способ написания итератора\n",
    "    print(i)"
   ]
  },
  {
   "cell_type": "code",
   "execution_count": 32,
   "id": "a1a123fa",
   "metadata": {},
   "outputs": [
    {
     "name": "stdout",
     "output_type": "stream",
     "text": [
      "<generator object simple_gen at 0x000001C0682740B0>\n",
      "checkpoint_1\n",
      "1\n",
      "checkpoint_2\n",
      "2\n"
     ]
    }
   ],
   "source": [
    "def simple_gen():\n",
    "    print('checkpoint_1')\n",
    "    yield 1\n",
    "    print('checkpoint_2')\n",
    "    yield 2\n",
    "    print('checkpoint_3')\n",
    "    \n",
    "gen = simple_gen()  \n",
    "print(gen)\n",
    "X = next(gen)\n",
    "print(X)\n",
    "Y = next(gen)\n",
    "print(Y)\n",
    "# Z = next(gen) StopIteration\n"
   ]
  },
  {
   "cell_type": "code",
   "execution_count": null,
   "id": "d7d24191",
   "metadata": {},
   "outputs": [],
   "source": []
  }
 ],
 "metadata": {
  "kernelspec": {
   "display_name": "Python 3 (ipykernel)",
   "language": "python",
   "name": "python3"
  },
  "language_info": {
   "codemirror_mode": {
    "name": "ipython",
    "version": 3
   },
   "file_extension": ".py",
   "mimetype": "text/x-python",
   "name": "python",
   "nbconvert_exporter": "python",
   "pygments_lexer": "ipython3",
   "version": "3.9.7"
  }
 },
 "nbformat": 4,
 "nbformat_minor": 5
}
