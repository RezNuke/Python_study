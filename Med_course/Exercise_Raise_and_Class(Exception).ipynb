{
 "cells": [
  {
   "cell_type": "code",
   "execution_count": 8,
   "id": "e0488d3e",
   "metadata": {},
   "outputs": [
    {
     "name": "stdout",
     "output_type": "stream",
     "text": [
      "-5\n",
      "-5 is not positive number\n",
      "Please Enter positive number!!!\n"
     ]
    }
   ],
   "source": [
    "class NonPositiveError(Exception):\n",
    "    def __init__(self, Num):\n",
    "        print(str(Num) + ' is not positive number')\n",
    "    \n",
    "\n",
    "class PositiveList(list):\n",
    "    def append(self, Num):\n",
    "        if Num > 0:\n",
    "            super(PositiveList, self).append(Num)\n",
    "        else:\n",
    "            raise NonPositiveError(Num)\n",
    "\n",
    "lst = PositiveList()\n",
    "try:\n",
    "    lst.append(int(input()))\n",
    "except NonPositiveError:\n",
    "    print('Please Enter positive number!!!')\n"
   ]
  },
  {
   "cell_type": "code",
   "execution_count": null,
   "id": "8b8ee65e",
   "metadata": {},
   "outputs": [],
   "source": []
  }
 ],
 "metadata": {
  "kernelspec": {
   "display_name": "Python 3 (ipykernel)",
   "language": "python",
   "name": "python3"
  },
  "language_info": {
   "codemirror_mode": {
    "name": "ipython",
    "version": 3
   },
   "file_extension": ".py",
   "mimetype": "text/x-python",
   "name": "python",
   "nbconvert_exporter": "python",
   "pygments_lexer": "ipython3",
   "version": "3.9.7"
  }
 },
 "nbformat": 4,
 "nbformat_minor": 5
}
