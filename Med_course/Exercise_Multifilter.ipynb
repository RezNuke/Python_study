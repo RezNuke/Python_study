{
 "cells": [
  {
   "cell_type": "code",
   "execution_count": 16,
   "id": "f42954e6",
   "metadata": {},
   "outputs": [
    {
     "name": "stdout",
     "output_type": "stream",
     "text": [
      "[0, 6]\n"
     ]
    }
   ],
   "source": [
    "class multifilter:\n",
    "    def judge_any(pos, neg):\n",
    "        return pos >= 1\n",
    "    \n",
    "    def judge_half(pos, neg):\n",
    "        return pos >= neg\n",
    "    \n",
    "    def judge_all(pos, neg):\n",
    "        return neg == 0\n",
    "        \n",
    "    def __init__(self, iterable, *funcs, judge=judge_any):\n",
    "        self.iter_order = iterable\n",
    "        self.funcs = funcs\n",
    "        self.judge = judge\n",
    "\n",
    "    def __iter__(self):\n",
    "        for el in self.iter_order:\n",
    "            pos = neg = 0\n",
    "            for func in self.funcs:\n",
    "                if func(el):\n",
    "                    pos += 1\n",
    "                else:\n",
    "                    neg += 1\n",
    "            if self.judge(pos, neg):\n",
    "                yield el\n",
    "\n",
    "                \n",
    "def mul2(x):\n",
    "    return x % 2 == 0\n",
    "\n",
    "def mul3(x):\n",
    "    return x % 3 == 0\n",
    "\n",
    "def mul5(x):\n",
    "    return x % 5 == 0\n",
    "        \n",
    "a = [x for x in range(10)]\n",
    "\n",
    "lst = list(multifilter(a, mul2, mul3, judge=multifilter.judge_all))\n",
    "print(lst) \n",
    "\n"
   ]
  },
  {
   "cell_type": "code",
   "execution_count": null,
   "id": "a500dc85",
   "metadata": {},
   "outputs": [],
   "source": []
  }
 ],
 "metadata": {
  "kernelspec": {
   "display_name": "Python 3 (ipykernel)",
   "language": "python",
   "name": "python3"
  },
  "language_info": {
   "codemirror_mode": {
    "name": "ipython",
    "version": 3
   },
   "file_extension": ".py",
   "mimetype": "text/x-python",
   "name": "python",
   "nbconvert_exporter": "python",
   "pygments_lexer": "ipython3",
   "version": "3.9.7"
  }
 },
 "nbformat": 4,
 "nbformat_minor": 5
}
