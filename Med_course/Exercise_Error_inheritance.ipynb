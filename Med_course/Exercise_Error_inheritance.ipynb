{
 "cells": [
  {
   "cell_type": "code",
   "execution_count": 2,
   "id": "dc92e927",
   "metadata": {},
   "outputs": [
    {
     "name": "stdout",
     "output_type": "stream",
     "text": [
      "5\n",
      "A : B C\n",
      "B : D\n",
      "C : D \n",
      "D : E\n",
      "E\n",
      "4\n",
      "E\n",
      "A\n",
      "A\n",
      "B\n",
      "B\n",
      "D\n",
      "D\n"
     ]
    }
   ],
   "source": [
    "# test = ['A : B C', 'B : D', 'C : D', 'D : E', 'E']\n",
    "# test_stack = ['E', 'A', 'B', 'C', 'D']\n",
    "\n",
    "\n",
    "Error_d = Error_d2 = {i[0] : i[2:] for i in [input().split() for _ in range(int(input()))]} # Наследник:Родитель\n",
    "for i in Error_d:\n",
    "    for j in Error_d[i]: \n",
    "        if Error_d[i] != []:\n",
    "            for z in Error_d[j]:\n",
    "                Error_d[i] += Error_d2[j] if z not in Error_d[i] else []\n",
    "\n",
    "# Error_d = Error_d2 = {i[0] : i[2:] for i in [test[j].split() for j in range(len(test))]} # Наследник:Родитель\n",
    "# for i in Error_d:\n",
    "#     for j in Error_d[i]: \n",
    "#         if Error_d[i] != []:\n",
    "#             for z in Error_d[j]:\n",
    "#                 Error_d[i] += Error_d2[j] if z not in Error_d[i] else []\n",
    "# print(Error_d)\n",
    "\n",
    "stack = []\n",
    "\n",
    "for _ in range(int(input())):\n",
    "    ch = input()\n",
    "    stack.append(ch)\n",
    "    for par in Error_d[ch]:\n",
    "        if par in stack[0:stack.index(ch)]:\n",
    "            print(ch)\n",
    "            break\n",
    "\n",
    "\n",
    "# for ch in test_stack:\n",
    "#     for par in Error_d[ch]:\n",
    "#         if par in test_stack[0:test_stack.index(ch)]:\n",
    "#             print(ch)\n",
    "\n",
    "\n",
    "# print(Error_d)\n"
   ]
  }
 ],
 "metadata": {
  "kernelspec": {
   "display_name": "Python 3 (ipykernel)",
   "language": "python",
   "name": "python3"
  },
  "language_info": {
   "codemirror_mode": {
    "name": "ipython",
    "version": 3
   },
   "file_extension": ".py",
   "mimetype": "text/x-python",
   "name": "python",
   "nbconvert_exporter": "python",
   "pygments_lexer": "ipython3",
   "version": "3.9.7"
  }
 },
 "nbformat": 4,
 "nbformat_minor": 5
}
