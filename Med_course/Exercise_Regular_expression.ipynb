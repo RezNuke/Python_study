{
 "cells": [
  {
   "cell_type": "code",
   "execution_count": null,
   "id": "8f4c9b39",
   "metadata": {},
   "outputs": [],
   "source": [
    "import re\n",
    "import sys\n",
    "\n",
    "pattern = r'cat'\n",
    "\n",
    "\n",
    "for line in sys.stdin:\n",
    "    line = line.rstrip()\n",
    "    if len(re.findall(pattern, line)) >= 2:\n",
    "        print(line)"
   ]
  },
  {
   "cell_type": "code",
   "execution_count": null,
   "id": "8fa4edc4",
   "metadata": {},
   "outputs": [],
   "source": [
    "import re\n",
    "import sys\n",
    "\n",
    "pattern = r'\\bcat\\b'\n",
    "\n",
    "for line in sys.stdin:\n",
    "    line = line.rstrip()\n",
    "    if re.search(pattern, line):\n",
    "        print(line)"
   ]
  },
  {
   "cell_type": "code",
   "execution_count": null,
   "id": "24a7916d",
   "metadata": {},
   "outputs": [],
   "source": [
    "import re\n",
    "import sys\n",
    "\n",
    "pattern = r'z\\w{3}z'\n",
    "\n",
    "for line in sys.stdin:\n",
    "    line = line.rstrip()\n",
    "    if re.search(pattern, line):\n",
    "        print(line)"
   ]
  },
  {
   "cell_type": "code",
   "execution_count": null,
   "id": "73d2eec5",
   "metadata": {},
   "outputs": [],
   "source": [
    "import re\n",
    "import sys\n",
    "\n",
    "pattern = r'z\\w{3}z'\n",
    "\n",
    "while True:\n",
    "    try:\n",
    "        line = input()\n",
    "        if re.search(pattern, line) is not None:\n",
    "            print(line)\n",
    "    except EOFError:\n",
    "        break"
   ]
  },
  {
   "cell_type": "code",
   "execution_count": null,
   "id": "a6edca49",
   "metadata": {},
   "outputs": [],
   "source": [
    "import re\n",
    "import sys\n",
    "\n",
    "pattern = r'[\\w+]{2}'\n",
    "\n",
    "for line in sys.stdin:\n",
    "    line = line.rstrip()\n",
    "    if re.search(pattern, line):\n",
    "        print(line)"
   ]
  },
  {
   "cell_type": "code",
   "execution_count": 1,
   "id": "df49da9e",
   "metadata": {},
   "outputs": [],
   "source": [
    "import re\n",
    "import sys\n",
    "\n",
    "pattern = r'human'\n",
    "\n",
    "for line in sys.stdin:\n",
    "    print(re.sub(pattern, 'computer', line.strip()) )  "
   ]
  },
  {
   "cell_type": "code",
   "execution_count": 17,
   "id": "2b9443ac",
   "metadata": {},
   "outputs": [],
   "source": [
    "import re\n",
    "import sys\n",
    "\n",
    "pattern = r'\\b[aA]+\\b'\n",
    "\n",
    "for line in sys.stdin:\n",
    "    print(re.sub(pattern, 'argh', line.strip(), count = 1))"
   ]
  },
  {
   "cell_type": "code",
   "execution_count": 21,
   "id": "f003d9df",
   "metadata": {},
   "outputs": [],
   "source": [
    "import re\n",
    "import sys\n",
    "\n",
    "pattern = r'(\\w)(\\w)(\\w*)'\n",
    "\n",
    "for line in sys.stdin:\n",
    "    print(re.sub(pattern, r'\\2\\1\\3', line.strip()))\n",
    "        \n",
    "    "
   ]
  },
  {
   "cell_type": "code",
   "execution_count": 20,
   "id": "1c9918f5",
   "metadata": {},
   "outputs": [
    {
     "name": "stdout",
     "output_type": "stream",
     "text": [
      "<re.Match object; span=(0, 78), match='FastEthernet0/1            10.0.12.1       YES ma>\n",
      "FastEthernet0/1\n",
      "10.0.12.1\n"
     ]
    }
   ],
   "source": [
    "import re\n",
    "import sys\n",
    "\n",
    "pattern = r'(\\w)\\1+'\n",
    "\n",
    "for line in sys.stdin:\n",
    "    print(re.sub(pattern, r'\\1', line.strip()))"
   ]
  },
  {
   "cell_type": "code",
   "execution_count": 75,
   "id": "b45ce123",
   "metadata": {},
   "outputs": [
    {
     "name": "stdout",
     "output_type": "stream",
     "text": [
      "1100\n",
      "0111\n"
     ]
    }
   ],
   "source": [
    "import re\n",
    "import sys\n",
    "\n",
    "pattern = r'(0|1)\\1+'\n",
    "lines = '1100 0111'\n",
    "\n",
    "for line in lines.split():\n",
    "    if re.search(pattern, line):\n",
    "        print(line)"
   ]
  }
 ],
 "metadata": {
  "kernelspec": {
   "display_name": "Python 3 (ipykernel)",
   "language": "python",
   "name": "python3"
  },
  "language_info": {
   "codemirror_mode": {
    "name": "ipython",
    "version": 3
   },
   "file_extension": ".py",
   "mimetype": "text/x-python",
   "name": "python",
   "nbconvert_exporter": "python",
   "pygments_lexer": "ipython3",
   "version": "3.9.7"
  }
 },
 "nbformat": 4,
 "nbformat_minor": 5
}
