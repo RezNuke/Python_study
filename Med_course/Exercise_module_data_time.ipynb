{
 "cells": [
  {
   "cell_type": "code",
   "execution_count": 53,
   "id": "00e86ab5",
   "metadata": {},
   "outputs": [
    {
     "name": "stdout",
     "output_type": "stream",
     "text": [
      "2016 2 20\n",
      "14\n",
      "2016 3 5\n"
     ]
    }
   ],
   "source": [
    "import datetime\n",
    "\n",
    "date_year, date_month, date_day = map(int, input().split())\n",
    "days = int(input())\n",
    "data = datetime.date(date_year, date_month, date_day) + datetime.timedelta(days)\n",
    "\n",
    "print(data.strftime(\"%Y %-m %-d\"))\n"
   ]
  },
  {
   "cell_type": "code",
   "execution_count": 57,
   "id": "4d87983f",
   "metadata": {},
   "outputs": [
    {
     "name": "stdout",
     "output_type": "stream",
     "text": [
      "2020 12 31\n",
      "1\n",
      "2021 1 1\n"
     ]
    }
   ],
   "source": [
    "import datetime\n",
    "\n",
    "data = datetime.date(*map(int, input().split()))\n",
    "delta = datetime.timedelta(int(input()))\n",
    "new_data = data + delta\n",
    "print(new_data.year, new_data.month, new_data.day)"
   ]
  }
 ],
 "metadata": {
  "kernelspec": {
   "display_name": "Python 3 (ipykernel)",
   "language": "python",
   "name": "python3"
  },
  "language_info": {
   "codemirror_mode": {
    "name": "ipython",
    "version": 3
   },
   "file_extension": ".py",
   "mimetype": "text/x-python",
   "name": "python",
   "nbconvert_exporter": "python",
   "pygments_lexer": "ipython3",
   "version": "3.9.7"
  }
 },
 "nbformat": 4,
 "nbformat_minor": 5
}
