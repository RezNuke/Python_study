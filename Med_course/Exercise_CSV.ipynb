{
 "cells": [
  {
   "cell_type": "code",
   "execution_count": 50,
   "id": "33df952b",
   "metadata": {
    "scrolled": false
   },
   "outputs": [
    {
     "name": "stdout",
     "output_type": "stream",
     "text": [
      "THEFT\n"
     ]
    }
   ],
   "source": [
    "import csv\n",
    "import re\n",
    "\n",
    "file_path = 'D:\\Programming\\Stepik_course\\Readable files\\Crimes.csv'\n",
    "pattern_date = r'/2015 '\n",
    "crime_d = dict()\n",
    "\n",
    "with open(file_path) as f:\n",
    "    crime_dict = csv.DictReader(f)\n",
    "    for row in crime_dict:                  \n",
    "        if re.search(pattern_date, str(row)):\n",
    "            if row['Primary Type'] not in crime_d:\n",
    "                crime_d[row['Primary Type']] = 1\n",
    "            else:    \n",
    "                crime_d[row['Primary Type']] += 1 \n",
    "\n",
    "print(max(crime_d, key=lambda x: crime_d[x]))\n"
   ]
  },
  {
   "cell_type": "code",
   "execution_count": 49,
   "id": "9f801abf",
   "metadata": {},
   "outputs": [
    {
     "name": "stdout",
     "output_type": "stream",
     "text": [
      "THEFT\n"
     ]
    }
   ],
   "source": [
    "import csv\n",
    "\n",
    "counter_dict = {}\n",
    "with open('D:\\Programming\\Stepik_course\\Readable files\\Crimes.csv', 'r') as file:\n",
    "    reader = csv.DictReader(file)\n",
    "    for row in reader:\n",
    "        if str(row['Date'])[6:10] == '2015':\n",
    "            counter_dict.setdefault(row['Primary Type'], 0)\n",
    "            counter_dict[row['Primary Type']] += 1\n",
    "print(max(counter_dict, key=lambda x: counter_dict[x]))"
   ]
  }
 ],
 "metadata": {
  "kernelspec": {
   "display_name": "Python 3 (ipykernel)",
   "language": "python",
   "name": "python3"
  },
  "language_info": {
   "codemirror_mode": {
    "name": "ipython",
    "version": 3
   },
   "file_extension": ".py",
   "mimetype": "text/x-python",
   "name": "python",
   "nbconvert_exporter": "python",
   "pygments_lexer": "ipython3",
   "version": "3.9.7"
  }
 },
 "nbformat": 4,
 "nbformat_minor": 5
}
