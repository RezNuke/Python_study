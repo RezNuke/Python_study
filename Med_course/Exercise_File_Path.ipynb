{
 "cells": [
  {
   "cell_type": "code",
   "execution_count": 78,
   "id": "1bb9017b",
   "metadata": {},
   "outputs": [
    {
     "name": "stdout",
     "output_type": "stream",
     "text": [
      "104\n"
     ]
    }
   ],
   "source": [
    "import os\n",
    "import os.path\n",
    "\n",
    "path = 'D:\\Programming\\Stepik_course\\Readable files\\File_directory.txt'\n",
    "\n",
    "os.chdir('D:\\Programming\\Stepik_course\\Readable files\\main')\n",
    "\n",
    "with open(path, 'w') as f:\n",
    "    pass\n",
    "\n",
    "file_path = []\n",
    "status_py = False\n",
    "\n",
    "for current_dir, dirs, files in os.walk('.'):\n",
    "    status_py = False\n",
    "    for file_ in files:\n",
    "        if file_.find('.py') != -1:\n",
    "            status_py = True\n",
    "            break\n",
    "    if status_py:\n",
    "        file_path.append(f'{current_dir[2:]}\\n'.replace('/', '\\\\'))\n",
    "        continue\n",
    "                \n",
    "file_path.sort()\n",
    "\n",
    "with open(path, 'a') as f:\n",
    "    for el in file_path:\n",
    "        f.writelines(el)\n",
    "        \n",
    "print(len(file_path))"
   ]
  },
  {
   "cell_type": "code",
   "execution_count": null,
   "id": "01d13028",
   "metadata": {},
   "outputs": [],
   "source": []
  }
 ],
 "metadata": {
  "kernelspec": {
   "display_name": "Python 3 (ipykernel)",
   "language": "python",
   "name": "python3"
  },
  "language_info": {
   "codemirror_mode": {
    "name": "ipython",
    "version": 3
   },
   "file_extension": ".py",
   "mimetype": "text/x-python",
   "name": "python",
   "nbconvert_exporter": "python",
   "pygments_lexer": "ipython3",
   "version": "3.9.7"
  }
 },
 "nbformat": 4,
 "nbformat_minor": 5
}
